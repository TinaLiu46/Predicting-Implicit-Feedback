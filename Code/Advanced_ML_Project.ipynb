{
 "cells": [
  {
   "cell_type": "code",
   "execution_count": 86,
   "id": "b3e14900",
   "metadata": {},
   "outputs": [],
   "source": [
    "import pandas as pd\n",
    "import numpy as np"
   ]
  },
  {
   "cell_type": "code",
   "execution_count": 441,
   "id": "02a94ed6",
   "metadata": {},
   "outputs": [],
   "source": [
    "sample = pd.read_csv(\"~/Downloads/sample_submission.csv\")"
   ]
  },
  {
   "cell_type": "code",
   "execution_count": 383,
   "id": "69a783e9",
   "metadata": {},
   "outputs": [
    {
     "data": {
      "text/html": [
       "<div>\n",
       "<style scoped>\n",
       "    .dataframe tbody tr th:only-of-type {\n",
       "        vertical-align: middle;\n",
       "    }\n",
       "\n",
       "    .dataframe tbody tr th {\n",
       "        vertical-align: top;\n",
       "    }\n",
       "\n",
       "    .dataframe thead th {\n",
       "        text-align: right;\n",
       "    }\n",
       "</style>\n",
       "<table border=\"1\" class=\"dataframe\">\n",
       "  <thead>\n",
       "    <tr style=\"text-align: right;\">\n",
       "      <th></th>\n",
       "      <th>id</th>\n",
       "      <th>user_id</th>\n",
       "      <th>item_id</th>\n",
       "      <th>context_feature_id</th>\n",
       "    </tr>\n",
       "  </thead>\n",
       "  <tbody>\n",
       "    <tr>\n",
       "      <th>0</th>\n",
       "      <td>0</td>\n",
       "      <td>4</td>\n",
       "      <td>16835</td>\n",
       "      <td>2</td>\n",
       "    </tr>\n",
       "    <tr>\n",
       "      <th>1</th>\n",
       "      <td>1</td>\n",
       "      <td>4</td>\n",
       "      <td>22590</td>\n",
       "      <td>3</td>\n",
       "    </tr>\n",
       "    <tr>\n",
       "      <th>2</th>\n",
       "      <td>2</td>\n",
       "      <td>4</td>\n",
       "      <td>1978</td>\n",
       "      <td>1</td>\n",
       "    </tr>\n",
       "    <tr>\n",
       "      <th>3</th>\n",
       "      <td>3</td>\n",
       "      <td>4</td>\n",
       "      <td>28916</td>\n",
       "      <td>1</td>\n",
       "    </tr>\n",
       "    <tr>\n",
       "      <th>4</th>\n",
       "      <td>4</td>\n",
       "      <td>4</td>\n",
       "      <td>14427</td>\n",
       "      <td>2</td>\n",
       "    </tr>\n",
       "    <tr>\n",
       "      <th>...</th>\n",
       "      <td>...</td>\n",
       "      <td>...</td>\n",
       "      <td>...</td>\n",
       "      <td>...</td>\n",
       "    </tr>\n",
       "    <tr>\n",
       "      <th>381380</th>\n",
       "      <td>381380</td>\n",
       "      <td>200151</td>\n",
       "      <td>1702</td>\n",
       "      <td>1</td>\n",
       "    </tr>\n",
       "    <tr>\n",
       "      <th>381381</th>\n",
       "      <td>381381</td>\n",
       "      <td>200151</td>\n",
       "      <td>21632</td>\n",
       "      <td>1</td>\n",
       "    </tr>\n",
       "    <tr>\n",
       "      <th>381382</th>\n",
       "      <td>381382</td>\n",
       "      <td>200151</td>\n",
       "      <td>30477</td>\n",
       "      <td>1</td>\n",
       "    </tr>\n",
       "    <tr>\n",
       "      <th>381383</th>\n",
       "      <td>381383</td>\n",
       "      <td>200151</td>\n",
       "      <td>30477</td>\n",
       "      <td>1</td>\n",
       "    </tr>\n",
       "    <tr>\n",
       "      <th>381384</th>\n",
       "      <td>381384</td>\n",
       "      <td>200151</td>\n",
       "      <td>17715</td>\n",
       "      <td>1</td>\n",
       "    </tr>\n",
       "  </tbody>\n",
       "</table>\n",
       "<p>381385 rows × 4 columns</p>\n",
       "</div>"
      ],
      "text/plain": [
       "            id  user_id  item_id  context_feature_id\n",
       "0            0        4    16835                   2\n",
       "1            1        4    22590                   3\n",
       "2            2        4     1978                   1\n",
       "3            3        4    28916                   1\n",
       "4            4        4    14427                   2\n",
       "...        ...      ...      ...                 ...\n",
       "381380  381380   200151     1702                   1\n",
       "381381  381381   200151    21632                   1\n",
       "381382  381382   200151    30477                   1\n",
       "381383  381383   200151    30477                   1\n",
       "381384  381384   200151    17715                   1\n",
       "\n",
       "[381385 rows x 4 columns]"
      ]
     },
     "execution_count": 383,
     "metadata": {},
     "output_type": "execute_result"
    }
   ],
   "source": [
    "test_set = pd.read_csv(\"~/Downloads/test_kaggle.csv\")\n",
    "test_set"
   ]
  },
  {
   "cell_type": "code",
   "execution_count": 9,
   "id": "c6b8a921",
   "metadata": {},
   "outputs": [
    {
     "data": {
      "text/html": [
       "<div>\n",
       "<style scoped>\n",
       "    .dataframe tbody tr th:only-of-type {\n",
       "        vertical-align: middle;\n",
       "    }\n",
       "\n",
       "    .dataframe tbody tr th {\n",
       "        vertical-align: top;\n",
       "    }\n",
       "\n",
       "    .dataframe thead th {\n",
       "        text-align: right;\n",
       "    }\n",
       "</style>\n",
       "<table border=\"1\" class=\"dataframe\">\n",
       "  <thead>\n",
       "    <tr style=\"text-align: right;\">\n",
       "      <th></th>\n",
       "      <th>user_id</th>\n",
       "      <th>item_id</th>\n",
       "      <th>context_feature_id</th>\n",
       "    </tr>\n",
       "  </thead>\n",
       "  <tbody>\n",
       "    <tr>\n",
       "      <th>0</th>\n",
       "      <td>0</td>\n",
       "      <td>28366</td>\n",
       "      <td>2</td>\n",
       "    </tr>\n",
       "    <tr>\n",
       "      <th>1</th>\n",
       "      <td>0</td>\n",
       "      <td>16109</td>\n",
       "      <td>2</td>\n",
       "    </tr>\n",
       "    <tr>\n",
       "      <th>2</th>\n",
       "      <td>0</td>\n",
       "      <td>11500</td>\n",
       "      <td>3</td>\n",
       "    </tr>\n",
       "    <tr>\n",
       "      <th>3</th>\n",
       "      <td>0</td>\n",
       "      <td>20750</td>\n",
       "      <td>2</td>\n",
       "    </tr>\n",
       "    <tr>\n",
       "      <th>4</th>\n",
       "      <td>0</td>\n",
       "      <td>8759</td>\n",
       "      <td>2</td>\n",
       "    </tr>\n",
       "    <tr>\n",
       "      <th>...</th>\n",
       "      <td>...</td>\n",
       "      <td>...</td>\n",
       "      <td>...</td>\n",
       "    </tr>\n",
       "    <tr>\n",
       "      <th>970240</th>\n",
       "      <td>200152</td>\n",
       "      <td>30710</td>\n",
       "      <td>2</td>\n",
       "    </tr>\n",
       "    <tr>\n",
       "      <th>970241</th>\n",
       "      <td>200152</td>\n",
       "      <td>30710</td>\n",
       "      <td>2</td>\n",
       "    </tr>\n",
       "    <tr>\n",
       "      <th>970242</th>\n",
       "      <td>200152</td>\n",
       "      <td>12006</td>\n",
       "      <td>2</td>\n",
       "    </tr>\n",
       "    <tr>\n",
       "      <th>970243</th>\n",
       "      <td>200152</td>\n",
       "      <td>25030</td>\n",
       "      <td>2</td>\n",
       "    </tr>\n",
       "    <tr>\n",
       "      <th>970244</th>\n",
       "      <td>200152</td>\n",
       "      <td>14578</td>\n",
       "      <td>2</td>\n",
       "    </tr>\n",
       "  </tbody>\n",
       "</table>\n",
       "<p>970245 rows × 3 columns</p>\n",
       "</div>"
      ],
      "text/plain": [
       "        user_id  item_id  context_feature_id\n",
       "0             0    28366                   2\n",
       "1             0    16109                   2\n",
       "2             0    11500                   3\n",
       "3             0    20750                   2\n",
       "4             0     8759                   2\n",
       "...         ...      ...                 ...\n",
       "970240   200152    30710                   2\n",
       "970241   200152    30710                   2\n",
       "970242   200152    12006                   2\n",
       "970243   200152    25030                   2\n",
       "970244   200152    14578                   2\n",
       "\n",
       "[970245 rows x 3 columns]"
      ]
     },
     "execution_count": 9,
     "metadata": {},
     "output_type": "execute_result"
    }
   ],
   "source": [
    "df_train = pd.read_csv(\"~/Downloads/training.csv\")\n",
    "df_train"
   ]
  },
  {
   "cell_type": "code",
   "execution_count": 10,
   "id": "0e17c597",
   "metadata": {},
   "outputs": [
    {
     "data": {
      "text/html": [
       "<div>\n",
       "<style scoped>\n",
       "    .dataframe tbody tr th:only-of-type {\n",
       "        vertical-align: middle;\n",
       "    }\n",
       "\n",
       "    .dataframe tbody tr th {\n",
       "        vertical-align: top;\n",
       "    }\n",
       "\n",
       "    .dataframe thead th {\n",
       "        text-align: right;\n",
       "    }\n",
       "</style>\n",
       "<table border=\"1\" class=\"dataframe\">\n",
       "  <thead>\n",
       "    <tr style=\"text-align: right;\">\n",
       "      <th></th>\n",
       "      <th>item_id</th>\n",
       "      <th>item_feature_id</th>\n",
       "    </tr>\n",
       "  </thead>\n",
       "  <tbody>\n",
       "    <tr>\n",
       "      <th>0</th>\n",
       "      <td>0</td>\n",
       "      <td>139</td>\n",
       "    </tr>\n",
       "    <tr>\n",
       "      <th>1</th>\n",
       "      <td>1</td>\n",
       "      <td>55</td>\n",
       "    </tr>\n",
       "    <tr>\n",
       "      <th>2</th>\n",
       "      <td>2</td>\n",
       "      <td>11</td>\n",
       "    </tr>\n",
       "    <tr>\n",
       "      <th>3</th>\n",
       "      <td>3</td>\n",
       "      <td>138</td>\n",
       "    </tr>\n",
       "    <tr>\n",
       "      <th>4</th>\n",
       "      <td>4</td>\n",
       "      <td>138</td>\n",
       "    </tr>\n",
       "    <tr>\n",
       "      <th>...</th>\n",
       "      <td>...</td>\n",
       "      <td>...</td>\n",
       "    </tr>\n",
       "    <tr>\n",
       "      <th>39896</th>\n",
       "      <td>39896</td>\n",
       "      <td>138</td>\n",
       "    </tr>\n",
       "    <tr>\n",
       "      <th>39897</th>\n",
       "      <td>39897</td>\n",
       "      <td>95</td>\n",
       "    </tr>\n",
       "    <tr>\n",
       "      <th>39898</th>\n",
       "      <td>39898</td>\n",
       "      <td>142</td>\n",
       "    </tr>\n",
       "    <tr>\n",
       "      <th>39899</th>\n",
       "      <td>39899</td>\n",
       "      <td>131</td>\n",
       "    </tr>\n",
       "    <tr>\n",
       "      <th>39900</th>\n",
       "      <td>39900</td>\n",
       "      <td>2</td>\n",
       "    </tr>\n",
       "  </tbody>\n",
       "</table>\n",
       "<p>39901 rows × 2 columns</p>\n",
       "</div>"
      ],
      "text/plain": [
       "       item_id  item_feature_id\n",
       "0            0              139\n",
       "1            1               55\n",
       "2            2               11\n",
       "3            3              138\n",
       "4            4              138\n",
       "...        ...              ...\n",
       "39896    39896              138\n",
       "39897    39897               95\n",
       "39898    39898              142\n",
       "39899    39899              131\n",
       "39900    39900                2\n",
       "\n",
       "[39901 rows x 2 columns]"
      ]
     },
     "execution_count": 10,
     "metadata": {},
     "output_type": "execute_result"
    }
   ],
   "source": [
    "df_feature = pd.read_csv(\"~/Downloads/item_feature.csv\")\n",
    "df_feature"
   ]
  },
  {
   "cell_type": "markdown",
   "id": "82efa249",
   "metadata": {},
   "source": [
    "### Merge two dataframe based on \"item_id\" - the new dataframe called \"df_full\""
   ]
  },
  {
   "cell_type": "code",
   "execution_count": 68,
   "id": "75a7c283",
   "metadata": {},
   "outputs": [
    {
     "data": {
      "text/html": [
       "<div>\n",
       "<style scoped>\n",
       "    .dataframe tbody tr th:only-of-type {\n",
       "        vertical-align: middle;\n",
       "    }\n",
       "\n",
       "    .dataframe tbody tr th {\n",
       "        vertical-align: top;\n",
       "    }\n",
       "\n",
       "    .dataframe thead th {\n",
       "        text-align: right;\n",
       "    }\n",
       "</style>\n",
       "<table border=\"1\" class=\"dataframe\">\n",
       "  <thead>\n",
       "    <tr style=\"text-align: right;\">\n",
       "      <th></th>\n",
       "      <th>user_id</th>\n",
       "      <th>item_id</th>\n",
       "      <th>context_feature_id</th>\n",
       "      <th>item_feature_id</th>\n",
       "    </tr>\n",
       "  </thead>\n",
       "  <tbody>\n",
       "    <tr>\n",
       "      <th>0</th>\n",
       "      <td>0</td>\n",
       "      <td>28366</td>\n",
       "      <td>2</td>\n",
       "      <td>7</td>\n",
       "    </tr>\n",
       "    <tr>\n",
       "      <th>1</th>\n",
       "      <td>0</td>\n",
       "      <td>16109</td>\n",
       "      <td>2</td>\n",
       "      <td>7</td>\n",
       "    </tr>\n",
       "    <tr>\n",
       "      <th>2</th>\n",
       "      <td>0</td>\n",
       "      <td>11500</td>\n",
       "      <td>3</td>\n",
       "      <td>7</td>\n",
       "    </tr>\n",
       "    <tr>\n",
       "      <th>3</th>\n",
       "      <td>0</td>\n",
       "      <td>20750</td>\n",
       "      <td>2</td>\n",
       "      <td>7</td>\n",
       "    </tr>\n",
       "    <tr>\n",
       "      <th>4</th>\n",
       "      <td>0</td>\n",
       "      <td>8759</td>\n",
       "      <td>2</td>\n",
       "      <td>7</td>\n",
       "    </tr>\n",
       "    <tr>\n",
       "      <th>...</th>\n",
       "      <td>...</td>\n",
       "      <td>...</td>\n",
       "      <td>...</td>\n",
       "      <td>...</td>\n",
       "    </tr>\n",
       "    <tr>\n",
       "      <th>970240</th>\n",
       "      <td>200152</td>\n",
       "      <td>30710</td>\n",
       "      <td>2</td>\n",
       "      <td>148</td>\n",
       "    </tr>\n",
       "    <tr>\n",
       "      <th>970241</th>\n",
       "      <td>200152</td>\n",
       "      <td>30710</td>\n",
       "      <td>2</td>\n",
       "      <td>148</td>\n",
       "    </tr>\n",
       "    <tr>\n",
       "      <th>970242</th>\n",
       "      <td>200152</td>\n",
       "      <td>12006</td>\n",
       "      <td>2</td>\n",
       "      <td>148</td>\n",
       "    </tr>\n",
       "    <tr>\n",
       "      <th>970243</th>\n",
       "      <td>200152</td>\n",
       "      <td>25030</td>\n",
       "      <td>2</td>\n",
       "      <td>148</td>\n",
       "    </tr>\n",
       "    <tr>\n",
       "      <th>970244</th>\n",
       "      <td>200152</td>\n",
       "      <td>14578</td>\n",
       "      <td>2</td>\n",
       "      <td>148</td>\n",
       "    </tr>\n",
       "  </tbody>\n",
       "</table>\n",
       "<p>970245 rows × 4 columns</p>\n",
       "</div>"
      ],
      "text/plain": [
       "        user_id  item_id  context_feature_id  item_feature_id\n",
       "0             0    28366                   2                7\n",
       "1             0    16109                   2                7\n",
       "2             0    11500                   3                7\n",
       "3             0    20750                   2                7\n",
       "4             0     8759                   2                7\n",
       "...         ...      ...                 ...              ...\n",
       "970240   200152    30710                   2              148\n",
       "970241   200152    30710                   2              148\n",
       "970242   200152    12006                   2              148\n",
       "970243   200152    25030                   2              148\n",
       "970244   200152    14578                   2              148\n",
       "\n",
       "[970245 rows x 4 columns]"
      ]
     },
     "execution_count": 68,
     "metadata": {},
     "output_type": "execute_result"
    }
   ],
   "source": [
    "df_full = df_train.merge(df_feature , how='left', on='item_id')\n",
    "df_full"
   ]
  },
  {
   "cell_type": "markdown",
   "id": "691f098f",
   "metadata": {},
   "source": [
    "### Only keep user and item two columns - the new dataframe called \"df_user_item\""
   ]
  },
  {
   "cell_type": "code",
   "execution_count": 70,
   "id": "bdf18b17",
   "metadata": {},
   "outputs": [
    {
     "data": {
      "text/html": [
       "<div>\n",
       "<style scoped>\n",
       "    .dataframe tbody tr th:only-of-type {\n",
       "        vertical-align: middle;\n",
       "    }\n",
       "\n",
       "    .dataframe tbody tr th {\n",
       "        vertical-align: top;\n",
       "    }\n",
       "\n",
       "    .dataframe thead th {\n",
       "        text-align: right;\n",
       "    }\n",
       "</style>\n",
       "<table border=\"1\" class=\"dataframe\">\n",
       "  <thead>\n",
       "    <tr style=\"text-align: right;\">\n",
       "      <th></th>\n",
       "      <th>user_id</th>\n",
       "      <th>item_id</th>\n",
       "    </tr>\n",
       "  </thead>\n",
       "  <tbody>\n",
       "    <tr>\n",
       "      <th>0</th>\n",
       "      <td>0</td>\n",
       "      <td>28366</td>\n",
       "    </tr>\n",
       "    <tr>\n",
       "      <th>1</th>\n",
       "      <td>0</td>\n",
       "      <td>16109</td>\n",
       "    </tr>\n",
       "    <tr>\n",
       "      <th>2</th>\n",
       "      <td>0</td>\n",
       "      <td>11500</td>\n",
       "    </tr>\n",
       "    <tr>\n",
       "      <th>3</th>\n",
       "      <td>0</td>\n",
       "      <td>20750</td>\n",
       "    </tr>\n",
       "    <tr>\n",
       "      <th>4</th>\n",
       "      <td>0</td>\n",
       "      <td>8759</td>\n",
       "    </tr>\n",
       "    <tr>\n",
       "      <th>...</th>\n",
       "      <td>...</td>\n",
       "      <td>...</td>\n",
       "    </tr>\n",
       "    <tr>\n",
       "      <th>970240</th>\n",
       "      <td>200152</td>\n",
       "      <td>30710</td>\n",
       "    </tr>\n",
       "    <tr>\n",
       "      <th>970241</th>\n",
       "      <td>200152</td>\n",
       "      <td>30710</td>\n",
       "    </tr>\n",
       "    <tr>\n",
       "      <th>970242</th>\n",
       "      <td>200152</td>\n",
       "      <td>12006</td>\n",
       "    </tr>\n",
       "    <tr>\n",
       "      <th>970243</th>\n",
       "      <td>200152</td>\n",
       "      <td>25030</td>\n",
       "    </tr>\n",
       "    <tr>\n",
       "      <th>970244</th>\n",
       "      <td>200152</td>\n",
       "      <td>14578</td>\n",
       "    </tr>\n",
       "  </tbody>\n",
       "</table>\n",
       "<p>970245 rows × 2 columns</p>\n",
       "</div>"
      ],
      "text/plain": [
       "        user_id  item_id\n",
       "0             0    28366\n",
       "1             0    16109\n",
       "2             0    11500\n",
       "3             0    20750\n",
       "4             0     8759\n",
       "...         ...      ...\n",
       "970240   200152    30710\n",
       "970241   200152    30710\n",
       "970242   200152    12006\n",
       "970243   200152    25030\n",
       "970244   200152    14578\n",
       "\n",
       "[970245 rows x 2 columns]"
      ]
     },
     "execution_count": 70,
     "metadata": {},
     "output_type": "execute_result"
    }
   ],
   "source": [
    "df_user_item = df_full[['user_id','item_id']]\n",
    "df_user_item"
   ]
  },
  {
   "cell_type": "code",
   "execution_count": 77,
   "id": "b0b244a2",
   "metadata": {},
   "outputs": [],
   "source": [
    "# drop duplicate rows\n",
    "df_user_item = df_user_item.drop_duplicates()"
   ]
  },
  {
   "cell_type": "markdown",
   "id": "ec0d25ab",
   "metadata": {},
   "source": [
    "### Below is some EDA proess"
   ]
  },
  {
   "cell_type": "code",
   "execution_count": 78,
   "id": "4616007f",
   "metadata": {},
   "outputs": [
    {
     "data": {
      "text/plain": [
       "169698"
      ]
     },
     "execution_count": 78,
     "metadata": {},
     "output_type": "execute_result"
    }
   ],
   "source": [
    "len(df_full['user_id'].unique())"
   ]
  },
  {
   "cell_type": "code",
   "execution_count": 79,
   "id": "09b390c7",
   "metadata": {},
   "outputs": [
    {
     "data": {
      "text/plain": [
       "37978"
      ]
     },
     "execution_count": 79,
     "metadata": {},
     "output_type": "execute_result"
    }
   ],
   "source": [
    "len(df_full['item_id'].unique())"
   ]
  },
  {
   "cell_type": "code",
   "execution_count": 80,
   "id": "a4408a02",
   "metadata": {},
   "outputs": [
    {
     "data": {
      "text/plain": [
       "4"
      ]
     },
     "execution_count": 80,
     "metadata": {},
     "output_type": "execute_result"
    }
   ],
   "source": [
    "len(df_full['context_feature_id'].unique())"
   ]
  },
  {
   "cell_type": "code",
   "execution_count": 81,
   "id": "e70505e6",
   "metadata": {},
   "outputs": [
    {
     "data": {
      "text/plain": [
       "183"
      ]
     },
     "execution_count": 81,
     "metadata": {},
     "output_type": "execute_result"
    }
   ],
   "source": [
    "len(df_full['item_feature_id'].unique())"
   ]
  },
  {
   "cell_type": "code",
   "execution_count": 115,
   "id": "20283526",
   "metadata": {},
   "outputs": [
    {
     "data": {
      "text/plain": [
       "39900"
      ]
     },
     "execution_count": 115,
     "metadata": {},
     "output_type": "execute_result"
    }
   ],
   "source": [
    "df_full['item_id'].unique().max()"
   ]
  },
  {
   "cell_type": "markdown",
   "id": "16685a87",
   "metadata": {},
   "source": [
    "## Negative Sampling "
   ]
  },
  {
   "cell_type": "markdown",
   "id": "24bd7e05",
   "metadata": {},
   "source": [
    "### User-based (Randomly add same number of zeros based on number of ones per user)"
   ]
  },
  {
   "cell_type": "code",
   "execution_count": 88,
   "id": "53e73122",
   "metadata": {},
   "outputs": [],
   "source": [
    "df_user_item['binary_ind'] = np.array([1]*len(df_user_item))"
   ]
  },
  {
   "cell_type": "code",
   "execution_count": 94,
   "id": "bda9172c",
   "metadata": {},
   "outputs": [
    {
     "data": {
      "text/html": [
       "<div>\n",
       "<style scoped>\n",
       "    .dataframe tbody tr th:only-of-type {\n",
       "        vertical-align: middle;\n",
       "    }\n",
       "\n",
       "    .dataframe tbody tr th {\n",
       "        vertical-align: top;\n",
       "    }\n",
       "\n",
       "    .dataframe thead th {\n",
       "        text-align: right;\n",
       "    }\n",
       "</style>\n",
       "<table border=\"1\" class=\"dataframe\">\n",
       "  <thead>\n",
       "    <tr style=\"text-align: right;\">\n",
       "      <th></th>\n",
       "      <th>user_id</th>\n",
       "      <th>item_id</th>\n",
       "      <th>binary_ind</th>\n",
       "    </tr>\n",
       "  </thead>\n",
       "  <tbody>\n",
       "    <tr>\n",
       "      <th>0</th>\n",
       "      <td>0</td>\n",
       "      <td>28366</td>\n",
       "      <td>1</td>\n",
       "    </tr>\n",
       "    <tr>\n",
       "      <th>1</th>\n",
       "      <td>0</td>\n",
       "      <td>16109</td>\n",
       "      <td>1</td>\n",
       "    </tr>\n",
       "    <tr>\n",
       "      <th>2</th>\n",
       "      <td>0</td>\n",
       "      <td>11500</td>\n",
       "      <td>1</td>\n",
       "    </tr>\n",
       "    <tr>\n",
       "      <th>3</th>\n",
       "      <td>0</td>\n",
       "      <td>20750</td>\n",
       "      <td>1</td>\n",
       "    </tr>\n",
       "    <tr>\n",
       "      <th>4</th>\n",
       "      <td>0</td>\n",
       "      <td>8759</td>\n",
       "      <td>1</td>\n",
       "    </tr>\n",
       "    <tr>\n",
       "      <th>...</th>\n",
       "      <td>...</td>\n",
       "      <td>...</td>\n",
       "      <td>...</td>\n",
       "    </tr>\n",
       "    <tr>\n",
       "      <th>970239</th>\n",
       "      <td>200150</td>\n",
       "      <td>20387</td>\n",
       "      <td>1</td>\n",
       "    </tr>\n",
       "    <tr>\n",
       "      <th>970240</th>\n",
       "      <td>200152</td>\n",
       "      <td>30710</td>\n",
       "      <td>1</td>\n",
       "    </tr>\n",
       "    <tr>\n",
       "      <th>970242</th>\n",
       "      <td>200152</td>\n",
       "      <td>12006</td>\n",
       "      <td>1</td>\n",
       "    </tr>\n",
       "    <tr>\n",
       "      <th>970243</th>\n",
       "      <td>200152</td>\n",
       "      <td>25030</td>\n",
       "      <td>1</td>\n",
       "    </tr>\n",
       "    <tr>\n",
       "      <th>970244</th>\n",
       "      <td>200152</td>\n",
       "      <td>14578</td>\n",
       "      <td>1</td>\n",
       "    </tr>\n",
       "  </tbody>\n",
       "</table>\n",
       "<p>862993 rows × 3 columns</p>\n",
       "</div>"
      ],
      "text/plain": [
       "        user_id  item_id  binary_ind\n",
       "0             0    28366           1\n",
       "1             0    16109           1\n",
       "2             0    11500           1\n",
       "3             0    20750           1\n",
       "4             0     8759           1\n",
       "...         ...      ...         ...\n",
       "970239   200150    20387           1\n",
       "970240   200152    30710           1\n",
       "970242   200152    12006           1\n",
       "970243   200152    25030           1\n",
       "970244   200152    14578           1\n",
       "\n",
       "[862993 rows x 3 columns]"
      ]
     },
     "execution_count": 94,
     "metadata": {},
     "output_type": "execute_result"
    }
   ],
   "source": [
    "df_user_item"
   ]
  },
  {
   "cell_type": "code",
   "execution_count": 145,
   "id": "95b173b4",
   "metadata": {},
   "outputs": [],
   "source": [
    "import random"
   ]
  },
  {
   "cell_type": "code",
   "execution_count": 122,
   "id": "09426a3d",
   "metadata": {},
   "outputs": [],
   "source": [
    "#negative sampling - add zeros\n",
    "user_list = []\n",
    "rand_item_list = []\n",
    "for user_id in df_user_item['user_id'].unique():\n",
    "    list_item_id = df_user_item[df_user_item['user_id'] == user_id]['item_id'].values\n",
    "    rand_item_list.append(random.sample(range(0, 39901), len(list_item_id)))\n",
    "    user_list.append(user_id)"
   ]
  },
  {
   "cell_type": "code",
   "execution_count": 126,
   "id": "303019c4",
   "metadata": {},
   "outputs": [],
   "source": [
    "#create dataframe with zeros\n",
    "df_user_neg_sam = pd.DataFrame({'user_id':user_list,'item_id':rand_item_list})\n",
    "df_user_neg_sam = df_user_neg_sam.explode('item_id')\n",
    "df_user_neg_sam['binary_ind'] = np.array([0]*len(df_user_neg_sam))"
   ]
  },
  {
   "cell_type": "code",
   "execution_count": 195,
   "id": "a4a78657",
   "metadata": {},
   "outputs": [
    {
     "data": {
      "text/plain": [
       "<bound method IndexOpsMixin.value_counts of user_id  item_id\n",
       "0        2694       1\n",
       "         4707       1\n",
       "         8759       1\n",
       "         11500      1\n",
       "         12085      1\n",
       "                   ..\n",
       "200152   25030      1\n",
       "         30710      1\n",
       "         31264      1\n",
       "         31962      1\n",
       "         35679      1\n",
       "Length: 1725844, dtype: int64>"
      ]
     },
     "execution_count": 195,
     "metadata": {},
     "output_type": "execute_result"
    }
   ],
   "source": [
    "#combine two dataframes\n",
    "df_new = df_user_item.append(df_user_neg_sam)\n",
    "df_new.groupby(['user_id','item_id']).size().value_counts"
   ]
  },
  {
   "cell_type": "code",
   "execution_count": 196,
   "id": "77038c98",
   "metadata": {},
   "outputs": [
    {
     "data": {
      "text/plain": [
       "142"
      ]
     },
     "execution_count": 196,
     "metadata": {},
     "output_type": "execute_result"
    }
   ],
   "source": [
    "#check if there're duplicate rows of user_id and item_id\n",
    "df_new.duplicated(subset=['user_id', 'item_id']).sum()"
   ]
  },
  {
   "cell_type": "code",
   "execution_count": 197,
   "id": "b9380584",
   "metadata": {},
   "outputs": [],
   "source": [
    "#drop duplicate rows\n",
    "df_new = df_new.drop_duplicates(subset=['user_id', 'item_id'])"
   ]
  },
  {
   "cell_type": "code",
   "execution_count": 198,
   "id": "e15caf79",
   "metadata": {},
   "outputs": [
    {
     "data": {
      "text/plain": [
       "0"
      ]
     },
     "execution_count": 198,
     "metadata": {},
     "output_type": "execute_result"
    }
   ],
   "source": [
    "#check if there're duplicate rows of user_id and item_id and make sure the output is zero\n",
    "df_new.duplicated(subset=['user_id', 'item_id']).sum()"
   ]
  },
  {
   "cell_type": "code",
   "execution_count": 284,
   "id": "f67fefb3",
   "metadata": {},
   "outputs": [
    {
     "data": {
      "text/plain": [
       "user_id       862993\n",
       "item_id       862993\n",
       "binary_ind    862993\n",
       "dtype: int64"
      ]
     },
     "execution_count": 284,
     "metadata": {},
     "output_type": "execute_result"
    }
   ],
   "source": [
    "#count '1's in the dataframe\n",
    "df_new[df_new['binary_ind']==1].count()"
   ]
  },
  {
   "cell_type": "code",
   "execution_count": 285,
   "id": "a303b653",
   "metadata": {},
   "outputs": [
    {
     "data": {
      "text/plain": [
       "user_id       862851\n",
       "item_id       862851\n",
       "binary_ind    862851\n",
       "dtype: int64"
      ]
     },
     "execution_count": 285,
     "metadata": {},
     "output_type": "execute_result"
    }
   ],
   "source": [
    "#count '0's in the dataframe\n",
    "df_new[df_new['binary_ind']==0].count()"
   ]
  },
  {
   "cell_type": "markdown",
   "id": "751d572b",
   "metadata": {},
   "source": [
    "### Create Sparse Matrix and U,V vector"
   ]
  },
  {
   "cell_type": "code",
   "execution_count": 286,
   "id": "bcd1d59c",
   "metadata": {},
   "outputs": [],
   "source": [
    "import scipy.sparse as sparse\n",
    "user_items = sparse.csr_matrix((df_new['binary_ind'],(df_new['user_id'], df_new['item_id'])))"
   ]
  },
  {
   "cell_type": "code",
   "execution_count": 287,
   "id": "f1fef0c9",
   "metadata": {},
   "outputs": [],
   "source": [
    "user_vector = df_new['user_id'].values\n",
    "item_vector = df_new['item_id'].values"
   ]
  },
  {
   "cell_type": "markdown",
   "id": "1466ed83",
   "metadata": {},
   "source": [
    "# Encoding data"
   ]
  },
  {
   "cell_type": "code",
   "execution_count": 298,
   "id": "f34e6aba",
   "metadata": {},
   "outputs": [],
   "source": [
    "from sklearn.model_selection import train_test_split\n",
    "\n",
    "train, val = train_test_split(df_new, test_size=0.2, random_state=42)"
   ]
  },
  {
   "cell_type": "code",
   "execution_count": 299,
   "id": "09493f6a",
   "metadata": {},
   "outputs": [
    {
     "data": {
      "text/plain": [
       "169548"
      ]
     },
     "execution_count": 299,
     "metadata": {},
     "output_type": "execute_result"
    }
   ],
   "source": [
    "len(train['user_id'].unique())"
   ]
  },
  {
   "cell_type": "code",
   "execution_count": 300,
   "id": "c8f4ccec",
   "metadata": {},
   "outputs": [
    {
     "data": {
      "text/plain": [
       "array([ 0,  1,  2,  3,  5,  7,  8, 10, 12, 14, 15, 17, 18, 19, 20])"
      ]
     },
     "execution_count": 300,
     "metadata": {},
     "output_type": "execute_result"
    }
   ],
   "source": [
    "train_user_ids = np.sort(np.unique(train.user_id.values))\n",
    "train_user_ids[:15]"
   ]
  },
  {
   "cell_type": "code",
   "execution_count": 301,
   "id": "0653e89c",
   "metadata": {},
   "outputs": [
    {
     "data": {
      "text/plain": [
       "169548"
      ]
     },
     "execution_count": 301,
     "metadata": {},
     "output_type": "execute_result"
    }
   ],
   "source": [
    "num_users = len(train_user_ids)\n",
    "num_users"
   ]
  },
  {
   "cell_type": "code",
   "execution_count": 302,
   "id": "48c23060",
   "metadata": {},
   "outputs": [],
   "source": [
    "userid2idx = {o:i for i,o in enumerate(train_user_ids)}"
   ]
  },
  {
   "cell_type": "code",
   "execution_count": 303,
   "id": "5625ea79",
   "metadata": {},
   "outputs": [
    {
     "name": "stderr",
     "output_type": "stream",
     "text": [
      "<ipython-input-303-7c6e48d18fa9>:1: SettingWithCopyWarning: \n",
      "A value is trying to be set on a copy of a slice from a DataFrame.\n",
      "Try using .loc[row_indexer,col_indexer] = value instead\n",
      "\n",
      "See the caveats in the documentation: https://pandas.pydata.org/pandas-docs/stable/user_guide/indexing.html#returning-a-view-versus-a-copy\n",
      "  train[\"user_id\"] = train[\"user_id\"].apply(lambda x: userid2idx[x])\n"
     ]
    },
    {
     "data": {
      "text/html": [
       "<div>\n",
       "<style scoped>\n",
       "    .dataframe tbody tr th:only-of-type {\n",
       "        vertical-align: middle;\n",
       "    }\n",
       "\n",
       "    .dataframe tbody tr th {\n",
       "        vertical-align: top;\n",
       "    }\n",
       "\n",
       "    .dataframe thead th {\n",
       "        text-align: right;\n",
       "    }\n",
       "</style>\n",
       "<table border=\"1\" class=\"dataframe\">\n",
       "  <thead>\n",
       "    <tr style=\"text-align: right;\">\n",
       "      <th></th>\n",
       "      <th>user_id</th>\n",
       "      <th>item_id</th>\n",
       "      <th>binary_ind</th>\n",
       "    </tr>\n",
       "  </thead>\n",
       "  <tbody>\n",
       "    <tr>\n",
       "      <th>141376</th>\n",
       "      <td>141253</td>\n",
       "      <td>10972</td>\n",
       "      <td>0</td>\n",
       "    </tr>\n",
       "    <tr>\n",
       "      <th>90558</th>\n",
       "      <td>90481</td>\n",
       "      <td>30211</td>\n",
       "      <td>0</td>\n",
       "    </tr>\n",
       "    <tr>\n",
       "      <th>137060</th>\n",
       "      <td>23984</td>\n",
       "      <td>12757</td>\n",
       "      <td>1</td>\n",
       "    </tr>\n",
       "    <tr>\n",
       "      <th>33879</th>\n",
       "      <td>33849</td>\n",
       "      <td>21735</td>\n",
       "      <td>0</td>\n",
       "    </tr>\n",
       "    <tr>\n",
       "      <th>254450</th>\n",
       "      <td>44429</td>\n",
       "      <td>400</td>\n",
       "      <td>1</td>\n",
       "    </tr>\n",
       "  </tbody>\n",
       "</table>\n",
       "</div>"
      ],
      "text/plain": [
       "        user_id  item_id  binary_ind\n",
       "141376   141253    10972           0\n",
       "90558     90481    30211           0\n",
       "137060    23984    12757           1\n",
       "33879     33849    21735           0\n",
       "254450    44429      400           1"
      ]
     },
     "execution_count": 303,
     "metadata": {},
     "output_type": "execute_result"
    }
   ],
   "source": [
    "train[\"user_id\"] = train[\"user_id\"].apply(lambda x: userid2idx[x])\n",
    "train.head()"
   ]
  },
  {
   "cell_type": "code",
   "execution_count": 304,
   "id": "1c6a6080",
   "metadata": {},
   "outputs": [
    {
     "name": "stderr",
     "output_type": "stream",
     "text": [
      "<ipython-input-304-66fe1848a552>:1: SettingWithCopyWarning: \n",
      "A value is trying to be set on a copy of a slice from a DataFrame.\n",
      "Try using .loc[row_indexer,col_indexer] = value instead\n",
      "\n",
      "See the caveats in the documentation: https://pandas.pydata.org/pandas-docs/stable/user_guide/indexing.html#returning-a-view-versus-a-copy\n",
      "  val[\"user_id\"] = val[\"user_id\"].apply(lambda x: userid2idx.get(x, -1)) # -1 for users not in training\n"
     ]
    },
    {
     "data": {
      "text/html": [
       "<div>\n",
       "<style scoped>\n",
       "    .dataframe tbody tr th:only-of-type {\n",
       "        vertical-align: middle;\n",
       "    }\n",
       "\n",
       "    .dataframe tbody tr th {\n",
       "        vertical-align: top;\n",
       "    }\n",
       "\n",
       "    .dataframe thead th {\n",
       "        text-align: right;\n",
       "    }\n",
       "</style>\n",
       "<table border=\"1\" class=\"dataframe\">\n",
       "  <thead>\n",
       "    <tr style=\"text-align: right;\">\n",
       "      <th></th>\n",
       "      <th>user_id</th>\n",
       "      <th>item_id</th>\n",
       "      <th>binary_ind</th>\n",
       "    </tr>\n",
       "  </thead>\n",
       "  <tbody>\n",
       "    <tr>\n",
       "      <th>354800</th>\n",
       "      <td>61896</td>\n",
       "      <td>17445</td>\n",
       "      <td>1</td>\n",
       "    </tr>\n",
       "    <tr>\n",
       "      <th>894291</th>\n",
       "      <td>156259</td>\n",
       "      <td>12016</td>\n",
       "      <td>1</td>\n",
       "    </tr>\n",
       "    <tr>\n",
       "      <th>921981</th>\n",
       "      <td>161052</td>\n",
       "      <td>24590</td>\n",
       "      <td>1</td>\n",
       "    </tr>\n",
       "    <tr>\n",
       "      <th>611726</th>\n",
       "      <td>106829</td>\n",
       "      <td>10732</td>\n",
       "      <td>1</td>\n",
       "    </tr>\n",
       "    <tr>\n",
       "      <th>94113</th>\n",
       "      <td>94033</td>\n",
       "      <td>29537</td>\n",
       "      <td>0</td>\n",
       "    </tr>\n",
       "  </tbody>\n",
       "</table>\n",
       "</div>"
      ],
      "text/plain": [
       "        user_id  item_id  binary_ind\n",
       "354800    61896    17445           1\n",
       "894291   156259    12016           1\n",
       "921981   161052    24590           1\n",
       "611726   106829    10732           1\n",
       "94113     94033    29537           0"
      ]
     },
     "execution_count": 304,
     "metadata": {},
     "output_type": "execute_result"
    }
   ],
   "source": [
    "val[\"user_id\"] = val[\"user_id\"].apply(lambda x: userid2idx.get(x, -1)) # -1 for users not in training\n",
    "val.head()"
   ]
  },
  {
   "cell_type": "code",
   "execution_count": 305,
   "id": "eecc8930",
   "metadata": {},
   "outputs": [
    {
     "data": {
      "text/html": [
       "<div>\n",
       "<style scoped>\n",
       "    .dataframe tbody tr th:only-of-type {\n",
       "        vertical-align: middle;\n",
       "    }\n",
       "\n",
       "    .dataframe tbody tr th {\n",
       "        vertical-align: top;\n",
       "    }\n",
       "\n",
       "    .dataframe thead th {\n",
       "        text-align: right;\n",
       "    }\n",
       "</style>\n",
       "<table border=\"1\" class=\"dataframe\">\n",
       "  <thead>\n",
       "    <tr style=\"text-align: right;\">\n",
       "      <th></th>\n",
       "      <th>user_id</th>\n",
       "      <th>item_id</th>\n",
       "      <th>binary_ind</th>\n",
       "    </tr>\n",
       "  </thead>\n",
       "  <tbody>\n",
       "    <tr>\n",
       "      <th>354800</th>\n",
       "      <td>61896</td>\n",
       "      <td>17445</td>\n",
       "      <td>1</td>\n",
       "    </tr>\n",
       "    <tr>\n",
       "      <th>894291</th>\n",
       "      <td>156259</td>\n",
       "      <td>12016</td>\n",
       "      <td>1</td>\n",
       "    </tr>\n",
       "    <tr>\n",
       "      <th>921981</th>\n",
       "      <td>161052</td>\n",
       "      <td>24590</td>\n",
       "      <td>1</td>\n",
       "    </tr>\n",
       "    <tr>\n",
       "      <th>611726</th>\n",
       "      <td>106829</td>\n",
       "      <td>10732</td>\n",
       "      <td>1</td>\n",
       "    </tr>\n",
       "    <tr>\n",
       "      <th>94113</th>\n",
       "      <td>94033</td>\n",
       "      <td>29537</td>\n",
       "      <td>0</td>\n",
       "    </tr>\n",
       "  </tbody>\n",
       "</table>\n",
       "</div>"
      ],
      "text/plain": [
       "        user_id  item_id  binary_ind\n",
       "354800    61896    17445           1\n",
       "894291   156259    12016           1\n",
       "921981   161052    24590           1\n",
       "611726   106829    10732           1\n",
       "94113     94033    29537           0"
      ]
     },
     "execution_count": 305,
     "metadata": {},
     "output_type": "execute_result"
    }
   ],
   "source": [
    "val = val[val[\"user_id\"] >= 0].copy()\n",
    "val.head()"
   ]
  },
  {
   "cell_type": "code",
   "execution_count": 307,
   "id": "89944a02",
   "metadata": {},
   "outputs": [
    {
     "name": "stdout",
     "output_type": "stream",
     "text": [
      "1380675\n"
     ]
    },
    {
     "data": {
      "text/plain": [
       "array([ 0,  1,  2,  3,  4,  5,  6,  7,  8,  9, 10, 11, 12, 13, 14])"
      ]
     },
     "execution_count": 307,
     "metadata": {},
     "output_type": "execute_result"
    }
   ],
   "source": [
    "# now encoding movieId\n",
    "train_item_ids = np.sort(np.unique(train.item_id.values))\n",
    "num_items = len(train.item_id)\n",
    "print(num_items)\n",
    "train_item_ids[:15]"
   ]
  },
  {
   "cell_type": "code",
   "execution_count": 308,
   "id": "e7582584",
   "metadata": {},
   "outputs": [
    {
     "name": "stderr",
     "output_type": "stream",
     "text": [
      "<ipython-input-308-368d636eef53>:2: SettingWithCopyWarning: \n",
      "A value is trying to be set on a copy of a slice from a DataFrame.\n",
      "Try using .loc[row_indexer,col_indexer] = value instead\n",
      "\n",
      "See the caveats in the documentation: https://pandas.pydata.org/pandas-docs/stable/user_guide/indexing.html#returning-a-view-versus-a-copy\n",
      "  train[\"item_id\"] = train[\"item_id\"].apply(lambda x: itemid2idx[x])\n"
     ]
    }
   ],
   "source": [
    "itemid2idx = {o:i for i,o in enumerate(train_item_ids)}\n",
    "train[\"item_id\"] = train[\"item_id\"].apply(lambda x: itemid2idx[x])\n",
    "val[\"item_id\"] = val[\"item_id\"].apply(lambda x: itemid2idx.get(x, -1))"
   ]
  },
  {
   "cell_type": "code",
   "execution_count": 309,
   "id": "73681531",
   "metadata": {},
   "outputs": [
    {
     "data": {
      "text/html": [
       "<div>\n",
       "<style scoped>\n",
       "    .dataframe tbody tr th:only-of-type {\n",
       "        vertical-align: middle;\n",
       "    }\n",
       "\n",
       "    .dataframe tbody tr th {\n",
       "        vertical-align: top;\n",
       "    }\n",
       "\n",
       "    .dataframe thead th {\n",
       "        text-align: right;\n",
       "    }\n",
       "</style>\n",
       "<table border=\"1\" class=\"dataframe\">\n",
       "  <thead>\n",
       "    <tr style=\"text-align: right;\">\n",
       "      <th></th>\n",
       "      <th>user_id</th>\n",
       "      <th>item_id</th>\n",
       "      <th>binary_ind</th>\n",
       "    </tr>\n",
       "  </thead>\n",
       "  <tbody>\n",
       "    <tr>\n",
       "      <th>354800</th>\n",
       "      <td>61896</td>\n",
       "      <td>17445</td>\n",
       "      <td>1</td>\n",
       "    </tr>\n",
       "    <tr>\n",
       "      <th>894291</th>\n",
       "      <td>156259</td>\n",
       "      <td>12016</td>\n",
       "      <td>1</td>\n",
       "    </tr>\n",
       "    <tr>\n",
       "      <th>921981</th>\n",
       "      <td>161052</td>\n",
       "      <td>24590</td>\n",
       "      <td>1</td>\n",
       "    </tr>\n",
       "    <tr>\n",
       "      <th>611726</th>\n",
       "      <td>106829</td>\n",
       "      <td>10732</td>\n",
       "      <td>1</td>\n",
       "    </tr>\n",
       "    <tr>\n",
       "      <th>94113</th>\n",
       "      <td>94033</td>\n",
       "      <td>29537</td>\n",
       "      <td>0</td>\n",
       "    </tr>\n",
       "  </tbody>\n",
       "</table>\n",
       "</div>"
      ],
      "text/plain": [
       "        user_id  item_id  binary_ind\n",
       "354800    61896    17445           1\n",
       "894291   156259    12016           1\n",
       "921981   161052    24590           1\n",
       "611726   106829    10732           1\n",
       "94113     94033    29537           0"
      ]
     },
     "execution_count": 309,
     "metadata": {},
     "output_type": "execute_result"
    }
   ],
   "source": [
    "val = val[val[\"item_id\"] >= 0].copy()\n",
    "val.head()"
   ]
  },
  {
   "cell_type": "code",
   "execution_count": 310,
   "id": "0517b44c",
   "metadata": {},
   "outputs": [
    {
     "data": {
      "text/plain": [
       "(344853, 3)"
      ]
     },
     "execution_count": 310,
     "metadata": {},
     "output_type": "execute_result"
    }
   ],
   "source": [
    "val.shape"
   ]
  },
  {
   "cell_type": "markdown",
   "id": "760b2b26",
   "metadata": {},
   "source": [
    "# Embedding layer"
   ]
  },
  {
   "cell_type": "code",
   "execution_count": 311,
   "id": "6d436661",
   "metadata": {},
   "outputs": [],
   "source": [
    "import torch\n",
    "import torch.nn as nn\n",
    "import torch.nn.functional as F"
   ]
  },
  {
   "cell_type": "code",
   "execution_count": 312,
   "id": "5fb739e6",
   "metadata": {},
   "outputs": [
    {
     "data": {
      "text/plain": [
       "Parameter containing:\n",
       "tensor([[-0.1670],\n",
       "        [ 0.5097],\n",
       "        [ 1.7602],\n",
       "        ...,\n",
       "        [ 1.3954],\n",
       "        [-2.6201],\n",
       "        [ 2.2207]], requires_grad=True)"
      ]
     },
     "execution_count": 312,
     "metadata": {},
     "output_type": "execute_result"
    }
   ],
   "source": [
    "embed = nn.Embedding(169698, 1)\n",
    "embed.weight"
   ]
  },
  {
   "cell_type": "markdown",
   "id": "d9c17de0",
   "metadata": {},
   "source": [
    "# Matrix factorization model"
   ]
  },
  {
   "cell_type": "code",
   "execution_count": 373,
   "id": "db31f9d1",
   "metadata": {},
   "outputs": [],
   "source": [
    "class MF(nn.Module):\n",
    "    def __init__(self, num_users, num_items, emb_size=1):\n",
    "        super(MF, self).__init__()\n",
    "        self.user_emb = nn.Embedding(num_users, emb_size)\n",
    "        self.item_emb = nn.Embedding(num_items, emb_size)\n",
    "        # initlializing weights\n",
    "        self.user_emb.weight.data.uniform_(0,0.05)\n",
    "        self.item_emb.weight.data.uniform_(0,0.05)\n",
    "        \n",
    "    def forward(self, u, v):\n",
    "        u = self.user_emb(u)\n",
    "        v = self.item_emb(v)\n",
    "        return torch.sigmoid((u*v).sum(1)) "
   ]
  },
  {
   "cell_type": "code",
   "execution_count": 314,
   "id": "d875286e",
   "metadata": {},
   "outputs": [],
   "source": [
    "# class MF(nn.Module):\n",
    "#     def __init__(self, num_users, num_items, emb_size=100, seed=23):\n",
    "#         super(MF, self).__init__()\n",
    "#         torch.manual_seed(seed)\n",
    "#         self.user_emb = nn.Embedding(num_users, emb_size)\n",
    "#         self.user_bias = nn.Embedding(num_users, 1)\n",
    "#         self.item_emb = nn.Embedding(num_items, emb_size)\n",
    "#         self.item_bias = nn.Embedding(num_items, 1)\n",
    "#         # init \n",
    "#         self.user_emb.weight.data.uniform_(0,0.05)\n",
    "#         self.item_emb.weight.data.uniform_(0,0.05)\n",
    "#         self.user_bias.weight.data.uniform_(-0.01,0.01)\n",
    "#         self.item_bias.weight.data.uniform_(-0.01,0.01)\n",
    "#         #print(self.user_emb.weight.data.uniform_(0,0.05))\n",
    "#     def forward(self, u, v):\n",
    "#         ### BEGIN SOLUTION\n",
    "#         U = self.user_emb(u)\n",
    "#         V = self.item_emb(v)\n",
    "#         b_u = self.user_bias(u).squeeze()\n",
    "#         b_v = self.item_bias(v).squeeze()\n",
    "#         #return (U*V).sum(1) +  b_u  + b_v\n",
    "#         return torch.sigmoid((U*V).sum(1) +  b_u  + b_v)"
   ]
  },
  {
   "cell_type": "markdown",
   "id": "0bd5abdf",
   "metadata": {},
   "source": [
    "# Debugging MF model"
   ]
  },
  {
   "cell_type": "code",
   "execution_count": 315,
   "id": "e8da9d18",
   "metadata": {},
   "outputs": [
    {
     "data": {
      "text/plain": [
       "tensor([     0,      0,      0,  ..., 200152, 200152, 200152])"
      ]
     },
     "execution_count": 315,
     "metadata": {},
     "output_type": "execute_result"
    }
   ],
   "source": [
    "users = torch.LongTensor(df_new.user_id.values)\n",
    "users"
   ]
  },
  {
   "cell_type": "code",
   "execution_count": 316,
   "id": "31a38459",
   "metadata": {},
   "outputs": [
    {
     "data": {
      "text/plain": [
       "tensor([28366, 16109, 11500,  ..., 12006, 25030, 14578])"
      ]
     },
     "execution_count": 316,
     "metadata": {},
     "output_type": "execute_result"
    }
   ],
   "source": [
    "items = torch.LongTensor(df.item_id.values)\n",
    "items"
   ]
  },
  {
   "cell_type": "code",
   "execution_count": 321,
   "id": "428bc8d0",
   "metadata": {},
   "outputs": [
    {
     "data": {
      "text/plain": [
       "169548"
      ]
     },
     "execution_count": 321,
     "metadata": {},
     "output_type": "execute_result"
    }
   ],
   "source": [
    "num_users = len(train_user_ids)\n",
    "num_users"
   ]
  },
  {
   "cell_type": "code",
   "execution_count": 322,
   "id": "162f1f54",
   "metadata": {},
   "outputs": [
    {
     "data": {
      "text/plain": [
       "39901"
      ]
     },
     "execution_count": 322,
     "metadata": {},
     "output_type": "execute_result"
    }
   ],
   "source": [
    "num_items = len(train_item_ids)\n",
    "num_items"
   ]
  },
  {
   "cell_type": "code",
   "execution_count": 334,
   "id": "66443cfd",
   "metadata": {},
   "outputs": [],
   "source": [
    "# num_users = 200153\n",
    "# num_items = 39901\n",
    "emb_size = 1\n",
    "num_users = 169548\n",
    "num_items = 39901\n",
    "user_emb = nn.Embedding(num_users, emb_size)\n",
    "item_emb = nn.Embedding(num_items, emb_size)\n",
    "users = torch.LongTensor(df_new.user_id.values)\n",
    "items = torch.LongTensor(df_new.item_id.values)"
   ]
  },
  {
   "cell_type": "markdown",
   "id": "9b1c799d",
   "metadata": {},
   "source": [
    "# Training MF model"
   ]
  },
  {
   "cell_type": "code",
   "execution_count": 217,
   "id": "7cbf5632",
   "metadata": {},
   "outputs": [
    {
     "name": "stdout",
     "output_type": "stream",
     "text": [
      "169506 39901\n"
     ]
    }
   ],
   "source": [
    "num_users = len(train.user_id.unique())\n",
    "num_items = len(train.item_id.unique())\n",
    "print(num_users, num_items) "
   ]
  },
  {
   "cell_type": "code",
   "execution_count": 225,
   "id": "8252bae4",
   "metadata": {},
   "outputs": [],
   "source": [
    "def train_one_epoch(model, train_df, optimizer):\n",
    "    \"\"\" Trains the model for one epoch\"\"\"\n",
    "    model.train()\n",
    "    users = torch.LongTensor(train_df.user_id.values)\n",
    "    items = torch.LongTensor(train_df.item_id.values)\n",
    "    ratings = torch.FloatTensor(train_df.binary_ind.values)\n",
    "    y_hat = model(users, items)\n",
    "    loss = criterion(torch.squeeze(y_hat), ratings)\n",
    "    optimizer.zero_grad()\n",
    "    loss.backward()\n",
    "    optimizer.step()\n",
    "    train_loss = criterion(torch.squeeze(y_hat), ratings).item()\n",
    "    return train_loss"
   ]
  },
  {
   "cell_type": "code",
   "execution_count": 226,
   "id": "bb377112",
   "metadata": {},
   "outputs": [],
   "source": [
    "def valid_metrics(model, valid_df):\n",
    "    \"\"\"Computes validation loss and accuracy\"\"\"\n",
    "    model.eval()\n",
    "    users = torch.LongTensor(valid_df.user_id.values) \n",
    "    items = torch.LongTensor(valid_df.item_id.values) \n",
    "    ratings = torch.FloatTensor(valid_df.binary_ind.values)\n",
    "    y_hat = model(users, items)\n",
    "    valid_loss = criterion(torch.squeeze(y_hat), ratings).item()\n",
    "    predicted_test = y_hat.round().detach().numpy()\n",
    "    correct_test = np.sum(predicted_test == ratings.detach().numpy())\n",
    "    valid_acc = correct_test/len(valid_df)\n",
    "    return valid_loss, valid_acc\n",
    "\n"
   ]
  },
  {
   "cell_type": "code",
   "execution_count": 227,
   "id": "3394841a",
   "metadata": {},
   "outputs": [],
   "source": [
    "def training(model, train_df, valid_df, epochs=10, lr=0.01, wd=0.0):\n",
    "    optimizer = torch.optim.Adam(model.parameters(), lr=lr, weight_decay=wd)\n",
    "    for i in range(epochs):\n",
    "        train_loss = train_one_epoch(model, train_df, optimizer)\n",
    "        valid_loss, valid_acc = valid_metrics(model, valid_df) \n",
    "        print(\"train loss %.3f valid loss %.3f valid acc %.3f\" % (train_loss, valid_loss, valid_acc)) "
   ]
  },
  {
   "cell_type": "code",
   "execution_count": 325,
   "id": "f1fdca3c",
   "metadata": {},
   "outputs": [
    {
     "data": {
      "text/plain": [
       "169548"
      ]
     },
     "execution_count": 325,
     "metadata": {},
     "output_type": "execute_result"
    }
   ],
   "source": [
    "num_users = len(train_user_ids)\n",
    "num_users"
   ]
  },
  {
   "cell_type": "code",
   "execution_count": 327,
   "id": "3a11e769",
   "metadata": {},
   "outputs": [
    {
     "data": {
      "text/plain": [
       "39901"
      ]
     },
     "execution_count": 327,
     "metadata": {},
     "output_type": "execute_result"
    }
   ],
   "source": [
    "num_items = len(train_item_ids)\n",
    "num_items"
   ]
  },
  {
   "cell_type": "code",
   "execution_count": 328,
   "id": "3c06dec9",
   "metadata": {},
   "outputs": [],
   "source": [
    "model = MF(num_users, num_items, emb_size=1)"
   ]
  },
  {
   "cell_type": "code",
   "execution_count": 333,
   "id": "e4d9aba5",
   "metadata": {},
   "outputs": [
    {
     "name": "stdout",
     "output_type": "stream",
     "text": [
      "train loss 0.656 valid loss 0.629 valid acc 0.854\n",
      "train loss 0.625 valid loss 0.601 valid acc 0.857\n",
      "train loss 0.596 valid loss 0.581 valid acc 0.855\n",
      "train loss 0.567 valid loss 0.564 valid acc 0.852\n",
      "train loss 0.543 valid loss 0.548 valid acc 0.853\n",
      "train loss 0.524 valid loss 0.533 valid acc 0.856\n",
      "train loss 0.510 valid loss 0.518 valid acc 0.856\n",
      "train loss 0.498 valid loss 0.506 valid acc 0.857\n",
      "train loss 0.489 valid loss 0.498 valid acc 0.858\n",
      "train loss 0.482 valid loss 0.493 valid acc 0.858\n"
     ]
    }
   ],
   "source": [
    "criterion = torch.nn.BCELoss()\n",
    "training(model, train, val, epochs=10, lr=0.1, wd=1e-5)"
   ]
  },
  {
   "cell_type": "code",
   "execution_count": 337,
   "id": "b5505d0a",
   "metadata": {},
   "outputs": [
    {
     "data": {
      "text/html": [
       "<div>\n",
       "<style scoped>\n",
       "    .dataframe tbody tr th:only-of-type {\n",
       "        vertical-align: middle;\n",
       "    }\n",
       "\n",
       "    .dataframe tbody tr th {\n",
       "        vertical-align: top;\n",
       "    }\n",
       "\n",
       "    .dataframe thead th {\n",
       "        text-align: right;\n",
       "    }\n",
       "</style>\n",
       "<table border=\"1\" class=\"dataframe\">\n",
       "  <thead>\n",
       "    <tr style=\"text-align: right;\">\n",
       "      <th></th>\n",
       "      <th>id</th>\n",
       "      <th>user_id</th>\n",
       "      <th>item_id</th>\n",
       "      <th>context_feature_id</th>\n",
       "    </tr>\n",
       "  </thead>\n",
       "  <tbody>\n",
       "    <tr>\n",
       "      <th>0</th>\n",
       "      <td>0</td>\n",
       "      <td>4</td>\n",
       "      <td>16835</td>\n",
       "      <td>2</td>\n",
       "    </tr>\n",
       "    <tr>\n",
       "      <th>1</th>\n",
       "      <td>1</td>\n",
       "      <td>4</td>\n",
       "      <td>22590</td>\n",
       "      <td>3</td>\n",
       "    </tr>\n",
       "    <tr>\n",
       "      <th>2</th>\n",
       "      <td>2</td>\n",
       "      <td>4</td>\n",
       "      <td>1978</td>\n",
       "      <td>1</td>\n",
       "    </tr>\n",
       "    <tr>\n",
       "      <th>3</th>\n",
       "      <td>3</td>\n",
       "      <td>4</td>\n",
       "      <td>28916</td>\n",
       "      <td>1</td>\n",
       "    </tr>\n",
       "    <tr>\n",
       "      <th>4</th>\n",
       "      <td>4</td>\n",
       "      <td>4</td>\n",
       "      <td>14427</td>\n",
       "      <td>2</td>\n",
       "    </tr>\n",
       "    <tr>\n",
       "      <th>...</th>\n",
       "      <td>...</td>\n",
       "      <td>...</td>\n",
       "      <td>...</td>\n",
       "      <td>...</td>\n",
       "    </tr>\n",
       "    <tr>\n",
       "      <th>381380</th>\n",
       "      <td>381380</td>\n",
       "      <td>200151</td>\n",
       "      <td>1702</td>\n",
       "      <td>1</td>\n",
       "    </tr>\n",
       "    <tr>\n",
       "      <th>381381</th>\n",
       "      <td>381381</td>\n",
       "      <td>200151</td>\n",
       "      <td>21632</td>\n",
       "      <td>1</td>\n",
       "    </tr>\n",
       "    <tr>\n",
       "      <th>381382</th>\n",
       "      <td>381382</td>\n",
       "      <td>200151</td>\n",
       "      <td>30477</td>\n",
       "      <td>1</td>\n",
       "    </tr>\n",
       "    <tr>\n",
       "      <th>381383</th>\n",
       "      <td>381383</td>\n",
       "      <td>200151</td>\n",
       "      <td>30477</td>\n",
       "      <td>1</td>\n",
       "    </tr>\n",
       "    <tr>\n",
       "      <th>381384</th>\n",
       "      <td>381384</td>\n",
       "      <td>200151</td>\n",
       "      <td>17715</td>\n",
       "      <td>1</td>\n",
       "    </tr>\n",
       "  </tbody>\n",
       "</table>\n",
       "<p>381385 rows × 4 columns</p>\n",
       "</div>"
      ],
      "text/plain": [
       "            id  user_id  item_id  context_feature_id\n",
       "0            0        4    16835                   2\n",
       "1            1        4    22590                   3\n",
       "2            2        4     1978                   1\n",
       "3            3        4    28916                   1\n",
       "4            4        4    14427                   2\n",
       "...        ...      ...      ...                 ...\n",
       "381380  381380   200151     1702                   1\n",
       "381381  381381   200151    21632                   1\n",
       "381382  381382   200151    30477                   1\n",
       "381383  381383   200151    30477                   1\n",
       "381384  381384   200151    17715                   1\n",
       "\n",
       "[381385 rows x 4 columns]"
      ]
     },
     "execution_count": 337,
     "metadata": {},
     "output_type": "execute_result"
    }
   ],
   "source": [
    "test_set"
   ]
  },
  {
   "cell_type": "code",
   "execution_count": 347,
   "id": "7188029f",
   "metadata": {},
   "outputs": [
    {
     "name": "stderr",
     "output_type": "stream",
     "text": [
      "<ipython-input-347-0f5e28791e8c>:1: DeprecationWarning: elementwise comparison failed; this will raise an error in the future.\n",
      "  test_set['user_id'].unique() == df_train['user_id'].unique()\n"
     ]
    },
    {
     "data": {
      "text/plain": [
       "False"
      ]
     },
     "execution_count": 347,
     "metadata": {},
     "output_type": "execute_result"
    }
   ],
   "source": [
    "test_set['user_id'].unique() == df_train['user_id'].unique()"
   ]
  },
  {
   "cell_type": "code",
   "execution_count": 352,
   "id": "4c3bf271",
   "metadata": {},
   "outputs": [
    {
     "data": {
      "text/plain": [
       "0.19628955216002955"
      ]
     },
     "execution_count": 352,
     "metadata": {},
     "output_type": "execute_result"
    }
   ],
   "source": [
    "len(set(test_set['user_id'].unique()).intersection(set(df_train['user_id'].unique())))/len(test_set['user_id'].unique())"
   ]
  },
  {
   "cell_type": "code",
   "execution_count": 401,
   "id": "31d38349",
   "metadata": {},
   "outputs": [],
   "source": [
    "test_set['binary_ind'] = np.array([1]*len(test_set))"
   ]
  },
  {
   "cell_type": "code",
   "execution_count": 402,
   "id": "4416a10f",
   "metadata": {},
   "outputs": [
    {
     "data": {
      "text/html": [
       "<div>\n",
       "<style scoped>\n",
       "    .dataframe tbody tr th:only-of-type {\n",
       "        vertical-align: middle;\n",
       "    }\n",
       "\n",
       "    .dataframe tbody tr th {\n",
       "        vertical-align: top;\n",
       "    }\n",
       "\n",
       "    .dataframe thead th {\n",
       "        text-align: right;\n",
       "    }\n",
       "</style>\n",
       "<table border=\"1\" class=\"dataframe\">\n",
       "  <thead>\n",
       "    <tr style=\"text-align: right;\">\n",
       "      <th></th>\n",
       "      <th>id</th>\n",
       "      <th>user_id</th>\n",
       "      <th>item_id</th>\n",
       "      <th>context_feature_id</th>\n",
       "      <th>user_id_</th>\n",
       "      <th>item_id_</th>\n",
       "      <th>binary_ind</th>\n",
       "    </tr>\n",
       "  </thead>\n",
       "  <tbody>\n",
       "    <tr>\n",
       "      <th>0</th>\n",
       "      <td>0</td>\n",
       "      <td>4</td>\n",
       "      <td>16835</td>\n",
       "      <td>2</td>\n",
       "      <td>-1</td>\n",
       "      <td>16835</td>\n",
       "      <td>1</td>\n",
       "    </tr>\n",
       "    <tr>\n",
       "      <th>1</th>\n",
       "      <td>1</td>\n",
       "      <td>4</td>\n",
       "      <td>22590</td>\n",
       "      <td>3</td>\n",
       "      <td>-1</td>\n",
       "      <td>22590</td>\n",
       "      <td>1</td>\n",
       "    </tr>\n",
       "    <tr>\n",
       "      <th>2</th>\n",
       "      <td>2</td>\n",
       "      <td>4</td>\n",
       "      <td>1978</td>\n",
       "      <td>1</td>\n",
       "      <td>-1</td>\n",
       "      <td>1978</td>\n",
       "      <td>1</td>\n",
       "    </tr>\n",
       "    <tr>\n",
       "      <th>3</th>\n",
       "      <td>3</td>\n",
       "      <td>4</td>\n",
       "      <td>28916</td>\n",
       "      <td>1</td>\n",
       "      <td>-1</td>\n",
       "      <td>28916</td>\n",
       "      <td>1</td>\n",
       "    </tr>\n",
       "    <tr>\n",
       "      <th>4</th>\n",
       "      <td>4</td>\n",
       "      <td>4</td>\n",
       "      <td>14427</td>\n",
       "      <td>2</td>\n",
       "      <td>-1</td>\n",
       "      <td>14427</td>\n",
       "      <td>1</td>\n",
       "    </tr>\n",
       "    <tr>\n",
       "      <th>...</th>\n",
       "      <td>...</td>\n",
       "      <td>...</td>\n",
       "      <td>...</td>\n",
       "      <td>...</td>\n",
       "      <td>...</td>\n",
       "      <td>...</td>\n",
       "      <td>...</td>\n",
       "    </tr>\n",
       "    <tr>\n",
       "      <th>381380</th>\n",
       "      <td>381380</td>\n",
       "      <td>200151</td>\n",
       "      <td>1702</td>\n",
       "      <td>1</td>\n",
       "      <td>-1</td>\n",
       "      <td>1702</td>\n",
       "      <td>1</td>\n",
       "    </tr>\n",
       "    <tr>\n",
       "      <th>381381</th>\n",
       "      <td>381381</td>\n",
       "      <td>200151</td>\n",
       "      <td>21632</td>\n",
       "      <td>1</td>\n",
       "      <td>-1</td>\n",
       "      <td>21632</td>\n",
       "      <td>1</td>\n",
       "    </tr>\n",
       "    <tr>\n",
       "      <th>381382</th>\n",
       "      <td>381382</td>\n",
       "      <td>200151</td>\n",
       "      <td>30477</td>\n",
       "      <td>1</td>\n",
       "      <td>-1</td>\n",
       "      <td>30477</td>\n",
       "      <td>1</td>\n",
       "    </tr>\n",
       "    <tr>\n",
       "      <th>381383</th>\n",
       "      <td>381383</td>\n",
       "      <td>200151</td>\n",
       "      <td>30477</td>\n",
       "      <td>1</td>\n",
       "      <td>-1</td>\n",
       "      <td>30477</td>\n",
       "      <td>1</td>\n",
       "    </tr>\n",
       "    <tr>\n",
       "      <th>381384</th>\n",
       "      <td>381384</td>\n",
       "      <td>200151</td>\n",
       "      <td>17715</td>\n",
       "      <td>1</td>\n",
       "      <td>-1</td>\n",
       "      <td>17715</td>\n",
       "      <td>1</td>\n",
       "    </tr>\n",
       "  </tbody>\n",
       "</table>\n",
       "<p>381385 rows × 7 columns</p>\n",
       "</div>"
      ],
      "text/plain": [
       "            id  user_id  item_id  context_feature_id  user_id_  item_id_  \\\n",
       "0            0        4    16835                   2        -1     16835   \n",
       "1            1        4    22590                   3        -1     22590   \n",
       "2            2        4     1978                   1        -1      1978   \n",
       "3            3        4    28916                   1        -1     28916   \n",
       "4            4        4    14427                   2        -1     14427   \n",
       "...        ...      ...      ...                 ...       ...       ...   \n",
       "381380  381380   200151     1702                   1        -1      1702   \n",
       "381381  381381   200151    21632                   1        -1     21632   \n",
       "381382  381382   200151    30477                   1        -1     30477   \n",
       "381383  381383   200151    30477                   1        -1     30477   \n",
       "381384  381384   200151    17715                   1        -1     17715   \n",
       "\n",
       "        binary_ind  \n",
       "0                1  \n",
       "1                1  \n",
       "2                1  \n",
       "3                1  \n",
       "4                1  \n",
       "...            ...  \n",
       "381380           1  \n",
       "381381           1  \n",
       "381382           1  \n",
       "381383           1  \n",
       "381384           1  \n",
       "\n",
       "[381385 rows x 7 columns]"
      ]
     },
     "execution_count": 402,
     "metadata": {},
     "output_type": "execute_result"
    }
   ],
   "source": [
    "test_set"
   ]
  },
  {
   "cell_type": "code",
   "execution_count": 403,
   "id": "27139430",
   "metadata": {},
   "outputs": [],
   "source": [
    "test_s_matrix = sparse.csr_matrix((test_set['binary_ind'],(test_set['user_id'], test_set['item_id'])))"
   ]
  },
  {
   "cell_type": "code",
   "execution_count": 419,
   "id": "4c4547af",
   "metadata": {},
   "outputs": [],
   "source": [
    "test_set[\"user_id\"] = test_set[\"user_id\"].apply(lambda x: userid2idx.get(x, -1))\n",
    "test_set = test_set[test_set[\"user_id\"] >= 0].copy()\n",
    "#test_set_neg = test_set[test_set[\"user_id\"] < 0].copy()\n",
    "test_set[\"item_id\"] = test_set[\"item_id\"].apply(lambda x: itemid2idx.get(x, -1))\n",
    "test_set = test_set[test_set[\"item_id\"] >= 0].copy()\n",
    "#test_set_neg_item = test_set_pos[test_set_pos[\"user_id\"] < 0].copy()\n",
    "#test_set_neg = test_set_neg.append(test_set_neg_item)"
   ]
  },
  {
   "cell_type": "code",
   "execution_count": 421,
   "id": "b5cd67df",
   "metadata": {},
   "outputs": [
    {
     "data": {
      "text/html": [
       "<div>\n",
       "<style scoped>\n",
       "    .dataframe tbody tr th:only-of-type {\n",
       "        vertical-align: middle;\n",
       "    }\n",
       "\n",
       "    .dataframe tbody tr th {\n",
       "        vertical-align: top;\n",
       "    }\n",
       "\n",
       "    .dataframe thead th {\n",
       "        text-align: right;\n",
       "    }\n",
       "</style>\n",
       "<table border=\"1\" class=\"dataframe\">\n",
       "  <thead>\n",
       "    <tr style=\"text-align: right;\">\n",
       "      <th></th>\n",
       "      <th>id</th>\n",
       "      <th>user_id</th>\n",
       "      <th>item_id</th>\n",
       "      <th>context_feature_id</th>\n",
       "      <th>user_id_</th>\n",
       "      <th>item_id_</th>\n",
       "      <th>binary_ind</th>\n",
       "    </tr>\n",
       "  </thead>\n",
       "  <tbody>\n",
       "    <tr>\n",
       "      <th>30</th>\n",
       "      <td>30</td>\n",
       "      <td>7</td>\n",
       "      <td>25869</td>\n",
       "      <td>1</td>\n",
       "      <td>7</td>\n",
       "      <td>25869</td>\n",
       "      <td>1</td>\n",
       "    </tr>\n",
       "    <tr>\n",
       "      <th>31</th>\n",
       "      <td>31</td>\n",
       "      <td>7</td>\n",
       "      <td>12187</td>\n",
       "      <td>1</td>\n",
       "      <td>7</td>\n",
       "      <td>12187</td>\n",
       "      <td>1</td>\n",
       "    </tr>\n",
       "    <tr>\n",
       "      <th>32</th>\n",
       "      <td>32</td>\n",
       "      <td>7</td>\n",
       "      <td>32370</td>\n",
       "      <td>1</td>\n",
       "      <td>7</td>\n",
       "      <td>32370</td>\n",
       "      <td>1</td>\n",
       "    </tr>\n",
       "    <tr>\n",
       "      <th>33</th>\n",
       "      <td>33</td>\n",
       "      <td>7</td>\n",
       "      <td>11400</td>\n",
       "      <td>1</td>\n",
       "      <td>7</td>\n",
       "      <td>11400</td>\n",
       "      <td>1</td>\n",
       "    </tr>\n",
       "    <tr>\n",
       "      <th>34</th>\n",
       "      <td>34</td>\n",
       "      <td>7</td>\n",
       "      <td>25869</td>\n",
       "      <td>1</td>\n",
       "      <td>7</td>\n",
       "      <td>25869</td>\n",
       "      <td>1</td>\n",
       "    </tr>\n",
       "    <tr>\n",
       "      <th>...</th>\n",
       "      <td>...</td>\n",
       "      <td>...</td>\n",
       "      <td>...</td>\n",
       "      <td>...</td>\n",
       "      <td>...</td>\n",
       "      <td>...</td>\n",
       "      <td>...</td>\n",
       "    </tr>\n",
       "    <tr>\n",
       "      <th>381370</th>\n",
       "      <td>381370</td>\n",
       "      <td>169546</td>\n",
       "      <td>20571</td>\n",
       "      <td>1</td>\n",
       "      <td>169546</td>\n",
       "      <td>20571</td>\n",
       "      <td>1</td>\n",
       "    </tr>\n",
       "    <tr>\n",
       "      <th>381371</th>\n",
       "      <td>381371</td>\n",
       "      <td>169546</td>\n",
       "      <td>20387</td>\n",
       "      <td>1</td>\n",
       "      <td>169546</td>\n",
       "      <td>20387</td>\n",
       "      <td>1</td>\n",
       "    </tr>\n",
       "    <tr>\n",
       "      <th>381372</th>\n",
       "      <td>381372</td>\n",
       "      <td>169546</td>\n",
       "      <td>7953</td>\n",
       "      <td>1</td>\n",
       "      <td>169546</td>\n",
       "      <td>7953</td>\n",
       "      <td>1</td>\n",
       "    </tr>\n",
       "    <tr>\n",
       "      <th>381373</th>\n",
       "      <td>381373</td>\n",
       "      <td>169546</td>\n",
       "      <td>7068</td>\n",
       "      <td>1</td>\n",
       "      <td>169546</td>\n",
       "      <td>7068</td>\n",
       "      <td>1</td>\n",
       "    </tr>\n",
       "    <tr>\n",
       "      <th>381374</th>\n",
       "      <td>381374</td>\n",
       "      <td>169546</td>\n",
       "      <td>4063</td>\n",
       "      <td>1</td>\n",
       "      <td>169546</td>\n",
       "      <td>4063</td>\n",
       "      <td>1</td>\n",
       "    </tr>\n",
       "  </tbody>\n",
       "</table>\n",
       "<p>67672 rows × 7 columns</p>\n",
       "</div>"
      ],
      "text/plain": [
       "            id  user_id  item_id  context_feature_id  user_id_  item_id_  \\\n",
       "30          30        7    25869                   1         7     25869   \n",
       "31          31        7    12187                   1         7     12187   \n",
       "32          32        7    32370                   1         7     32370   \n",
       "33          33        7    11400                   1         7     11400   \n",
       "34          34        7    25869                   1         7     25869   \n",
       "...        ...      ...      ...                 ...       ...       ...   \n",
       "381370  381370   169546    20571                   1    169546     20571   \n",
       "381371  381371   169546    20387                   1    169546     20387   \n",
       "381372  381372   169546     7953                   1    169546      7953   \n",
       "381373  381373   169546     7068                   1    169546      7068   \n",
       "381374  381374   169546     4063                   1    169546      4063   \n",
       "\n",
       "        binary_ind  \n",
       "30               1  \n",
       "31               1  \n",
       "32               1  \n",
       "33               1  \n",
       "34               1  \n",
       "...            ...  \n",
       "381370           1  \n",
       "381371           1  \n",
       "381372           1  \n",
       "381373           1  \n",
       "381374           1  \n",
       "\n",
       "[67672 rows x 7 columns]"
      ]
     },
     "execution_count": 421,
     "metadata": {},
     "output_type": "execute_result"
    }
   ],
   "source": [
    "test_set"
   ]
  },
  {
   "cell_type": "code",
   "execution_count": 422,
   "id": "930e5283",
   "metadata": {},
   "outputs": [],
   "source": [
    "reversed_userid2idx = {value : key for (key, value) in userid2idx.items()}\n",
    "reversed_itemid2idx = {value : key for (key, value) in itemid2idx.items()}"
   ]
  },
  {
   "cell_type": "code",
   "execution_count": 425,
   "id": "3b1476a3",
   "metadata": {},
   "outputs": [],
   "source": [
    "def valid_metrics(model, test_df_pos):\n",
    "    \"\"\"Computes validation loss and accuracy\"\"\"\n",
    "    model.eval()\n",
    "    users = torch.LongTensor(test_df_pos.user_id.values) \n",
    "    items = torch.LongTensor(test_df_pos.item_id.values) \n",
    "    ratings = torch.FloatTensor(test_df_pos.binary_ind.values)\n",
    "    y_hat_pos = model(users, items)\n",
    "    #y_hat_neg = [np.mean(y_hat_pos.detach().numpy())]*len(test_df_neg)\n",
    "    test_df_pos['rating'] = y_hat_pos.detach().numpy()\n",
    "    test_df_pos['index_'] = [reversed_userid2idx[i] for i in test_df_pos['user_id']]\n",
    "    #test_df_neg['rating'] = y_hat_neg\n",
    "    #test_df_neg['index_'] = [reversed_itemid2idx[i] for i in test_df_neg['user_id']]\n",
    "    #test_set = test_df_neg.append(test_df_pos)\n",
    "    #test_set = test_set.sort_values(by=['index_'])\n",
    "    #valid_loss = criterion(torch.squeeze(y_hat), ratings).item()\n",
    "    #predicted_test = y_hat.round().detach().numpy()\n",
    "    #correct_test = np.sum(predicted_test == ratings.detach().numpy())\n",
    "    #valid_acc = correct_test/len(valid_df)  \n",
    "    return test_df_pos, np.mean(y_hat_pos.detach().numpy())\n",
    "    #return valid_loss, valid_acc, test_df_pos"
   ]
  },
  {
   "cell_type": "code",
   "execution_count": 427,
   "id": "19b71be7",
   "metadata": {},
   "outputs": [],
   "source": [
    "df_pos,mean = valid_metrics(model, test_set)"
   ]
  },
  {
   "cell_type": "code",
   "execution_count": 428,
   "id": "ab428abc",
   "metadata": {},
   "outputs": [
    {
     "data": {
      "text/html": [
       "<div>\n",
       "<style scoped>\n",
       "    .dataframe tbody tr th:only-of-type {\n",
       "        vertical-align: middle;\n",
       "    }\n",
       "\n",
       "    .dataframe tbody tr th {\n",
       "        vertical-align: top;\n",
       "    }\n",
       "\n",
       "    .dataframe thead th {\n",
       "        text-align: right;\n",
       "    }\n",
       "</style>\n",
       "<table border=\"1\" class=\"dataframe\">\n",
       "  <thead>\n",
       "    <tr style=\"text-align: right;\">\n",
       "      <th></th>\n",
       "      <th>id</th>\n",
       "      <th>user_id</th>\n",
       "      <th>item_id</th>\n",
       "      <th>context_feature_id</th>\n",
       "      <th>user_id_</th>\n",
       "      <th>item_id_</th>\n",
       "      <th>binary_ind</th>\n",
       "      <th>rating</th>\n",
       "      <th>index_</th>\n",
       "    </tr>\n",
       "  </thead>\n",
       "  <tbody>\n",
       "    <tr>\n",
       "      <th>30</th>\n",
       "      <td>30</td>\n",
       "      <td>7</td>\n",
       "      <td>25869</td>\n",
       "      <td>1</td>\n",
       "      <td>7</td>\n",
       "      <td>25869</td>\n",
       "      <td>1</td>\n",
       "      <td>0.704213</td>\n",
       "      <td>10</td>\n",
       "    </tr>\n",
       "    <tr>\n",
       "      <th>31</th>\n",
       "      <td>31</td>\n",
       "      <td>7</td>\n",
       "      <td>12187</td>\n",
       "      <td>1</td>\n",
       "      <td>7</td>\n",
       "      <td>12187</td>\n",
       "      <td>1</td>\n",
       "      <td>0.344937</td>\n",
       "      <td>10</td>\n",
       "    </tr>\n",
       "    <tr>\n",
       "      <th>32</th>\n",
       "      <td>32</td>\n",
       "      <td>7</td>\n",
       "      <td>32370</td>\n",
       "      <td>1</td>\n",
       "      <td>7</td>\n",
       "      <td>32370</td>\n",
       "      <td>1</td>\n",
       "      <td>0.340187</td>\n",
       "      <td>10</td>\n",
       "    </tr>\n",
       "    <tr>\n",
       "      <th>33</th>\n",
       "      <td>33</td>\n",
       "      <td>7</td>\n",
       "      <td>11400</td>\n",
       "      <td>1</td>\n",
       "      <td>7</td>\n",
       "      <td>11400</td>\n",
       "      <td>1</td>\n",
       "      <td>0.348476</td>\n",
       "      <td>10</td>\n",
       "    </tr>\n",
       "    <tr>\n",
       "      <th>34</th>\n",
       "      <td>34</td>\n",
       "      <td>7</td>\n",
       "      <td>25869</td>\n",
       "      <td>1</td>\n",
       "      <td>7</td>\n",
       "      <td>25869</td>\n",
       "      <td>1</td>\n",
       "      <td>0.704213</td>\n",
       "      <td>10</td>\n",
       "    </tr>\n",
       "    <tr>\n",
       "      <th>...</th>\n",
       "      <td>...</td>\n",
       "      <td>...</td>\n",
       "      <td>...</td>\n",
       "      <td>...</td>\n",
       "      <td>...</td>\n",
       "      <td>...</td>\n",
       "      <td>...</td>\n",
       "      <td>...</td>\n",
       "      <td>...</td>\n",
       "    </tr>\n",
       "    <tr>\n",
       "      <th>381370</th>\n",
       "      <td>381370</td>\n",
       "      <td>169546</td>\n",
       "      <td>20571</td>\n",
       "      <td>1</td>\n",
       "      <td>169546</td>\n",
       "      <td>20571</td>\n",
       "      <td>1</td>\n",
       "      <td>0.411582</td>\n",
       "      <td>200150</td>\n",
       "    </tr>\n",
       "    <tr>\n",
       "      <th>381371</th>\n",
       "      <td>381371</td>\n",
       "      <td>169546</td>\n",
       "      <td>20387</td>\n",
       "      <td>1</td>\n",
       "      <td>169546</td>\n",
       "      <td>20387</td>\n",
       "      <td>1</td>\n",
       "      <td>0.745691</td>\n",
       "      <td>200150</td>\n",
       "    </tr>\n",
       "    <tr>\n",
       "      <th>381372</th>\n",
       "      <td>381372</td>\n",
       "      <td>169546</td>\n",
       "      <td>7953</td>\n",
       "      <td>1</td>\n",
       "      <td>169546</td>\n",
       "      <td>7953</td>\n",
       "      <td>1</td>\n",
       "      <td>0.577797</td>\n",
       "      <td>200150</td>\n",
       "    </tr>\n",
       "    <tr>\n",
       "      <th>381373</th>\n",
       "      <td>381373</td>\n",
       "      <td>169546</td>\n",
       "      <td>7068</td>\n",
       "      <td>1</td>\n",
       "      <td>169546</td>\n",
       "      <td>7068</td>\n",
       "      <td>1</td>\n",
       "      <td>0.744257</td>\n",
       "      <td>200150</td>\n",
       "    </tr>\n",
       "    <tr>\n",
       "      <th>381374</th>\n",
       "      <td>381374</td>\n",
       "      <td>169546</td>\n",
       "      <td>4063</td>\n",
       "      <td>1</td>\n",
       "      <td>169546</td>\n",
       "      <td>4063</td>\n",
       "      <td>1</td>\n",
       "      <td>0.743483</td>\n",
       "      <td>200150</td>\n",
       "    </tr>\n",
       "  </tbody>\n",
       "</table>\n",
       "<p>67672 rows × 9 columns</p>\n",
       "</div>"
      ],
      "text/plain": [
       "            id  user_id  item_id  context_feature_id  user_id_  item_id_  \\\n",
       "30          30        7    25869                   1         7     25869   \n",
       "31          31        7    12187                   1         7     12187   \n",
       "32          32        7    32370                   1         7     32370   \n",
       "33          33        7    11400                   1         7     11400   \n",
       "34          34        7    25869                   1         7     25869   \n",
       "...        ...      ...      ...                 ...       ...       ...   \n",
       "381370  381370   169546    20571                   1    169546     20571   \n",
       "381371  381371   169546    20387                   1    169546     20387   \n",
       "381372  381372   169546     7953                   1    169546      7953   \n",
       "381373  381373   169546     7068                   1    169546      7068   \n",
       "381374  381374   169546     4063                   1    169546      4063   \n",
       "\n",
       "        binary_ind    rating  index_  \n",
       "30               1  0.704213      10  \n",
       "31               1  0.344937      10  \n",
       "32               1  0.340187      10  \n",
       "33               1  0.348476      10  \n",
       "34               1  0.704213      10  \n",
       "...            ...       ...     ...  \n",
       "381370           1  0.411582  200150  \n",
       "381371           1  0.745691  200150  \n",
       "381372           1  0.577797  200150  \n",
       "381373           1  0.744257  200150  \n",
       "381374           1  0.743483  200150  \n",
       "\n",
       "[67672 rows x 9 columns]"
      ]
     },
     "execution_count": 428,
     "metadata": {},
     "output_type": "execute_result"
    }
   ],
   "source": [
    "df_pos"
   ]
  },
  {
   "cell_type": "code",
   "execution_count": 429,
   "id": "01acceb0",
   "metadata": {},
   "outputs": [
    {
     "data": {
      "text/html": [
       "<div>\n",
       "<style scoped>\n",
       "    .dataframe tbody tr th:only-of-type {\n",
       "        vertical-align: middle;\n",
       "    }\n",
       "\n",
       "    .dataframe tbody tr th {\n",
       "        vertical-align: top;\n",
       "    }\n",
       "\n",
       "    .dataframe thead th {\n",
       "        text-align: right;\n",
       "    }\n",
       "</style>\n",
       "<table border=\"1\" class=\"dataframe\">\n",
       "  <thead>\n",
       "    <tr style=\"text-align: right;\">\n",
       "      <th></th>\n",
       "      <th>id</th>\n",
       "      <th>user_id</th>\n",
       "      <th>item_id</th>\n",
       "      <th>context_feature_id</th>\n",
       "    </tr>\n",
       "  </thead>\n",
       "  <tbody>\n",
       "    <tr>\n",
       "      <th>0</th>\n",
       "      <td>0</td>\n",
       "      <td>4</td>\n",
       "      <td>16835</td>\n",
       "      <td>2</td>\n",
       "    </tr>\n",
       "    <tr>\n",
       "      <th>1</th>\n",
       "      <td>1</td>\n",
       "      <td>4</td>\n",
       "      <td>22590</td>\n",
       "      <td>3</td>\n",
       "    </tr>\n",
       "    <tr>\n",
       "      <th>2</th>\n",
       "      <td>2</td>\n",
       "      <td>4</td>\n",
       "      <td>1978</td>\n",
       "      <td>1</td>\n",
       "    </tr>\n",
       "    <tr>\n",
       "      <th>3</th>\n",
       "      <td>3</td>\n",
       "      <td>4</td>\n",
       "      <td>28916</td>\n",
       "      <td>1</td>\n",
       "    </tr>\n",
       "    <tr>\n",
       "      <th>4</th>\n",
       "      <td>4</td>\n",
       "      <td>4</td>\n",
       "      <td>14427</td>\n",
       "      <td>2</td>\n",
       "    </tr>\n",
       "    <tr>\n",
       "      <th>...</th>\n",
       "      <td>...</td>\n",
       "      <td>...</td>\n",
       "      <td>...</td>\n",
       "      <td>...</td>\n",
       "    </tr>\n",
       "    <tr>\n",
       "      <th>381380</th>\n",
       "      <td>381380</td>\n",
       "      <td>200151</td>\n",
       "      <td>1702</td>\n",
       "      <td>1</td>\n",
       "    </tr>\n",
       "    <tr>\n",
       "      <th>381381</th>\n",
       "      <td>381381</td>\n",
       "      <td>200151</td>\n",
       "      <td>21632</td>\n",
       "      <td>1</td>\n",
       "    </tr>\n",
       "    <tr>\n",
       "      <th>381382</th>\n",
       "      <td>381382</td>\n",
       "      <td>200151</td>\n",
       "      <td>30477</td>\n",
       "      <td>1</td>\n",
       "    </tr>\n",
       "    <tr>\n",
       "      <th>381383</th>\n",
       "      <td>381383</td>\n",
       "      <td>200151</td>\n",
       "      <td>30477</td>\n",
       "      <td>1</td>\n",
       "    </tr>\n",
       "    <tr>\n",
       "      <th>381384</th>\n",
       "      <td>381384</td>\n",
       "      <td>200151</td>\n",
       "      <td>17715</td>\n",
       "      <td>1</td>\n",
       "    </tr>\n",
       "  </tbody>\n",
       "</table>\n",
       "<p>381385 rows × 4 columns</p>\n",
       "</div>"
      ],
      "text/plain": [
       "            id  user_id  item_id  context_feature_id\n",
       "0            0        4    16835                   2\n",
       "1            1        4    22590                   3\n",
       "2            2        4     1978                   1\n",
       "3            3        4    28916                   1\n",
       "4            4        4    14427                   2\n",
       "...        ...      ...      ...                 ...\n",
       "381380  381380   200151     1702                   1\n",
       "381381  381381   200151    21632                   1\n",
       "381382  381382   200151    30477                   1\n",
       "381383  381383   200151    30477                   1\n",
       "381384  381384   200151    17715                   1\n",
       "\n",
       "[381385 rows x 4 columns]"
      ]
     },
     "execution_count": 429,
     "metadata": {},
     "output_type": "execute_result"
    }
   ],
   "source": [
    "test_set = pd.read_csv(\"~/Downloads/test_kaggle.csv\")\n",
    "test_set"
   ]
  },
  {
   "cell_type": "code",
   "execution_count": 438,
   "id": "3fe0d12c",
   "metadata": {},
   "outputs": [
    {
     "data": {
      "text/html": [
       "<div>\n",
       "<style scoped>\n",
       "    .dataframe tbody tr th:only-of-type {\n",
       "        vertical-align: middle;\n",
       "    }\n",
       "\n",
       "    .dataframe tbody tr th {\n",
       "        vertical-align: top;\n",
       "    }\n",
       "\n",
       "    .dataframe thead th {\n",
       "        text-align: right;\n",
       "    }\n",
       "</style>\n",
       "<table border=\"1\" class=\"dataframe\">\n",
       "  <thead>\n",
       "    <tr style=\"text-align: right;\">\n",
       "      <th></th>\n",
       "      <th>id_x</th>\n",
       "      <th>user_id_x</th>\n",
       "      <th>item_id_x</th>\n",
       "      <th>context_feature_id_x</th>\n",
       "      <th>id_y</th>\n",
       "      <th>user_id_y</th>\n",
       "      <th>item_id_y</th>\n",
       "      <th>context_feature_id_y</th>\n",
       "      <th>user_id_</th>\n",
       "      <th>item_id_</th>\n",
       "      <th>binary_ind</th>\n",
       "      <th>rating</th>\n",
       "      <th>index_</th>\n",
       "    </tr>\n",
       "  </thead>\n",
       "  <tbody>\n",
       "    <tr>\n",
       "      <th>0</th>\n",
       "      <td>0</td>\n",
       "      <td>4</td>\n",
       "      <td>16835</td>\n",
       "      <td>2</td>\n",
       "      <td>NaN</td>\n",
       "      <td>NaN</td>\n",
       "      <td>NaN</td>\n",
       "      <td>NaN</td>\n",
       "      <td>NaN</td>\n",
       "      <td>NaN</td>\n",
       "      <td>NaN</td>\n",
       "      <td>0.568628</td>\n",
       "      <td>NaN</td>\n",
       "    </tr>\n",
       "    <tr>\n",
       "      <th>1</th>\n",
       "      <td>1</td>\n",
       "      <td>4</td>\n",
       "      <td>22590</td>\n",
       "      <td>3</td>\n",
       "      <td>NaN</td>\n",
       "      <td>NaN</td>\n",
       "      <td>NaN</td>\n",
       "      <td>NaN</td>\n",
       "      <td>NaN</td>\n",
       "      <td>NaN</td>\n",
       "      <td>NaN</td>\n",
       "      <td>0.568628</td>\n",
       "      <td>NaN</td>\n",
       "    </tr>\n",
       "    <tr>\n",
       "      <th>2</th>\n",
       "      <td>2</td>\n",
       "      <td>4</td>\n",
       "      <td>1978</td>\n",
       "      <td>1</td>\n",
       "      <td>NaN</td>\n",
       "      <td>NaN</td>\n",
       "      <td>NaN</td>\n",
       "      <td>NaN</td>\n",
       "      <td>NaN</td>\n",
       "      <td>NaN</td>\n",
       "      <td>NaN</td>\n",
       "      <td>0.568628</td>\n",
       "      <td>NaN</td>\n",
       "    </tr>\n",
       "    <tr>\n",
       "      <th>3</th>\n",
       "      <td>3</td>\n",
       "      <td>4</td>\n",
       "      <td>28916</td>\n",
       "      <td>1</td>\n",
       "      <td>NaN</td>\n",
       "      <td>NaN</td>\n",
       "      <td>NaN</td>\n",
       "      <td>NaN</td>\n",
       "      <td>NaN</td>\n",
       "      <td>NaN</td>\n",
       "      <td>NaN</td>\n",
       "      <td>0.568628</td>\n",
       "      <td>NaN</td>\n",
       "    </tr>\n",
       "    <tr>\n",
       "      <th>4</th>\n",
       "      <td>4</td>\n",
       "      <td>4</td>\n",
       "      <td>14427</td>\n",
       "      <td>2</td>\n",
       "      <td>NaN</td>\n",
       "      <td>NaN</td>\n",
       "      <td>NaN</td>\n",
       "      <td>NaN</td>\n",
       "      <td>NaN</td>\n",
       "      <td>NaN</td>\n",
       "      <td>NaN</td>\n",
       "      <td>0.568628</td>\n",
       "      <td>NaN</td>\n",
       "    </tr>\n",
       "    <tr>\n",
       "      <th>...</th>\n",
       "      <td>...</td>\n",
       "      <td>...</td>\n",
       "      <td>...</td>\n",
       "      <td>...</td>\n",
       "      <td>...</td>\n",
       "      <td>...</td>\n",
       "      <td>...</td>\n",
       "      <td>...</td>\n",
       "      <td>...</td>\n",
       "      <td>...</td>\n",
       "      <td>...</td>\n",
       "      <td>...</td>\n",
       "      <td>...</td>\n",
       "    </tr>\n",
       "    <tr>\n",
       "      <th>381380</th>\n",
       "      <td>381380</td>\n",
       "      <td>200151</td>\n",
       "      <td>1702</td>\n",
       "      <td>1</td>\n",
       "      <td>NaN</td>\n",
       "      <td>NaN</td>\n",
       "      <td>NaN</td>\n",
       "      <td>NaN</td>\n",
       "      <td>NaN</td>\n",
       "      <td>NaN</td>\n",
       "      <td>NaN</td>\n",
       "      <td>0.568628</td>\n",
       "      <td>NaN</td>\n",
       "    </tr>\n",
       "    <tr>\n",
       "      <th>381381</th>\n",
       "      <td>381381</td>\n",
       "      <td>200151</td>\n",
       "      <td>21632</td>\n",
       "      <td>1</td>\n",
       "      <td>NaN</td>\n",
       "      <td>NaN</td>\n",
       "      <td>NaN</td>\n",
       "      <td>NaN</td>\n",
       "      <td>NaN</td>\n",
       "      <td>NaN</td>\n",
       "      <td>NaN</td>\n",
       "      <td>0.568628</td>\n",
       "      <td>NaN</td>\n",
       "    </tr>\n",
       "    <tr>\n",
       "      <th>381382</th>\n",
       "      <td>381382</td>\n",
       "      <td>200151</td>\n",
       "      <td>30477</td>\n",
       "      <td>1</td>\n",
       "      <td>NaN</td>\n",
       "      <td>NaN</td>\n",
       "      <td>NaN</td>\n",
       "      <td>NaN</td>\n",
       "      <td>NaN</td>\n",
       "      <td>NaN</td>\n",
       "      <td>NaN</td>\n",
       "      <td>0.568628</td>\n",
       "      <td>NaN</td>\n",
       "    </tr>\n",
       "    <tr>\n",
       "      <th>381383</th>\n",
       "      <td>381383</td>\n",
       "      <td>200151</td>\n",
       "      <td>30477</td>\n",
       "      <td>1</td>\n",
       "      <td>NaN</td>\n",
       "      <td>NaN</td>\n",
       "      <td>NaN</td>\n",
       "      <td>NaN</td>\n",
       "      <td>NaN</td>\n",
       "      <td>NaN</td>\n",
       "      <td>NaN</td>\n",
       "      <td>0.568628</td>\n",
       "      <td>NaN</td>\n",
       "    </tr>\n",
       "    <tr>\n",
       "      <th>381384</th>\n",
       "      <td>381384</td>\n",
       "      <td>200151</td>\n",
       "      <td>17715</td>\n",
       "      <td>1</td>\n",
       "      <td>NaN</td>\n",
       "      <td>NaN</td>\n",
       "      <td>NaN</td>\n",
       "      <td>NaN</td>\n",
       "      <td>NaN</td>\n",
       "      <td>NaN</td>\n",
       "      <td>NaN</td>\n",
       "      <td>0.568628</td>\n",
       "      <td>NaN</td>\n",
       "    </tr>\n",
       "  </tbody>\n",
       "</table>\n",
       "<p>381385 rows × 13 columns</p>\n",
       "</div>"
      ],
      "text/plain": [
       "          id_x  user_id_x  item_id_x  context_feature_id_x  id_y  user_id_y  \\\n",
       "0            0          4      16835                     2   NaN        NaN   \n",
       "1            1          4      22590                     3   NaN        NaN   \n",
       "2            2          4       1978                     1   NaN        NaN   \n",
       "3            3          4      28916                     1   NaN        NaN   \n",
       "4            4          4      14427                     2   NaN        NaN   \n",
       "...        ...        ...        ...                   ...   ...        ...   \n",
       "381380  381380     200151       1702                     1   NaN        NaN   \n",
       "381381  381381     200151      21632                     1   NaN        NaN   \n",
       "381382  381382     200151      30477                     1   NaN        NaN   \n",
       "381383  381383     200151      30477                     1   NaN        NaN   \n",
       "381384  381384     200151      17715                     1   NaN        NaN   \n",
       "\n",
       "        item_id_y  context_feature_id_y  user_id_  item_id_  binary_ind  \\\n",
       "0             NaN                   NaN       NaN       NaN         NaN   \n",
       "1             NaN                   NaN       NaN       NaN         NaN   \n",
       "2             NaN                   NaN       NaN       NaN         NaN   \n",
       "3             NaN                   NaN       NaN       NaN         NaN   \n",
       "4             NaN                   NaN       NaN       NaN         NaN   \n",
       "...           ...                   ...       ...       ...         ...   \n",
       "381380        NaN                   NaN       NaN       NaN         NaN   \n",
       "381381        NaN                   NaN       NaN       NaN         NaN   \n",
       "381382        NaN                   NaN       NaN       NaN         NaN   \n",
       "381383        NaN                   NaN       NaN       NaN         NaN   \n",
       "381384        NaN                   NaN       NaN       NaN         NaN   \n",
       "\n",
       "          rating  index_  \n",
       "0       0.568628     NaN  \n",
       "1       0.568628     NaN  \n",
       "2       0.568628     NaN  \n",
       "3       0.568628     NaN  \n",
       "4       0.568628     NaN  \n",
       "...          ...     ...  \n",
       "381380  0.568628     NaN  \n",
       "381381  0.568628     NaN  \n",
       "381382  0.568628     NaN  \n",
       "381383  0.568628     NaN  \n",
       "381384  0.568628     NaN  \n",
       "\n",
       "[381385 rows x 13 columns]"
      ]
     },
     "execution_count": 438,
     "metadata": {},
     "output_type": "execute_result"
    }
   ],
   "source": [
    "merged = test_set.merge(df_pos, left_index=True, right_index=True,how='outer')\n",
    "merged[\"rating\"].fillna(mean, inplace = True)\n",
    "merged"
   ]
  },
  {
   "cell_type": "code",
   "execution_count": 440,
   "id": "d6b4ff77",
   "metadata": {},
   "outputs": [
    {
     "data": {
      "text/html": [
       "<div>\n",
       "<style scoped>\n",
       "    .dataframe tbody tr th:only-of-type {\n",
       "        vertical-align: middle;\n",
       "    }\n",
       "\n",
       "    .dataframe tbody tr th {\n",
       "        vertical-align: top;\n",
       "    }\n",
       "\n",
       "    .dataframe thead th {\n",
       "        text-align: right;\n",
       "    }\n",
       "</style>\n",
       "<table border=\"1\" class=\"dataframe\">\n",
       "  <thead>\n",
       "    <tr style=\"text-align: right;\">\n",
       "      <th></th>\n",
       "      <th>id_x</th>\n",
       "      <th>rating</th>\n",
       "    </tr>\n",
       "  </thead>\n",
       "  <tbody>\n",
       "    <tr>\n",
       "      <th>0</th>\n",
       "      <td>0</td>\n",
       "      <td>0.568628</td>\n",
       "    </tr>\n",
       "    <tr>\n",
       "      <th>1</th>\n",
       "      <td>1</td>\n",
       "      <td>0.568628</td>\n",
       "    </tr>\n",
       "    <tr>\n",
       "      <th>2</th>\n",
       "      <td>2</td>\n",
       "      <td>0.568628</td>\n",
       "    </tr>\n",
       "    <tr>\n",
       "      <th>3</th>\n",
       "      <td>3</td>\n",
       "      <td>0.568628</td>\n",
       "    </tr>\n",
       "    <tr>\n",
       "      <th>4</th>\n",
       "      <td>4</td>\n",
       "      <td>0.568628</td>\n",
       "    </tr>\n",
       "    <tr>\n",
       "      <th>...</th>\n",
       "      <td>...</td>\n",
       "      <td>...</td>\n",
       "    </tr>\n",
       "    <tr>\n",
       "      <th>381380</th>\n",
       "      <td>381380</td>\n",
       "      <td>0.568628</td>\n",
       "    </tr>\n",
       "    <tr>\n",
       "      <th>381381</th>\n",
       "      <td>381381</td>\n",
       "      <td>0.568628</td>\n",
       "    </tr>\n",
       "    <tr>\n",
       "      <th>381382</th>\n",
       "      <td>381382</td>\n",
       "      <td>0.568628</td>\n",
       "    </tr>\n",
       "    <tr>\n",
       "      <th>381383</th>\n",
       "      <td>381383</td>\n",
       "      <td>0.568628</td>\n",
       "    </tr>\n",
       "    <tr>\n",
       "      <th>381384</th>\n",
       "      <td>381384</td>\n",
       "      <td>0.568628</td>\n",
       "    </tr>\n",
       "  </tbody>\n",
       "</table>\n",
       "<p>381385 rows × 2 columns</p>\n",
       "</div>"
      ],
      "text/plain": [
       "          id_x    rating\n",
       "0            0  0.568628\n",
       "1            1  0.568628\n",
       "2            2  0.568628\n",
       "3            3  0.568628\n",
       "4            4  0.568628\n",
       "...        ...       ...\n",
       "381380  381380  0.568628\n",
       "381381  381381  0.568628\n",
       "381382  381382  0.568628\n",
       "381383  381383  0.568628\n",
       "381384  381384  0.568628\n",
       "\n",
       "[381385 rows x 2 columns]"
      ]
     },
     "execution_count": 440,
     "metadata": {},
     "output_type": "execute_result"
    }
   ],
   "source": [
    "final_result = merged[['id_x','rating']]\n",
    "final_result"
   ]
  },
  {
   "cell_type": "code",
   "execution_count": 450,
   "id": "23b5c9a1",
   "metadata": {},
   "outputs": [],
   "source": [
    "hard_pred_result = []\n",
    "for rating in final_result['rating']:\n",
    "    if rating >= 0.5:\n",
    "        hard_pred_result.append(1)\n",
    "    else:\n",
    "        hard_pred_result.append(0)\n",
    "hard_pred_sample = []\n",
    "for rating in sample['rating']:\n",
    "    if rating >= 0.5:\n",
    "        hard_pred_sample.append(1)\n",
    "    else:\n",
    "        hard_pred_sample.append(0)"
   ]
  },
  {
   "cell_type": "code",
   "execution_count": 452,
   "id": "14d6e8a3",
   "metadata": {},
   "outputs": [
    {
     "data": {
      "text/plain": [
       "0.9225402152680362"
      ]
     },
     "execution_count": 452,
     "metadata": {},
     "output_type": "execute_result"
    }
   ],
   "source": [
    "np.sum(np.array(hard_pred_result)==np.array(hard_pred_sample)) / len(sample)"
   ]
  },
  {
   "cell_type": "code",
   "execution_count": null,
   "id": "b871ae7c",
   "metadata": {},
   "outputs": [],
   "source": []
  }
 ],
 "metadata": {
  "kernelspec": {
   "display_name": "Python 3 (ipykernel)",
   "language": "python",
   "name": "python3"
  },
  "language_info": {
   "codemirror_mode": {
    "name": "ipython",
    "version": 3
   },
   "file_extension": ".py",
   "mimetype": "text/x-python",
   "name": "python",
   "nbconvert_exporter": "python",
   "pygments_lexer": "ipython3",
   "version": "3.9.10"
  }
 },
 "nbformat": 4,
 "nbformat_minor": 5
}
