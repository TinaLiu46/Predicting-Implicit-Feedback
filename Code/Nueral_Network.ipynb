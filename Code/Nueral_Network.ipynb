{
 "cells": [
  {
   "cell_type": "code",
   "execution_count": 2,
   "id": "a1ac83b6",
   "metadata": {},
   "outputs": [],
   "source": [
    "import pandas as pd\n",
    "import numpy as np\n",
    "from scipy.special import softmax\n",
    "import random\n",
    "from sklearn.model_selection import train_test_split\n",
    "import torch\n",
    "import torch.nn as nn\n",
    "import torch.nn.functional as F\n",
    "import warnings\n",
    "warnings.filterwarnings(\"ignore\")\n",
    "from tqdm import tqdm\n",
    "import seaborn as sns\n",
    "import matplotlib.pyplot as plt\n",
    "from sklearn import preprocessing"
   ]
  },
  {
   "cell_type": "code",
   "execution_count": 127,
   "id": "3ba81c1e",
   "metadata": {},
   "outputs": [],
   "source": [
    "def get_files():\n",
    "    df_test = pd.read_csv(\"~/Downloads/test_kaggle.csv\")\n",
    "    df_train = pd.read_csv(\"~/Downloads/training.csv\")\n",
    "    df_feature = pd.read_csv(\"~/Downloads/item_feature.csv\")\n",
    "    return df_test, df_train, df_feature"
   ]
  },
  {
   "cell_type": "code",
   "execution_count": 4,
   "id": "a29ec3bb",
   "metadata": {},
   "outputs": [],
   "source": [
    "def merge_df(df_left,df_right,column:str):\n",
    "    df_merged = df_left.merge(df_right , how='left', on=column)\n",
    "    return df_merged"
   ]
  },
  {
   "cell_type": "code",
   "execution_count": 130,
   "id": "af407146",
   "metadata": {},
   "outputs": [],
   "source": [
    "df_test, df_train, df_feature = get_files()"
   ]
  },
  {
   "cell_type": "code",
   "execution_count": 6,
   "id": "4b98a307",
   "metadata": {},
   "outputs": [],
   "source": [
    "df_full = merge_df(df_train,df_feature,'item_id')\n",
    "df_original = df_full.copy()\n",
    "df_full = df_full.drop_duplicates()\n",
    "#add '1' to all the existing records\n",
    "df_full['binary_ind'] = np.array([1]*len(df_full))"
   ]
  },
  {
   "cell_type": "code",
   "execution_count": 81,
   "id": "f939e237",
   "metadata": {},
   "outputs": [
    {
     "data": {
      "text/plain": [
       "39900"
      ]
     },
     "execution_count": 81,
     "metadata": {},
     "output_type": "execute_result"
    }
   ],
   "source": [
    "max(df_feature['item_id'])"
   ]
  },
  {
   "cell_type": "code",
   "execution_count": 8,
   "id": "830e3b18",
   "metadata": {},
   "outputs": [],
   "source": [
    "def cold_start(test_set,df_train):\n",
    "    cold_user = list(set(test_set['user_id'].unique()) - set(df_train['user_id'].unique()))\n",
    "    #cold_item = list(set(test_set['item_id'].unique()) - set(df_train['item_id'].unique()))\n",
    "    cold_item = list(set(range(0,39900)) - set(df_train['item_id'].unique()))\n",
    "    return cold_user, cold_item"
   ]
  },
  {
   "cell_type": "code",
   "execution_count": 9,
   "id": "1a02d009",
   "metadata": {},
   "outputs": [],
   "source": [
    "def calculate_weight(df,col,softmax_ = None,cold_item = None):\n",
    "    total = len(df)\n",
    "    item_count = df.groupby([col]).size().values\n",
    "    if softmax_ == None:\n",
    "        if cold_item == None:\n",
    "            item_weight = item_count/total\n",
    "        else:\n",
    "            item_count_cold = list(np.array(item_count)) + list([1]*len(cold_item))\n",
    "            item_weight_ = np.array(item_count_cold)/(total+len(cold_item))\n",
    "            cold_item_weight = np.random.dirichlet(np.ones(len(cold_item)))\n",
    "            a = 0.8\n",
    "            item_weight = list(item_weight_ * a) + list(cold_item_weight*(1-a))\n",
    "    else:\n",
    "        if cold_item == None:\n",
    "            item_weight_reversed = 1/(item_count/total)\n",
    "            item_weight = softmax(item_weight_reversed)\n",
    "        else:\n",
    "            item_count_cold = list(np.array(item_count) + 1) + list([1]*len(cold_item))\n",
    "            item_weight_reversed_cold = 1/(np.array(item_count_cold)/(total+len(cold_item)))\n",
    "            item_weight = softmax(item_weight_reversed_cold)\n",
    "    return item_weight"
   ]
  },
  {
   "cell_type": "code",
   "execution_count": 10,
   "id": "38a9db44",
   "metadata": {},
   "outputs": [],
   "source": [
    "def calculate_weight(df,col,softmax_ = None,cold_item = None):\n",
    "    total = len(df)\n",
    "    item_count = df.groupby([col]).size().values\n",
    "    if softmax_ == None:\n",
    "        if cold_item == None:\n",
    "            item_weight = item_count/total\n",
    "        else:\n",
    "            item_count_cold = list(np.array(item_count)) + list([1]*len(cold_item))\n",
    "            item_weight = np.array(item_count_cold)/(total+len(cold_item))\n",
    "            #cold_item_weight = np.random.dirichlet(np.ones(len(cold_item)))\n",
    "            #a = 0.2\n",
    "            #item_weight = list(item_weight_ * a) + list(cold_item_weight*(1-a))\n",
    "    else:\n",
    "        if cold_item == None:\n",
    "            item_weight_reversed = 1/(item_count/total)\n",
    "            item_weight = softmax(item_weight_reversed)\n",
    "        else:\n",
    "            item_count_cold = list(np.array(item_count) + 3) + list([1]*len(cold_item))\n",
    "            item_weight_reversed_cold = 1/(np.array(item_count_cold)/(total+len(cold_item)))\n",
    "            item_weight = softmax(item_weight_reversed_cold)\n",
    "    return item_weight"
   ]
  },
  {
   "cell_type": "code",
   "execution_count": 11,
   "id": "5a8caca6",
   "metadata": {},
   "outputs": [],
   "source": [
    "def generate_zeros(num_zeros,item,item_weight):\n",
    "    item_zeros = random.choices(item,weights = item_weight,k = num_zeros)\n",
    "    return item_zeros"
   ]
  },
  {
   "cell_type": "code",
   "execution_count": 12,
   "id": "e25d1c2c",
   "metadata": {},
   "outputs": [],
   "source": [
    "cold_user, cold_item = cold_start(df_test, df_train)"
   ]
  },
  {
   "cell_type": "markdown",
   "id": "8141402d",
   "metadata": {},
   "source": [
    "- user_id"
   ]
  },
  {
   "cell_type": "code",
   "execution_count": 76,
   "id": "5f889cc7",
   "metadata": {},
   "outputs": [],
   "source": [
    "# Set number of zeros\n",
    "n = 2\n",
    "num_zeros = len(df_full)*n"
   ]
  },
  {
   "cell_type": "code",
   "execution_count": 14,
   "id": "1710707d",
   "metadata": {},
   "outputs": [],
   "source": [
    "users = list(df_full['user_id'].unique()) + list(cold_user)\n",
    "user_weight = calculate_weight(df_full,'user_id',cold_item = cold_user)\n",
    "user_zeros = generate_zeros(num_zeros,users,user_weight)"
   ]
  },
  {
   "cell_type": "code",
   "execution_count": 77,
   "id": "d5b8038a",
   "metadata": {},
   "outputs": [],
   "source": [
    "users = df_full['user_id'].unique()\n",
    "user_weight = calculate_weight(df_full,'user_id')\n",
    "user_zeros = generate_zeros(num_zeros,users,user_weight)"
   ]
  },
  {
   "cell_type": "code",
   "execution_count": 533,
   "id": "bcc63775",
   "metadata": {},
   "outputs": [],
   "source": [
    "items = df_original['item_id'].unique()\n",
    "item_weight = calculate_weight(df_original,'item_id')\n",
    "item_zeros = generate_zeros(num_zeros,items,item_weight)"
   ]
  },
  {
   "cell_type": "markdown",
   "id": "5197cc2c",
   "metadata": {},
   "source": [
    "- item_id"
   ]
  },
  {
   "cell_type": "code",
   "execution_count": 79,
   "id": "8c33f7df",
   "metadata": {},
   "outputs": [],
   "source": [
    "items = list(df_original['item_id'].unique()) + list(cold_item)\n",
    "item_weight = calculate_weight(df_original,'item_id',softmax_ = 1,cold_item = cold_item)\n",
    "item_zeros = generate_zeros(num_zeros,items,item_weight)"
   ]
  },
  {
   "cell_type": "code",
   "execution_count": 80,
   "id": "5262a13e",
   "metadata": {},
   "outputs": [
    {
     "name": "stdout",
     "output_type": "stream",
     "text": [
      "set()\n"
     ]
    }
   ],
   "source": [
    "print(set(cold_item)-set(item_zeros))"
   ]
  },
  {
   "cell_type": "markdown",
   "id": "f2aca779",
   "metadata": {},
   "source": [
    "- context_feature"
   ]
  },
  {
   "cell_type": "code",
   "execution_count": 82,
   "id": "18f46a3a",
   "metadata": {},
   "outputs": [],
   "source": [
    "contexts = df_full['context_feature_id'].unique()\n",
    "context_weight = calculate_weight(df_original,'context_feature_id',softmax_ = 1)\n",
    "context_zeros = generate_zeros(num_zeros,contexts,context_weight)"
   ]
  },
  {
   "cell_type": "markdown",
   "id": "c91357d4",
   "metadata": {},
   "source": [
    "- item_feature"
   ]
  },
  {
   "cell_type": "code",
   "execution_count": 83,
   "id": "ef356c44",
   "metadata": {},
   "outputs": [],
   "source": [
    "item_fea = df_full['item_feature_id'].unique()\n",
    "item_fea_weight = calculate_weight(df_original,'item_feature_id',softmax_ = 1)\n",
    "item_fea_zeros = generate_zeros(num_zeros,item_fea,item_fea_weight)"
   ]
  },
  {
   "cell_type": "code",
   "execution_count": 19,
   "id": "dcb0f9cb",
   "metadata": {},
   "outputs": [],
   "source": [
    "df_full_zeros = pd.DataFrame({\"user_id\":user_zeros,\"item_id\":item_zeros})\n",
    "df_full_zeros['binary_ind'] = np.array([0]*len(df_full_zeros))"
   ]
  },
  {
   "cell_type": "code",
   "execution_count": 84,
   "id": "408f66b6",
   "metadata": {},
   "outputs": [],
   "source": [
    "df_full_zeros = pd.DataFrame({\"user_id\":user_zeros,\"item_id\":item_zeros,\"context_feature_id\":context_zeros,\"item_feature_id\":item_fea_zeros})\n",
    "df_full_zeros['binary_ind'] = np.array([0]*len(df_full_zeros))"
   ]
  },
  {
   "cell_type": "code",
   "execution_count": 161,
   "id": "65b71239",
   "metadata": {},
   "outputs": [],
   "source": [
    "df_new = df_full.append(df_full_zeros,ignore_index=True)"
   ]
  },
  {
   "cell_type": "code",
   "execution_count": 635,
   "id": "703558b4",
   "metadata": {},
   "outputs": [
    {
     "data": {
      "text/plain": [
       "892371"
      ]
     },
     "execution_count": 635,
     "metadata": {},
     "output_type": "execute_result"
    }
   ],
   "source": [
    "len(df_full)"
   ]
  },
  {
   "cell_type": "code",
   "execution_count": 636,
   "id": "0a8d4dfd",
   "metadata": {},
   "outputs": [
    {
     "data": {
      "text/plain": [
       "2677113"
      ]
     },
     "execution_count": 636,
     "metadata": {},
     "output_type": "execute_result"
    }
   ],
   "source": [
    "len(df_full_zeros)"
   ]
  },
  {
   "cell_type": "code",
   "execution_count": 637,
   "id": "2adec247",
   "metadata": {},
   "outputs": [
    {
     "data": {
      "text/plain": [
       "3569484"
      ]
     },
     "execution_count": 637,
     "metadata": {},
     "output_type": "execute_result"
    }
   ],
   "source": [
    "len(df_new)"
   ]
  },
  {
   "cell_type": "code",
   "execution_count": 572,
   "id": "481d366d",
   "metadata": {},
   "outputs": [
    {
     "data": {
      "text/plain": [
       "42293"
      ]
     },
     "execution_count": 572,
     "metadata": {},
     "output_type": "execute_result"
    }
   ],
   "source": [
    "#check if there exists duplicate\n",
    "df_new.duplicated(subset=['user_id', 'item_id']).sum()"
   ]
  },
  {
   "cell_type": "code",
   "execution_count": 164,
   "id": "47e4032b",
   "metadata": {},
   "outputs": [],
   "source": [
    "#drop duplicate\n",
    "df_new = df_new.drop_duplicates(subset=['user_id', 'item_id','context_feature_id','item_feature_id'],ignore_index=True)"
   ]
  },
  {
   "cell_type": "code",
   "execution_count": 165,
   "id": "a5012409",
   "metadata": {},
   "outputs": [
    {
     "data": {
      "text/html": [
       "<div>\n",
       "<style scoped>\n",
       "    .dataframe tbody tr th:only-of-type {\n",
       "        vertical-align: middle;\n",
       "    }\n",
       "\n",
       "    .dataframe tbody tr th {\n",
       "        vertical-align: top;\n",
       "    }\n",
       "\n",
       "    .dataframe thead th {\n",
       "        text-align: right;\n",
       "    }\n",
       "</style>\n",
       "<table border=\"1\" class=\"dataframe\">\n",
       "  <thead>\n",
       "    <tr style=\"text-align: right;\">\n",
       "      <th></th>\n",
       "      <th>user_id</th>\n",
       "      <th>item_id</th>\n",
       "      <th>context_feature_id</th>\n",
       "      <th>item_feature_id</th>\n",
       "      <th>binary_ind</th>\n",
       "    </tr>\n",
       "  </thead>\n",
       "  <tbody>\n",
       "    <tr>\n",
       "      <th>0</th>\n",
       "      <td>0</td>\n",
       "      <td>28366</td>\n",
       "      <td>2</td>\n",
       "      <td>7</td>\n",
       "      <td>1</td>\n",
       "    </tr>\n",
       "    <tr>\n",
       "      <th>1</th>\n",
       "      <td>0</td>\n",
       "      <td>16109</td>\n",
       "      <td>2</td>\n",
       "      <td>7</td>\n",
       "      <td>1</td>\n",
       "    </tr>\n",
       "    <tr>\n",
       "      <th>2</th>\n",
       "      <td>0</td>\n",
       "      <td>11500</td>\n",
       "      <td>3</td>\n",
       "      <td>7</td>\n",
       "      <td>1</td>\n",
       "    </tr>\n",
       "    <tr>\n",
       "      <th>3</th>\n",
       "      <td>0</td>\n",
       "      <td>20750</td>\n",
       "      <td>2</td>\n",
       "      <td>7</td>\n",
       "      <td>1</td>\n",
       "    </tr>\n",
       "    <tr>\n",
       "      <th>4</th>\n",
       "      <td>0</td>\n",
       "      <td>8759</td>\n",
       "      <td>2</td>\n",
       "      <td>7</td>\n",
       "      <td>1</td>\n",
       "    </tr>\n",
       "    <tr>\n",
       "      <th>...</th>\n",
       "      <td>...</td>\n",
       "      <td>...</td>\n",
       "      <td>...</td>\n",
       "      <td>...</td>\n",
       "      <td>...</td>\n",
       "    </tr>\n",
       "    <tr>\n",
       "      <th>2676592</th>\n",
       "      <td>155457</td>\n",
       "      <td>12580</td>\n",
       "      <td>2</td>\n",
       "      <td>47</td>\n",
       "      <td>0</td>\n",
       "    </tr>\n",
       "    <tr>\n",
       "      <th>2676593</th>\n",
       "      <td>29286</td>\n",
       "      <td>8635</td>\n",
       "      <td>2</td>\n",
       "      <td>186</td>\n",
       "      <td>0</td>\n",
       "    </tr>\n",
       "    <tr>\n",
       "      <th>2676594</th>\n",
       "      <td>117141</td>\n",
       "      <td>17020</td>\n",
       "      <td>2</td>\n",
       "      <td>91</td>\n",
       "      <td>0</td>\n",
       "    </tr>\n",
       "    <tr>\n",
       "      <th>2676595</th>\n",
       "      <td>89799</td>\n",
       "      <td>39313</td>\n",
       "      <td>2</td>\n",
       "      <td>168</td>\n",
       "      <td>0</td>\n",
       "    </tr>\n",
       "    <tr>\n",
       "      <th>2676596</th>\n",
       "      <td>165986</td>\n",
       "      <td>29116</td>\n",
       "      <td>2</td>\n",
       "      <td>32</td>\n",
       "      <td>0</td>\n",
       "    </tr>\n",
       "  </tbody>\n",
       "</table>\n",
       "<p>2676597 rows × 5 columns</p>\n",
       "</div>"
      ],
      "text/plain": [
       "         user_id  item_id  context_feature_id  item_feature_id  binary_ind\n",
       "0              0    28366                   2                7           1\n",
       "1              0    16109                   2                7           1\n",
       "2              0    11500                   3                7           1\n",
       "3              0    20750                   2                7           1\n",
       "4              0     8759                   2                7           1\n",
       "...          ...      ...                 ...              ...         ...\n",
       "2676592   155457    12580                   2               47           0\n",
       "2676593    29286     8635                   2              186           0\n",
       "2676594   117141    17020                   2               91           0\n",
       "2676595    89799    39313                   2              168           0\n",
       "2676596   165986    29116                   2               32           0\n",
       "\n",
       "[2676597 rows x 5 columns]"
      ]
     },
     "execution_count": 165,
     "metadata": {},
     "output_type": "execute_result"
    }
   ],
   "source": [
    "df_new"
   ]
  },
  {
   "cell_type": "code",
   "execution_count": 586,
   "id": "31ee15cd",
   "metadata": {},
   "outputs": [],
   "source": [
    "#drop duplicate\n",
    "df_new = df_new.drop_duplicates(subset=['user_id', 'item_id'], keep='first')\n",
    "#df_new = df_new.drop_duplicates()"
   ]
  },
  {
   "cell_type": "code",
   "execution_count": 166,
   "id": "4c85a95a",
   "metadata": {},
   "outputs": [
    {
     "data": {
      "text/plain": [
       "0.500144600515854"
      ]
     },
     "execution_count": 166,
     "metadata": {},
     "output_type": "execute_result"
    }
   ],
   "source": [
    "len(df_new[df_new['binary_ind']==1])/len(df_new[df_new['binary_ind']==0])"
   ]
  },
  {
   "cell_type": "code",
   "execution_count": 577,
   "id": "457fed3b",
   "metadata": {},
   "outputs": [],
   "source": [
    "df_new = df_full.append(df_new_[df_new_['binary_ind']==0])"
   ]
  },
  {
   "cell_type": "code",
   "execution_count": 90,
   "id": "c0f86275",
   "metadata": {},
   "outputs": [
    {
     "data": {
      "text/plain": [
       "892371"
      ]
     },
     "execution_count": 90,
     "metadata": {},
     "output_type": "execute_result"
    }
   ],
   "source": [
    "len(df_full)"
   ]
  },
  {
   "cell_type": "code",
   "execution_count": 91,
   "id": "4be5a809",
   "metadata": {},
   "outputs": [
    {
     "data": {
      "text/plain": [
       "2676597"
      ]
     },
     "execution_count": 91,
     "metadata": {},
     "output_type": "execute_result"
    }
   ],
   "source": [
    "len(df_new)"
   ]
  },
  {
   "cell_type": "code",
   "execution_count": 92,
   "id": "8baceb7f",
   "metadata": {},
   "outputs": [
    {
     "data": {
      "text/html": [
       "<div>\n",
       "<style scoped>\n",
       "    .dataframe tbody tr th:only-of-type {\n",
       "        vertical-align: middle;\n",
       "    }\n",
       "\n",
       "    .dataframe tbody tr th {\n",
       "        vertical-align: top;\n",
       "    }\n",
       "\n",
       "    .dataframe thead th {\n",
       "        text-align: right;\n",
       "    }\n",
       "</style>\n",
       "<table border=\"1\" class=\"dataframe\">\n",
       "  <thead>\n",
       "    <tr style=\"text-align: right;\">\n",
       "      <th></th>\n",
       "      <th>user_id</th>\n",
       "      <th>item_id</th>\n",
       "      <th>context_feature_id</th>\n",
       "      <th>item_feature_id</th>\n",
       "      <th>binary_ind</th>\n",
       "    </tr>\n",
       "  </thead>\n",
       "  <tbody>\n",
       "    <tr>\n",
       "      <th>0</th>\n",
       "      <td>0</td>\n",
       "      <td>28366</td>\n",
       "      <td>2</td>\n",
       "      <td>7</td>\n",
       "      <td>1</td>\n",
       "    </tr>\n",
       "    <tr>\n",
       "      <th>1</th>\n",
       "      <td>0</td>\n",
       "      <td>16109</td>\n",
       "      <td>2</td>\n",
       "      <td>7</td>\n",
       "      <td>1</td>\n",
       "    </tr>\n",
       "    <tr>\n",
       "      <th>2</th>\n",
       "      <td>0</td>\n",
       "      <td>11500</td>\n",
       "      <td>3</td>\n",
       "      <td>7</td>\n",
       "      <td>1</td>\n",
       "    </tr>\n",
       "    <tr>\n",
       "      <th>3</th>\n",
       "      <td>0</td>\n",
       "      <td>20750</td>\n",
       "      <td>2</td>\n",
       "      <td>7</td>\n",
       "      <td>1</td>\n",
       "    </tr>\n",
       "    <tr>\n",
       "      <th>4</th>\n",
       "      <td>0</td>\n",
       "      <td>8759</td>\n",
       "      <td>2</td>\n",
       "      <td>7</td>\n",
       "      <td>1</td>\n",
       "    </tr>\n",
       "    <tr>\n",
       "      <th>...</th>\n",
       "      <td>...</td>\n",
       "      <td>...</td>\n",
       "      <td>...</td>\n",
       "      <td>...</td>\n",
       "      <td>...</td>\n",
       "    </tr>\n",
       "    <tr>\n",
       "      <th>2677108</th>\n",
       "      <td>155457</td>\n",
       "      <td>12580</td>\n",
       "      <td>2</td>\n",
       "      <td>47</td>\n",
       "      <td>0</td>\n",
       "    </tr>\n",
       "    <tr>\n",
       "      <th>2677109</th>\n",
       "      <td>29286</td>\n",
       "      <td>8635</td>\n",
       "      <td>2</td>\n",
       "      <td>186</td>\n",
       "      <td>0</td>\n",
       "    </tr>\n",
       "    <tr>\n",
       "      <th>2677110</th>\n",
       "      <td>117141</td>\n",
       "      <td>17020</td>\n",
       "      <td>2</td>\n",
       "      <td>91</td>\n",
       "      <td>0</td>\n",
       "    </tr>\n",
       "    <tr>\n",
       "      <th>2677111</th>\n",
       "      <td>89799</td>\n",
       "      <td>39313</td>\n",
       "      <td>2</td>\n",
       "      <td>168</td>\n",
       "      <td>0</td>\n",
       "    </tr>\n",
       "    <tr>\n",
       "      <th>2677112</th>\n",
       "      <td>165986</td>\n",
       "      <td>29116</td>\n",
       "      <td>2</td>\n",
       "      <td>32</td>\n",
       "      <td>0</td>\n",
       "    </tr>\n",
       "  </tbody>\n",
       "</table>\n",
       "<p>2676597 rows × 5 columns</p>\n",
       "</div>"
      ],
      "text/plain": [
       "         user_id  item_id  context_feature_id  item_feature_id  binary_ind\n",
       "0              0    28366                   2                7           1\n",
       "1              0    16109                   2                7           1\n",
       "2              0    11500                   3                7           1\n",
       "3              0    20750                   2                7           1\n",
       "4              0     8759                   2                7           1\n",
       "...          ...      ...                 ...              ...         ...\n",
       "2677108   155457    12580                   2               47           0\n",
       "2677109    29286     8635                   2              186           0\n",
       "2677110   117141    17020                   2               91           0\n",
       "2677111    89799    39313                   2              168           0\n",
       "2677112   165986    29116                   2               32           0\n",
       "\n",
       "[2676597 rows x 5 columns]"
      ]
     },
     "execution_count": 92,
     "metadata": {},
     "output_type": "execute_result"
    }
   ],
   "source": [
    "df_new"
   ]
  },
  {
   "cell_type": "code",
   "execution_count": 155,
   "id": "25cc78fe",
   "metadata": {},
   "outputs": [
    {
     "data": {
      "text/html": [
       "<div>\n",
       "<style scoped>\n",
       "    .dataframe tbody tr th:only-of-type {\n",
       "        vertical-align: middle;\n",
       "    }\n",
       "\n",
       "    .dataframe tbody tr th {\n",
       "        vertical-align: top;\n",
       "    }\n",
       "\n",
       "    .dataframe thead th {\n",
       "        text-align: right;\n",
       "    }\n",
       "</style>\n",
       "<table border=\"1\" class=\"dataframe\">\n",
       "  <thead>\n",
       "    <tr style=\"text-align: right;\">\n",
       "      <th></th>\n",
       "      <th>user_id</th>\n",
       "      <th>item_id</th>\n",
       "      <th>context_feature_id</th>\n",
       "      <th>item_feature_id</th>\n",
       "      <th>binary_ind</th>\n",
       "    </tr>\n",
       "  </thead>\n",
       "  <tbody>\n",
       "    <tr>\n",
       "      <th>0</th>\n",
       "      <td>0</td>\n",
       "      <td>28366</td>\n",
       "      <td>2</td>\n",
       "      <td>7</td>\n",
       "      <td>1</td>\n",
       "    </tr>\n",
       "    <tr>\n",
       "      <th>1</th>\n",
       "      <td>0</td>\n",
       "      <td>16109</td>\n",
       "      <td>2</td>\n",
       "      <td>7</td>\n",
       "      <td>1</td>\n",
       "    </tr>\n",
       "    <tr>\n",
       "      <th>2</th>\n",
       "      <td>0</td>\n",
       "      <td>11500</td>\n",
       "      <td>3</td>\n",
       "      <td>7</td>\n",
       "      <td>1</td>\n",
       "    </tr>\n",
       "    <tr>\n",
       "      <th>3</th>\n",
       "      <td>0</td>\n",
       "      <td>20750</td>\n",
       "      <td>2</td>\n",
       "      <td>7</td>\n",
       "      <td>1</td>\n",
       "    </tr>\n",
       "    <tr>\n",
       "      <th>4</th>\n",
       "      <td>0</td>\n",
       "      <td>8759</td>\n",
       "      <td>2</td>\n",
       "      <td>7</td>\n",
       "      <td>1</td>\n",
       "    </tr>\n",
       "    <tr>\n",
       "      <th>...</th>\n",
       "      <td>...</td>\n",
       "      <td>...</td>\n",
       "      <td>...</td>\n",
       "      <td>...</td>\n",
       "      <td>...</td>\n",
       "    </tr>\n",
       "    <tr>\n",
       "      <th>2677108</th>\n",
       "      <td>155457</td>\n",
       "      <td>12580</td>\n",
       "      <td>2</td>\n",
       "      <td>47</td>\n",
       "      <td>0</td>\n",
       "    </tr>\n",
       "    <tr>\n",
       "      <th>2677109</th>\n",
       "      <td>29286</td>\n",
       "      <td>8635</td>\n",
       "      <td>2</td>\n",
       "      <td>186</td>\n",
       "      <td>0</td>\n",
       "    </tr>\n",
       "    <tr>\n",
       "      <th>2677110</th>\n",
       "      <td>117141</td>\n",
       "      <td>17020</td>\n",
       "      <td>2</td>\n",
       "      <td>91</td>\n",
       "      <td>0</td>\n",
       "    </tr>\n",
       "    <tr>\n",
       "      <th>2677111</th>\n",
       "      <td>89799</td>\n",
       "      <td>39313</td>\n",
       "      <td>2</td>\n",
       "      <td>168</td>\n",
       "      <td>0</td>\n",
       "    </tr>\n",
       "    <tr>\n",
       "      <th>2677112</th>\n",
       "      <td>165986</td>\n",
       "      <td>29116</td>\n",
       "      <td>2</td>\n",
       "      <td>32</td>\n",
       "      <td>0</td>\n",
       "    </tr>\n",
       "  </tbody>\n",
       "</table>\n",
       "<p>2676597 rows × 5 columns</p>\n",
       "</div>"
      ],
      "text/plain": [
       "         user_id  item_id  context_feature_id  item_feature_id  binary_ind\n",
       "0              0    28366                   2                7           1\n",
       "1              0    16109                   2                7           1\n",
       "2              0    11500                   3                7           1\n",
       "3              0    20750                   2                7           1\n",
       "4              0     8759                   2                7           1\n",
       "...          ...      ...                 ...              ...         ...\n",
       "2677108   155457    12580                   2               47           0\n",
       "2677109    29286     8635                   2              186           0\n",
       "2677110   117141    17020                   2               91           0\n",
       "2677111    89799    39313                   2              168           0\n",
       "2677112   165986    29116                   2               32           0\n",
       "\n",
       "[2676597 rows x 5 columns]"
      ]
     },
     "execution_count": 155,
     "metadata": {},
     "output_type": "execute_result"
    }
   ],
   "source": [
    "df_new"
   ]
  },
  {
   "cell_type": "code",
   "execution_count": 167,
   "id": "557cd2c2",
   "metadata": {},
   "outputs": [],
   "source": [
    "df_new.to_feather(\"~/Downloads/df_new.fea\")"
   ]
  },
  {
   "cell_type": "code",
   "execution_count": null,
   "id": "a82509a0",
   "metadata": {},
   "outputs": [],
   "source": []
  },
  {
   "cell_type": "markdown",
   "id": "284ed852",
   "metadata": {},
   "source": [
    "## Encoding"
   ]
  },
  {
   "cell_type": "code",
   "execution_count": 93,
   "id": "34df7bc1",
   "metadata": {},
   "outputs": [],
   "source": [
    "train, val = train_test_split(df_new, test_size=0.2, random_state=42)\n",
    "def encoding(train,val):\n",
    "    train_user_ids = np.sort(np.unique(train.user_id.values))\n",
    "    userid2idx = {o:i for i,o in enumerate(train_user_ids)}\n",
    "    train[\"user_id\"] = train[\"user_id\"].apply(lambda x: userid2idx[x])\n",
    "    val[\"user_id\"] = val[\"user_id\"].apply(lambda x: userid2idx.get(x, -1))\n",
    "    val = val[val[\"user_id\"] >= 0].copy()\n",
    "    train_item_ids = np.sort(np.unique(train.item_id.values))\n",
    "    itemid2idx = {o:i for i,o in enumerate(train_item_ids)}\n",
    "    train[\"item_id\"] = train[\"item_id\"].apply(lambda x: itemid2idx[x])\n",
    "    val[\"item_id\"] = val[\"item_id\"].apply(lambda x: itemid2idx.get(x, -1))\n",
    "    val = val[val[\"item_id\"] >= 0].copy()\n",
    "    return train, val"
   ]
  },
  {
   "cell_type": "code",
   "execution_count": 176,
   "id": "e77800dc",
   "metadata": {},
   "outputs": [],
   "source": [
    "def proc_col(col, train_col=None):\n",
    "    \"\"\"Encodes a pandas column with continous ids. \n",
    "    \"\"\"\n",
    "    if train_col is not None:\n",
    "        uniq = train_col.unique()\n",
    "    else:\n",
    "        uniq = col.unique()\n",
    "    name2idx = {o:i for i,o in enumerate(uniq)}\n",
    "    dict_values = list(name2idx.values())\n",
    "    #mean = int(sum(dict_values)/len(dict_values))\n",
    "    return name2idx, np.array([name2idx.get(x, -1) for x in col]), len(uniq)"
   ]
  },
  {
   "cell_type": "code",
   "execution_count": 400,
   "id": "333aeae9",
   "metadata": {},
   "outputs": [],
   "source": [
    "def encode_data(df, train=None):\n",
    "    \"\"\" Encodes rating data with continous user and movie ids. \n",
    "    If train is provided, encodes df with the same encoding as train.\n",
    "    \"\"\"\n",
    "    df = df.copy()\n",
    "    for col_name in [\"user_id\", \"item_id\"]: #,'context_feature_id','item_feature_id']:\n",
    "        train_col = None\n",
    "        if train is not None:\n",
    "            train_col = train[col_name]\n",
    "        _,col,_ = proc_col(df[col_name], train_col)\n",
    "        df[col_name] = col\n",
    "        df = df[df[col_name] >= 0]\n",
    "        \n",
    "    return df"
   ]
  },
  {
   "cell_type": "code",
   "execution_count": 401,
   "id": "43d3808a",
   "metadata": {},
   "outputs": [],
   "source": [
    "# encoding the train and validation data\n",
    "train, val = train_test_split(df_new, test_size=0.2, random_state=42)\n",
    "df_train = encode_data(train)\n",
    "df_val = encode_data(val, train)"
   ]
  },
  {
   "cell_type": "code",
   "execution_count": 99,
   "id": "ac964112",
   "metadata": {},
   "outputs": [
    {
     "data": {
      "text/html": [
       "<div>\n",
       "<style scoped>\n",
       "    .dataframe tbody tr th:only-of-type {\n",
       "        vertical-align: middle;\n",
       "    }\n",
       "\n",
       "    .dataframe tbody tr th {\n",
       "        vertical-align: top;\n",
       "    }\n",
       "\n",
       "    .dataframe thead th {\n",
       "        text-align: right;\n",
       "    }\n",
       "</style>\n",
       "<table border=\"1\" class=\"dataframe\">\n",
       "  <thead>\n",
       "    <tr style=\"text-align: right;\">\n",
       "      <th></th>\n",
       "      <th>user_id</th>\n",
       "      <th>item_id</th>\n",
       "      <th>context_feature_id</th>\n",
       "      <th>item_feature_id</th>\n",
       "      <th>binary_ind</th>\n",
       "    </tr>\n",
       "  </thead>\n",
       "  <tbody>\n",
       "    <tr>\n",
       "      <th>297603</th>\n",
       "      <td>0</td>\n",
       "      <td>0</td>\n",
       "      <td>0</td>\n",
       "      <td>0</td>\n",
       "      <td>1</td>\n",
       "    </tr>\n",
       "    <tr>\n",
       "      <th>2027756</th>\n",
       "      <td>1</td>\n",
       "      <td>1</td>\n",
       "      <td>0</td>\n",
       "      <td>1</td>\n",
       "      <td>0</td>\n",
       "    </tr>\n",
       "    <tr>\n",
       "      <th>1560729</th>\n",
       "      <td>2</td>\n",
       "      <td>2</td>\n",
       "      <td>0</td>\n",
       "      <td>2</td>\n",
       "      <td>0</td>\n",
       "    </tr>\n",
       "    <tr>\n",
       "      <th>1872583</th>\n",
       "      <td>3</td>\n",
       "      <td>3</td>\n",
       "      <td>0</td>\n",
       "      <td>3</td>\n",
       "      <td>0</td>\n",
       "    </tr>\n",
       "    <tr>\n",
       "      <th>2544090</th>\n",
       "      <td>4</td>\n",
       "      <td>4</td>\n",
       "      <td>0</td>\n",
       "      <td>4</td>\n",
       "      <td>0</td>\n",
       "    </tr>\n",
       "    <tr>\n",
       "      <th>...</th>\n",
       "      <td>...</td>\n",
       "      <td>...</td>\n",
       "      <td>...</td>\n",
       "      <td>...</td>\n",
       "      <td>...</td>\n",
       "    </tr>\n",
       "    <tr>\n",
       "      <th>110268</th>\n",
       "      <td>63104</td>\n",
       "      <td>13079</td>\n",
       "      <td>0</td>\n",
       "      <td>114</td>\n",
       "      <td>1</td>\n",
       "    </tr>\n",
       "    <tr>\n",
       "      <th>1692832</th>\n",
       "      <td>25616</td>\n",
       "      <td>3559</td>\n",
       "      <td>0</td>\n",
       "      <td>6</td>\n",
       "      <td>0</td>\n",
       "    </tr>\n",
       "    <tr>\n",
       "      <th>2356667</th>\n",
       "      <td>133735</td>\n",
       "      <td>2985</td>\n",
       "      <td>0</td>\n",
       "      <td>2</td>\n",
       "      <td>0</td>\n",
       "    </tr>\n",
       "    <tr>\n",
       "      <th>2229367</th>\n",
       "      <td>129431</td>\n",
       "      <td>919</td>\n",
       "      <td>0</td>\n",
       "      <td>19</td>\n",
       "      <td>0</td>\n",
       "    </tr>\n",
       "    <tr>\n",
       "      <th>2219389</th>\n",
       "      <td>126226</td>\n",
       "      <td>2221</td>\n",
       "      <td>0</td>\n",
       "      <td>17</td>\n",
       "      <td>0</td>\n",
       "    </tr>\n",
       "  </tbody>\n",
       "</table>\n",
       "<p>2141277 rows × 5 columns</p>\n",
       "</div>"
      ],
      "text/plain": [
       "         user_id  item_id  context_feature_id  item_feature_id  binary_ind\n",
       "297603         0        0                   0                0           1\n",
       "2027756        1        1                   0                1           0\n",
       "1560729        2        2                   0                2           0\n",
       "1872583        3        3                   0                3           0\n",
       "2544090        4        4                   0                4           0\n",
       "...          ...      ...                 ...              ...         ...\n",
       "110268     63104    13079                   0              114           1\n",
       "1692832    25616     3559                   0                6           0\n",
       "2356667   133735     2985                   0                2           0\n",
       "2229367   129431      919                   0               19           0\n",
       "2219389   126226     2221                   0               17           0\n",
       "\n",
       "[2141277 rows x 5 columns]"
      ]
     },
     "execution_count": 99,
     "metadata": {},
     "output_type": "execute_result"
    }
   ],
   "source": [
    "df_train"
   ]
  },
  {
   "cell_type": "code",
   "execution_count": 378,
   "id": "8147e251",
   "metadata": {},
   "outputs": [],
   "source": [
    "df_new = pd.read_feather('~/Downloads/fan.fea')"
   ]
  },
  {
   "cell_type": "code",
   "execution_count": 379,
   "id": "fb9f811d",
   "metadata": {},
   "outputs": [
    {
     "data": {
      "text/html": [
       "<div>\n",
       "<style scoped>\n",
       "    .dataframe tbody tr th:only-of-type {\n",
       "        vertical-align: middle;\n",
       "    }\n",
       "\n",
       "    .dataframe tbody tr th {\n",
       "        vertical-align: top;\n",
       "    }\n",
       "\n",
       "    .dataframe thead th {\n",
       "        text-align: right;\n",
       "    }\n",
       "</style>\n",
       "<table border=\"1\" class=\"dataframe\">\n",
       "  <thead>\n",
       "    <tr style=\"text-align: right;\">\n",
       "      <th></th>\n",
       "      <th>user_id</th>\n",
       "      <th>item_id</th>\n",
       "      <th>binary_ind</th>\n",
       "    </tr>\n",
       "  </thead>\n",
       "  <tbody>\n",
       "    <tr>\n",
       "      <th>0</th>\n",
       "      <td>0</td>\n",
       "      <td>28366</td>\n",
       "      <td>1.0</td>\n",
       "    </tr>\n",
       "    <tr>\n",
       "      <th>1</th>\n",
       "      <td>0</td>\n",
       "      <td>16109</td>\n",
       "      <td>1.0</td>\n",
       "    </tr>\n",
       "    <tr>\n",
       "      <th>2</th>\n",
       "      <td>0</td>\n",
       "      <td>11500</td>\n",
       "      <td>1.0</td>\n",
       "    </tr>\n",
       "    <tr>\n",
       "      <th>3</th>\n",
       "      <td>0</td>\n",
       "      <td>20750</td>\n",
       "      <td>1.0</td>\n",
       "    </tr>\n",
       "    <tr>\n",
       "      <th>4</th>\n",
       "      <td>0</td>\n",
       "      <td>8759</td>\n",
       "      <td>1.0</td>\n",
       "    </tr>\n",
       "    <tr>\n",
       "      <th>...</th>\n",
       "      <td>...</td>\n",
       "      <td>...</td>\n",
       "      <td>...</td>\n",
       "    </tr>\n",
       "    <tr>\n",
       "      <th>4714136</th>\n",
       "      <td>200151</td>\n",
       "      <td>6838</td>\n",
       "      <td>0.0</td>\n",
       "    </tr>\n",
       "    <tr>\n",
       "      <th>4714137</th>\n",
       "      <td>200151</td>\n",
       "      <td>24909</td>\n",
       "      <td>0.0</td>\n",
       "    </tr>\n",
       "    <tr>\n",
       "      <th>4714138</th>\n",
       "      <td>200151</td>\n",
       "      <td>15868</td>\n",
       "      <td>0.0</td>\n",
       "    </tr>\n",
       "    <tr>\n",
       "      <th>4714139</th>\n",
       "      <td>200151</td>\n",
       "      <td>33035</td>\n",
       "      <td>0.0</td>\n",
       "    </tr>\n",
       "    <tr>\n",
       "      <th>4714140</th>\n",
       "      <td>200151</td>\n",
       "      <td>3949</td>\n",
       "      <td>0.0</td>\n",
       "    </tr>\n",
       "  </tbody>\n",
       "</table>\n",
       "<p>4714141 rows × 3 columns</p>\n",
       "</div>"
      ],
      "text/plain": [
       "         user_id  item_id  binary_ind\n",
       "0              0    28366         1.0\n",
       "1              0    16109         1.0\n",
       "2              0    11500         1.0\n",
       "3              0    20750         1.0\n",
       "4              0     8759         1.0\n",
       "...          ...      ...         ...\n",
       "4714136   200151     6838         0.0\n",
       "4714137   200151    24909         0.0\n",
       "4714138   200151    15868         0.0\n",
       "4714139   200151    33035         0.0\n",
       "4714140   200151     3949         0.0\n",
       "\n",
       "[4714141 rows x 3 columns]"
      ]
     },
     "execution_count": 379,
     "metadata": {},
     "output_type": "execute_result"
    }
   ],
   "source": [
    "df_new"
   ]
  },
  {
   "cell_type": "markdown",
   "id": "6e749873",
   "metadata": {},
   "source": [
    "## Model"
   ]
  },
  {
   "cell_type": "code",
   "execution_count": 392,
   "id": "656349f9",
   "metadata": {},
   "outputs": [],
   "source": [
    "def train_epocs(model, epochs=10, lr=0.01, wd=0.0, unsqueeze=False):\n",
    "    optimizer = torch.optim.Adam(model.parameters(), lr=lr, weight_decay=wd)\n",
    "    users = torch.LongTensor(df_train.user_id.values) # .cuda()\n",
    "    items = torch.LongTensor(df_train.item_id.values) #.cuda()\n",
    "    #context = torch.LongTensor(df_train.context_feature_id.values)\n",
    "    #item_fea = torch.LongTensor(df_train.item_feature_id.values)\n",
    "    for i in range(epochs): \n",
    "        #print(ratings)\n",
    "        model.train()\n",
    "        ratings = torch.FloatTensor(df_train.binary_ind.values) #.cuda()\n",
    "        if unsqueeze:\n",
    "            ratings = ratings.unsqueeze(1)\n",
    "        y_hat = model(users, items)\n",
    "        #print(y_hat)\n",
    "        loss = F.binary_cross_entropy(torch.sigmoid(y_hat), ratings)\n",
    "        optimizer.zero_grad()\n",
    "        loss.backward()\n",
    "        optimizer.step()\n",
    "        print(loss.item()) \n",
    "    test_loss(model, unsqueeze)"
   ]
  },
  {
   "cell_type": "code",
   "execution_count": 393,
   "id": "8eaacfaa",
   "metadata": {},
   "outputs": [],
   "source": [
    "def test_loss(model, unsqueeze=False):\n",
    "    model.eval()\n",
    "    users = torch.LongTensor(df_val.user_id.values) #.cuda()\n",
    "    items = torch.LongTensor(df_val.item_id.values) #.cuda()\n",
    "    #context = torch.LongTensor(df_val.context_feature_id.values)\n",
    "    #item_fea = torch.LongTensor(df_val.item_feature_id.values)\n",
    "    ratings = torch.FloatTensor(df_val.binary_ind.values) #.cuda()\n",
    "    if unsqueeze:\n",
    "        ratings = ratings.unsqueeze(1)\n",
    "    y_hat = model(users, items)\n",
    "    loss = F.binary_cross_entropy(torch.sigmoid(y_hat), ratings)\n",
    "    print(\"loss %.3f \" % loss.item())"
   ]
  },
  {
   "cell_type": "code",
   "execution_count": 233,
   "id": "020286fd",
   "metadata": {},
   "outputs": [],
   "source": [
    "class CollabFNet(nn.Module):\n",
    "    def __init__(self, num_users, num_items,num_item_fea, num_context_fea,emb_size=100, n_hidden=10):\n",
    "        super(CollabFNet, self).__init__()\n",
    "        self.user_emb = nn.Embedding(num_users, emb_size)\n",
    "        self.item_emb = nn.Embedding(num_items, emb_size)\n",
    "        self.item_fea_emb = nn.Embedding(num_item_fea, emb_size)\n",
    "        self.context_fea_emb = nn.Embedding(num_context_fea, emb_size)\n",
    "        \n",
    "#         self.user_emb.weight.data.uniform_(0, 0.05)  # .cuda()\n",
    "#         self.item_emb.weight.data.uniform_(0, 0.05)\n",
    "#         self.item_fea_emb.weight.data.uniform_(0, 0.05)\n",
    "#         self.context_fea_emb.weight.data.uniform_(0, 0.05)\n",
    "        \n",
    "        \n",
    "        \n",
    "        self.lin1 = nn.Linear(emb_size*4, n_hidden)\n",
    "        self.lin2 = nn.Linear(n_hidden, 1)\n",
    "        self.drop1 = nn.Dropout(0.1)\n",
    "        \n",
    "        \n",
    "        \n",
    "    def forward(self, u, v,a,b):\n",
    "        \n",
    "        U = self.user_emb(u)\n",
    "        V = self.item_emb(v)\n",
    "        A = self.item_fea_emb(a)\n",
    "        B = self.context_fea_emb(b)\n",
    "        \n",
    "        x = F.relu(torch.cat([U, V,A,B], dim=1))\n",
    "        x = self.drop1(x)\n",
    "        x = F.relu(self.lin1(x))\n",
    "        x = self.lin2(x)\n",
    "#         U = []\n",
    "#         mean = torch.mean(model.user_emb.weight,0).detach().numpy()\n",
    "#         for item in u.detach().numpy():\n",
    "#             if item == -1:\n",
    "#                 U.append([mean])\n",
    "#                 #print(len(mean))\n",
    "#             else:\n",
    "#                 U.append(model.user_emb(torch.LongTensor([item])).detach().numpy())\n",
    "#                 #print(len(model.user_emb(torch.LongTensor([item])).detach().numpy()[0]))\n",
    "#         U = torch.tensor(U).squeeze(1)\n",
    "        \n",
    "#         V = []\n",
    "#         mean = torch.mean(model.item_emb.weight,0).detach().numpy()\n",
    "#         for item in v.detach().numpy():\n",
    "#             if item == -1:\n",
    "#                 V.append([mean])\n",
    "#                 #print(len(mean))\n",
    "#             else:\n",
    "#                 V.append(model.item_emb(torch.LongTensor([item])).detach().numpy())\n",
    "#                 #print(len(model.user_emb(torch.LongTensor([item])).detach().numpy()[0]))\n",
    "#         V = torch.tensor(V).squeeze(1)\n",
    "        \n",
    "#         A = self.item_fea_emb(a)\n",
    "        \n",
    "#         B = []\n",
    "#         mean = torch.mean(model.context_fea_emb.weight,0).detach().numpy()\n",
    "#         for item in b.detach().numpy():\n",
    "#             if item == -1:\n",
    "#                 B.append([mean])\n",
    "#                 #print(len(mean))\n",
    "#             else:\n",
    "#                 B.append(model.context_fea_emb(torch.LongTensor([item])).detach().numpy())\n",
    "#                 #print(len(model.user_emb(torch.LongTensor([item])).detach().numpy()[0]))\n",
    "#         B = torch.tensor(B).squeeze(1)\n",
    "        \n",
    "#         x = F.relu(torch.cat([U, V,A,B], dim=1))\n",
    "#         x = self.drop1(x)\n",
    "#         x = F.relu(self.lin1(x))\n",
    "#         x = self.lin2(x)\n",
    "        return x"
   ]
  },
  {
   "cell_type": "code",
   "execution_count": 382,
   "id": "5994fbc9",
   "metadata": {},
   "outputs": [
    {
     "data": {
      "text/html": [
       "<div>\n",
       "<style scoped>\n",
       "    .dataframe tbody tr th:only-of-type {\n",
       "        vertical-align: middle;\n",
       "    }\n",
       "\n",
       "    .dataframe tbody tr th {\n",
       "        vertical-align: top;\n",
       "    }\n",
       "\n",
       "    .dataframe thead th {\n",
       "        text-align: right;\n",
       "    }\n",
       "</style>\n",
       "<table border=\"1\" class=\"dataframe\">\n",
       "  <thead>\n",
       "    <tr style=\"text-align: right;\">\n",
       "      <th></th>\n",
       "      <th>user_id</th>\n",
       "      <th>item_id</th>\n",
       "      <th>context_feature_id</th>\n",
       "      <th>item_feature_id</th>\n",
       "      <th>binary_ind</th>\n",
       "    </tr>\n",
       "  </thead>\n",
       "  <tbody>\n",
       "    <tr>\n",
       "      <th>1240356</th>\n",
       "      <td>15724</td>\n",
       "      <td>22802</td>\n",
       "      <td>2</td>\n",
       "      <td>32</td>\n",
       "      <td>0</td>\n",
       "    </tr>\n",
       "    <tr>\n",
       "      <th>1473099</th>\n",
       "      <td>37831</td>\n",
       "      <td>24407</td>\n",
       "      <td>2</td>\n",
       "      <td>124</td>\n",
       "      <td>0</td>\n",
       "    </tr>\n",
       "    <tr>\n",
       "      <th>169654</th>\n",
       "      <td>38037</td>\n",
       "      <td>2989</td>\n",
       "      <td>2</td>\n",
       "      <td>2</td>\n",
       "      <td>1</td>\n",
       "    </tr>\n",
       "    <tr>\n",
       "      <th>987783</th>\n",
       "      <td>198170</td>\n",
       "      <td>18080</td>\n",
       "      <td>2</td>\n",
       "      <td>12</td>\n",
       "      <td>0</td>\n",
       "    </tr>\n",
       "    <tr>\n",
       "      <th>772495</th>\n",
       "      <td>173157</td>\n",
       "      <td>20726</td>\n",
       "      <td>2</td>\n",
       "      <td>95</td>\n",
       "      <td>1</td>\n",
       "    </tr>\n",
       "    <tr>\n",
       "      <th>...</th>\n",
       "      <td>...</td>\n",
       "      <td>...</td>\n",
       "      <td>...</td>\n",
       "      <td>...</td>\n",
       "      <td>...</td>\n",
       "    </tr>\n",
       "    <tr>\n",
       "      <th>2160984</th>\n",
       "      <td>108254</td>\n",
       "      <td>26897</td>\n",
       "      <td>2</td>\n",
       "      <td>179</td>\n",
       "      <td>0</td>\n",
       "    </tr>\n",
       "    <tr>\n",
       "      <th>2386461</th>\n",
       "      <td>147552</td>\n",
       "      <td>33545</td>\n",
       "      <td>2</td>\n",
       "      <td>32</td>\n",
       "      <td>0</td>\n",
       "    </tr>\n",
       "    <tr>\n",
       "      <th>1069176</th>\n",
       "      <td>23202</td>\n",
       "      <td>11026</td>\n",
       "      <td>2</td>\n",
       "      <td>169</td>\n",
       "      <td>0</td>\n",
       "    </tr>\n",
       "    <tr>\n",
       "      <th>890953</th>\n",
       "      <td>199817</td>\n",
       "      <td>1898</td>\n",
       "      <td>1</td>\n",
       "      <td>148</td>\n",
       "      <td>1</td>\n",
       "    </tr>\n",
       "    <tr>\n",
       "      <th>133823</th>\n",
       "      <td>30118</td>\n",
       "      <td>8139</td>\n",
       "      <td>2</td>\n",
       "      <td>131</td>\n",
       "      <td>1</td>\n",
       "    </tr>\n",
       "  </tbody>\n",
       "</table>\n",
       "<p>535320 rows × 5 columns</p>\n",
       "</div>"
      ],
      "text/plain": [
       "         user_id  item_id  context_feature_id  item_feature_id  binary_ind\n",
       "1240356    15724    22802                   2               32           0\n",
       "1473099    37831    24407                   2              124           0\n",
       "169654     38037     2989                   2                2           1\n",
       "987783    198170    18080                   2               12           0\n",
       "772495    173157    20726                   2               95           1\n",
       "...          ...      ...                 ...              ...         ...\n",
       "2160984   108254    26897                   2              179           0\n",
       "2386461   147552    33545                   2               32           0\n",
       "1069176    23202    11026                   2              169           0\n",
       "890953    199817     1898                   1              148           1\n",
       "133823     30118     8139                   2              131           1\n",
       "\n",
       "[535320 rows x 5 columns]"
      ]
     },
     "execution_count": 382,
     "metadata": {},
     "output_type": "execute_result"
    }
   ],
   "source": [
    "val"
   ]
  },
  {
   "cell_type": "code",
   "execution_count": 221,
   "id": "e8210cb2",
   "metadata": {},
   "outputs": [],
   "source": [
    "u = torch.LongTensor([0,1,2,-1])"
   ]
  },
  {
   "cell_type": "code",
   "execution_count": 226,
   "id": "24f51da7",
   "metadata": {},
   "outputs": [
    {
     "data": {
      "text/plain": [
       "tensor([     0,      1,      2,  ..., 133735, 129431, 126226])"
      ]
     },
     "execution_count": 226,
     "metadata": {},
     "output_type": "execute_result"
    }
   ],
   "source": [
    "torch.LongTensor(df_train['user_id'].values)"
   ]
  },
  {
   "cell_type": "code",
   "execution_count": 227,
   "id": "7cf7748f",
   "metadata": {},
   "outputs": [
    {
     "data": {
      "text/plain": [
       "tensor([[-0.6605, -1.1674,  0.2038,  ...,  0.7557,  0.0798,  0.3406],\n",
       "        [-1.1995,  0.4573,  0.4943,  ...,  0.2469,  0.9524, -1.2122],\n",
       "        [-0.2465, -1.7332,  0.1873,  ..., -0.9301,  0.4131,  1.2513],\n",
       "        ...,\n",
       "        [-0.8346, -0.2193,  0.5832,  ...,  0.9770, -0.4874, -0.6197],\n",
       "        [-1.3966, -0.2259, -1.2421,  ..., -0.3621, -0.3839, -0.1239],\n",
       "        [-0.2818, -0.7919, -0.3283,  ...,  0.9242, -0.0924,  0.4773]],\n",
       "       grad_fn=<EmbeddingBackward0>)"
      ]
     },
     "execution_count": 227,
     "metadata": {},
     "output_type": "execute_result"
    }
   ],
   "source": [
    "model.user_emb(torch.LongTensor(df_train['user_id'].values))"
   ]
  },
  {
   "cell_type": "code",
   "execution_count": 229,
   "id": "cbb4446b",
   "metadata": {},
   "outputs": [
    {
     "data": {
      "text/plain": [
       "tensor([[-0.6605, -1.1674,  0.2038,  0.8967,  1.3795, -0.7050, -0.1980,  0.3467,\n",
       "          0.9825,  1.2013, -0.9593, -1.1596, -0.7831, -0.5456, -0.8601, -0.3027,\n",
       "          1.3354, -0.7540,  0.7131, -1.6415, -0.2090, -0.6988,  0.5370,  1.9874,\n",
       "         -0.7472,  0.2855,  0.9081,  1.1746,  0.1904,  1.3448,  1.5099, -0.0380,\n",
       "         -0.7210,  1.3514, -0.2194, -0.1066,  0.0865,  0.1316,  0.1276, -0.9654,\n",
       "          0.2661,  2.4915,  0.5309, -0.8298,  0.6366, -0.0697,  0.1135,  0.7557,\n",
       "          0.0798,  0.3406]], grad_fn=<EmbeddingBackward0>)"
      ]
     },
     "execution_count": 229,
     "metadata": {},
     "output_type": "execute_result"
    }
   ],
   "source": [
    "model.user_emb(torch.LongTensor([0]))"
   ]
  },
  {
   "cell_type": "code",
   "execution_count": 286,
   "id": "fece5b15",
   "metadata": {},
   "outputs": [
    {
     "data": {
      "text/plain": [
       "tensor([[ 7.0636e-03,  9.5519e-01, -6.8614e-02,  ...,  4.9666e-02,\n",
       "          5.3381e-02, -6.5271e-01],\n",
       "        [-9.4355e-02,  3.5173e-01, -1.2058e-01,  ...,  1.5775e-01,\n",
       "         -2.4216e-02, -4.7389e-01],\n",
       "        [-9.3705e-02,  1.3516e-01,  5.0344e-01,  ...,  4.0221e-03,\n",
       "         -5.6150e-02,  1.0941e-01],\n",
       "        ...,\n",
       "        [ 3.5648e-02, -1.2551e-01, -8.9256e-02,  ...,  2.6451e-01,\n",
       "         -9.0519e-01,  8.6243e-02],\n",
       "        [ 1.0231e-01, -1.0975e-01, -7.7309e-03,  ..., -9.9597e-02,\n",
       "          2.4119e-01, -1.3241e-01],\n",
       "        [-9.3046e-04,  7.2712e-04,  1.3854e-03,  ...,  5.7795e-04,\n",
       "         -6.9521e-04, -9.8729e-04]])"
      ]
     },
     "execution_count": 286,
     "metadata": {},
     "output_type": "execute_result"
    }
   ],
   "source": [
    "Emb = model.user_emb.weight.detach().numpy()\n",
    "Emb_list = list(Emb)\n",
    "Emb_list.append(np.mean(Emb,axis = 0))\n",
    "Emb_array = torch.tensor(np.array(Emb_list))\n",
    "Emb_array"
   ]
  },
  {
   "cell_type": "code",
   "execution_count": 292,
   "id": "79755369",
   "metadata": {},
   "outputs": [
    {
     "data": {
      "text/plain": [
       "array([[ 0.00706361,  0.9551858 , -0.06861369,  0.1324953 ,  0.09495371,\n",
       "        -0.06217994,  0.13216399, -0.11910537,  0.07230283, -0.02031904,\n",
       "        -0.09317045, -0.13005337, -0.12970406,  0.16936032, -0.0345384 ,\n",
       "         0.01394959,  0.03822183, -0.32911372,  0.08000132, -0.0549654 ,\n",
       "         0.07476093, -0.12578201,  1.2152717 ,  0.03787008, -0.0752846 ,\n",
       "        -0.06954133,  0.0322592 ,  0.09666593,  0.04684403,  0.0394599 ,\n",
       "         0.00941906,  0.20466527,  0.03166532,  0.06737769,  0.0037127 ,\n",
       "        -0.13162939, -0.11337183, -0.13519347, -0.19189337, -0.047182  ,\n",
       "         0.12564524, -0.1426532 , -0.39268652,  0.09779441, -0.12819865,\n",
       "         0.06210697, -1.1760359 ,  0.04966637,  0.05338109, -0.6527113 ]],\n",
       "      dtype=float32)"
      ]
     },
     "execution_count": 292,
     "metadata": {},
     "output_type": "execute_result"
    }
   ],
   "source": [
    "model.user_emb(torch.LongTensor([0])).detach().numpy()"
   ]
  },
  {
   "cell_type": "code",
   "execution_count": 375,
   "id": "ef27d9b3",
   "metadata": {},
   "outputs": [],
   "source": [
    "u = torch.LongTensor([0,-1,0,2]).unsqueeze(1)\n",
    "u = u.detach().numpy()"
   ]
  },
  {
   "cell_type": "code",
   "execution_count": 368,
   "id": "10e20f10",
   "metadata": {},
   "outputs": [],
   "source": [
    "u = np.array([[-1],[0],[2],[0]])"
   ]
  },
  {
   "cell_type": "code",
   "execution_count": 369,
   "id": "8297013a",
   "metadata": {},
   "outputs": [
    {
     "data": {
      "text/plain": [
       "array([[-1],\n",
       "       [ 1],\n",
       "       [ 2],\n",
       "       [ 1]])"
      ]
     },
     "execution_count": 369,
     "metadata": {},
     "output_type": "execute_result"
    }
   ],
   "source": [
    "np.where(u==[0],1,u)"
   ]
  },
  {
   "cell_type": "code",
   "execution_count": 370,
   "id": "d82f6778",
   "metadata": {},
   "outputs": [
    {
     "name": "stdout",
     "output_type": "stream",
     "text": [
      "[-9.3046715e-04  7.2711747e-04  1.3853624e-03  3.6512476e-05\n",
      "  8.4932608e-04  1.1896073e-03  7.6148892e-04 -9.9453947e-04\n",
      " -3.1706100e-04  1.2763403e-03  8.6601742e-04  3.1000955e-04\n",
      " -1.0469344e-03 -1.4636462e-03 -1.2040888e-03  9.5022196e-04\n",
      "  1.2626518e-03  6.2008703e-04 -3.8345918e-04  8.0275151e-04\n",
      " -5.4261647e-04 -4.7348769e-04 -1.4779484e-04 -3.2133271e-04\n",
      " -8.8907615e-04 -3.3931027e-04  2.2127004e-03  5.3652585e-04\n",
      "  6.1696745e-04  7.8334118e-04  3.3010598e-04 -1.8651549e-03\n",
      " -4.4089442e-04 -1.2917304e-03  2.1513492e-04 -1.2569207e-04\n",
      " -1.3493723e-03 -6.9286430e-04 -1.2462626e-03  9.0885494e-04\n",
      " -3.9829451e-04  1.5128667e-04  2.4075997e-03 -1.2329570e-04\n",
      "  6.4461835e-04 -1.4554444e-03  2.6778123e-04  5.7795149e-04\n",
      " -6.9519709e-04 -9.8729820e-04]\n"
     ]
    },
    {
     "data": {
      "text/plain": [
       "array([[-9.30467155e-04,  7.27117469e-04,  1.38536235e-03,\n",
       "         3.65124761e-05,  8.49326083e-04,  1.18960731e-03,\n",
       "         7.61488918e-04, -9.94539470e-04, -3.17061000e-04,\n",
       "         1.27634034e-03,  8.66017421e-04,  3.10009549e-04,\n",
       "        -1.04693440e-03, -1.46364619e-03, -1.20408880e-03,\n",
       "         9.50221962e-04,  1.26265176e-03,  6.20087027e-04,\n",
       "        -3.83459177e-04,  8.02751514e-04, -5.42616472e-04,\n",
       "        -4.73487686e-04, -1.47794839e-04, -3.21332715e-04,\n",
       "        -8.89076153e-04, -3.39310267e-04,  2.21270043e-03,\n",
       "         5.36525855e-04,  6.16967445e-04,  7.83341180e-04,\n",
       "         3.30105977e-04, -1.86515495e-03, -4.40894422e-04,\n",
       "        -1.29173044e-03,  2.15134918e-04, -1.25692066e-04,\n",
       "        -1.34937232e-03, -6.92864298e-04, -1.24626257e-03,\n",
       "         9.08854941e-04, -3.98294505e-04,  1.51286673e-04,\n",
       "         2.40759971e-03, -1.23295700e-04,  6.44618354e-04,\n",
       "        -1.45544438e-03,  2.67781230e-04,  5.77951490e-04,\n",
       "        -6.95197086e-04, -9.87298205e-04],\n",
       "       [ 7.06361141e-03,  9.55185771e-01, -6.86136857e-02,\n",
       "         1.32495299e-01,  9.49537084e-02, -6.21799380e-02,\n",
       "         1.32163987e-01, -1.19105369e-01,  7.23028257e-02,\n",
       "        -2.03190427e-02, -9.31704491e-02, -1.30053371e-01,\n",
       "        -1.29704058e-01,  1.69360325e-01, -3.45383994e-02,\n",
       "         1.39495879e-02,  3.82218286e-02, -3.29113722e-01,\n",
       "         8.00013244e-02, -5.49653992e-02,  7.47609288e-02,\n",
       "        -1.25782013e-01,  1.21527171e+00,  3.78700793e-02,\n",
       "        -7.52846003e-02, -6.95413277e-02,  3.22591960e-02,\n",
       "         9.66659337e-02,  4.68440279e-02,  3.94598953e-02,\n",
       "         9.41905566e-03,  2.04665273e-01,  3.16653177e-02,\n",
       "         6.73776865e-02,  3.71270254e-03, -1.31629393e-01,\n",
       "        -1.13371827e-01, -1.35193467e-01, -1.91893369e-01,\n",
       "        -4.71819974e-02,  1.25645235e-01, -1.42653197e-01,\n",
       "        -3.92686516e-01,  9.77944061e-02, -1.28198653e-01,\n",
       "         6.21069670e-02, -1.17603588e+00,  4.96663675e-02,\n",
       "         5.33810891e-02, -6.52711272e-01],\n",
       "       [-9.37051997e-02,  1.35162532e-01,  5.03437936e-01,\n",
       "        -3.80186588e-01, -4.10695188e-03,  7.75774568e-02,\n",
       "         1.79428256e+00,  4.89450991e-01, -2.85385177e-03,\n",
       "        -1.32555604e-01, -3.24718542e-02,  1.13292597e-04,\n",
       "         1.29820958e-01, -4.62337375e-01, -7.41237998e-02,\n",
       "         3.03746797e-02, -1.32644057e-01, -1.45340916e-02,\n",
       "         1.22119136e-01,  5.64735755e-03,  8.13878402e-02,\n",
       "         5.79908341e-02, -4.84500378e-01, -8.58298317e-02,\n",
       "         4.26268801e-02,  2.62781400e-02,  4.12816256e-02,\n",
       "        -8.36645886e-02,  1.05549544e-01, -2.30616117e+00,\n",
       "        -9.72965173e-03, -8.05137455e-02,  1.12580359e-01,\n",
       "         9.37647998e-01, -1.21152177e-01,  3.11927319e-01,\n",
       "         2.77834274e-02, -9.51751649e-01, -4.72430959e-02,\n",
       "         2.02399231e-02,  2.35824622e-02,  3.96295190e-02,\n",
       "        -6.90862060e-01, -1.57612767e-02,  3.46596956e-01,\n",
       "        -8.04368138e-01,  5.31702861e-02,  4.02212515e-03,\n",
       "        -5.61503470e-02,  1.09405741e-01],\n",
       "       [ 7.06361141e-03,  9.55185771e-01, -6.86136857e-02,\n",
       "         1.32495299e-01,  9.49537084e-02, -6.21799380e-02,\n",
       "         1.32163987e-01, -1.19105369e-01,  7.23028257e-02,\n",
       "        -2.03190427e-02, -9.31704491e-02, -1.30053371e-01,\n",
       "        -1.29704058e-01,  1.69360325e-01, -3.45383994e-02,\n",
       "         1.39495879e-02,  3.82218286e-02, -3.29113722e-01,\n",
       "         8.00013244e-02, -5.49653992e-02,  7.47609288e-02,\n",
       "        -1.25782013e-01,  1.21527171e+00,  3.78700793e-02,\n",
       "        -7.52846003e-02, -6.95413277e-02,  3.22591960e-02,\n",
       "         9.66659337e-02,  4.68440279e-02,  3.94598953e-02,\n",
       "         9.41905566e-03,  2.04665273e-01,  3.16653177e-02,\n",
       "         6.73776865e-02,  3.71270254e-03, -1.31629393e-01,\n",
       "        -1.13371827e-01, -1.35193467e-01, -1.91893369e-01,\n",
       "        -4.71819974e-02,  1.25645235e-01, -1.42653197e-01,\n",
       "        -3.92686516e-01,  9.77944061e-02, -1.28198653e-01,\n",
       "         6.21069670e-02, -1.17603588e+00,  4.96663675e-02,\n",
       "         5.33810891e-02, -6.52711272e-01]], dtype=float32)"
      ]
     },
     "execution_count": 370,
     "metadata": {},
     "output_type": "execute_result"
    }
   ],
   "source": [
    "# U = []\n",
    "mean = np.array(torch.mean(model.user_emb.weight,0).detach().numpy())\n",
    "print(mean)\n",
    "# for item in u.detach().numpy():\n",
    "#     if item == -1:\n",
    "#         U.append([mean])\n",
    "#         #print(len(mean))\n",
    "#     else:\n",
    "#         U.append(model.user_emb(torch.LongTensor([item])).detach().numpy())\n",
    "#         #print(len(model.user_emb(torch.LongTensor([item])).detach().numpy()[0]))\n",
    "# U = torch.tensor(U).squeeze(1)\n",
    "\n",
    "U = np.where(u==-1,mean,model.user_emb(torch.LongTensor(abs(u))).squeeze(1).detach().numpy())\n",
    "U"
   ]
  },
  {
   "cell_type": "code",
   "execution_count": 337,
   "id": "ba6cd949",
   "metadata": {},
   "outputs": [
    {
     "data": {
      "text/plain": [
       "-1"
      ]
     },
     "execution_count": 337,
     "metadata": {},
     "output_type": "execute_result"
    }
   ],
   "source": [
    "np.sum([-1])"
   ]
  },
  {
   "cell_type": "code",
   "execution_count": 231,
   "id": "a0c5b316",
   "metadata": {},
   "outputs": [
    {
     "name": "stdout",
     "output_type": "stream",
     "text": [
      "tensor([], dtype=torch.int64)\n",
      "tensor([4294967296])\n",
      "tensor([3, 0])\n"
     ]
    },
    {
     "data": {
      "text/plain": [
       "tensor([[-6.6046e-01, -1.1674e+00,  2.0375e-01,  8.9669e-01,  1.3795e+00,\n",
       "         -7.0502e-01, -1.9801e-01,  3.4674e-01,  9.8246e-01,  1.2013e+00,\n",
       "         -9.5926e-01, -1.1596e+00, -7.8308e-01, -5.4561e-01, -8.6012e-01,\n",
       "         -3.0275e-01,  1.3354e+00, -7.5404e-01,  7.1305e-01, -1.6415e+00,\n",
       "         -2.0901e-01, -6.9880e-01,  5.3696e-01,  1.9874e+00, -7.4722e-01,\n",
       "          2.8548e-01,  9.0810e-01,  1.1746e+00,  1.9041e-01,  1.3448e+00,\n",
       "          1.5099e+00, -3.7982e-02, -7.2103e-01,  1.3514e+00, -2.1938e-01,\n",
       "         -1.0662e-01,  8.6543e-02,  1.3161e-01,  1.2757e-01, -9.6535e-01,\n",
       "          2.6611e-01,  2.4915e+00,  5.3086e-01, -8.2981e-01,  6.3665e-01,\n",
       "         -6.9730e-02,  1.1347e-01,  7.5574e-01,  7.9842e-02,  3.4062e-01],\n",
       "        [-1.1995e+00,  4.5728e-01,  4.9427e-01,  1.5647e+00, -1.5613e+00,\n",
       "         -1.1082e+00,  1.5047e+00, -1.2588e+00,  1.4112e+00,  8.0507e-01,\n",
       "          2.4235e+00,  2.5541e+00, -6.5966e-01,  1.1346e+00,  1.6362e+00,\n",
       "          6.9272e-01,  9.9824e-01,  3.3060e-01,  2.9431e-01,  5.3286e-02,\n",
       "          5.9839e-01, -5.9449e-02, -1.2350e+00, -5.3368e-01,  5.9264e-02,\n",
       "         -7.8515e-01,  8.7133e-02,  1.9786e+00, -4.0561e-01, -2.6447e-01,\n",
       "          1.9823e-01,  7.3648e-01, -7.1110e-01,  1.0300e+00,  2.7013e+00,\n",
       "          5.3734e-01, -2.2803e-01,  8.4181e-01, -3.9616e-01, -1.0968e+00,\n",
       "         -3.9135e-01,  4.7945e-01, -1.1640e+00,  1.4857e+00, -1.1206e+00,\n",
       "          2.8606e-01,  2.4145e+00,  2.4686e-01,  9.5244e-01, -1.2122e+00],\n",
       "        [-2.4646e-01, -1.7332e+00,  1.8732e-01,  9.7855e-02, -4.3167e-01,\n",
       "         -7.4790e-01,  3.8342e-01, -1.3402e+00,  1.5614e+00, -3.8770e-01,\n",
       "          8.9489e-03, -1.7119e-02, -8.5653e-01,  5.4618e-01,  6.3353e-02,\n",
       "          4.1168e-01,  1.3317e-01, -6.3880e-01, -4.7276e-01, -4.0660e-01,\n",
       "          1.3151e+00,  1.2084e+00, -1.0265e+00,  6.3325e-01, -7.8241e-01,\n",
       "          1.0469e-01, -1.0998e-01,  1.3132e+00, -5.6956e-01,  4.0815e-01,\n",
       "         -3.8175e-01, -5.3556e-01,  1.4468e+00,  2.6035e+00,  8.5668e-01,\n",
       "          1.4293e+00,  1.5171e+00,  9.7031e-01,  2.2922e-01,  9.5619e-01,\n",
       "         -1.4501e+00,  2.6503e+00, -3.5385e-01, -2.9142e-01,  3.4128e-01,\n",
       "          2.1279e-01,  2.4439e+00, -9.3008e-01,  4.1311e-01,  1.2513e+00],\n",
       "        [ 3.0293e-03, -2.9569e-03, -1.8929e-03, -3.7421e-03,  1.4480e-03,\n",
       "          2.5946e-03, -2.0770e-03, -3.4805e-03, -5.5261e-03, -2.4767e-03,\n",
       "         -1.8119e-03,  1.4585e-04,  7.4548e-03, -3.1470e-04, -4.4485e-03,\n",
       "          8.9515e-04,  2.3236e-03, -2.2915e-03, -1.4699e-03, -1.0059e-04,\n",
       "         -3.9333e-03,  2.2532e-03, -5.2024e-04, -6.9344e-04, -9.1960e-04,\n",
       "          5.3375e-04, -2.9449e-03,  2.4432e-03,  5.0537e-04,  2.4385e-04,\n",
       "          6.0641e-04,  1.5073e-04, -1.7187e-04, -3.6259e-03,  3.8672e-04,\n",
       "         -1.7500e-03,  1.4584e-03, -2.9025e-04, -1.0540e-03, -1.3642e-03,\n",
       "         -2.7022e-04,  1.7890e-04, -2.0204e-03,  9.9371e-04,  2.2962e-04,\n",
       "         -7.3338e-04,  7.6496e-04, -3.4872e-03, -6.5039e-04, -7.2718e-04]])"
      ]
     },
     "execution_count": 231,
     "metadata": {},
     "output_type": "execute_result"
    }
   ],
   "source": [
    "U = []\n",
    "mean = torch.mean(model.user_emb.weight,0).detach().numpy()\n",
    "for item in u.detach().numpy():\n",
    "    if item == -1:\n",
    "        U.append([mean])\n",
    "        #print(len(mean))\n",
    "    else:\n",
    "        print(torch.LongTensor(item))\n",
    "        U.append(model.user_emb(torch.LongTensor([item])).detach().numpy())\n",
    "        #print(len(model.user_emb(torch.LongTensor([item])).detach().numpy()[0]))\n",
    "torch.tensor(U).squeeze(1)"
   ]
  },
  {
   "cell_type": "code",
   "execution_count": 172,
   "id": "9b95f3d6",
   "metadata": {},
   "outputs": [
    {
     "data": {
      "text/plain": [
       "True"
      ]
     },
     "execution_count": 172,
     "metadata": {},
     "output_type": "execute_result"
    }
   ],
   "source": [
    "a = torch.LongTensor([1,2,3]).detach().numpy()\n",
    "1 in a"
   ]
  },
  {
   "cell_type": "code",
   "execution_count": 234,
   "id": "24736f30",
   "metadata": {},
   "outputs": [
    {
     "ename": "NameError",
     "evalue": "name 'MF' is not defined",
     "output_type": "error",
     "traceback": [
      "\u001b[0;31m---------------------------------------------------------------------------\u001b[0m",
      "\u001b[0;31mNameError\u001b[0m                                 Traceback (most recent call last)",
      "\u001b[0;32m<ipython-input-234-904e5e69431a>\u001b[0m in \u001b[0;36m<module>\u001b[0;34m\u001b[0m\n\u001b[0;32m----> 1\u001b[0;31m \u001b[0mmodel\u001b[0m \u001b[0;34m=\u001b[0m \u001b[0mMF\u001b[0m\u001b[0;34m(\u001b[0m\u001b[0mnum_users\u001b[0m\u001b[0;34m,\u001b[0m \u001b[0mnum_items\u001b[0m\u001b[0;34m,\u001b[0m \u001b[0memb_size\u001b[0m\u001b[0;34m=\u001b[0m\u001b[0;36m100\u001b[0m\u001b[0;34m)\u001b[0m \u001b[0;31m#.cuda()\u001b[0m\u001b[0;34m\u001b[0m\u001b[0;34m\u001b[0m\u001b[0m\n\u001b[0m\u001b[1;32m      2\u001b[0m \u001b[0mtrain_epocs\u001b[0m\u001b[0;34m(\u001b[0m\u001b[0mmodel\u001b[0m\u001b[0;34m,\u001b[0m\u001b[0mdf_train\u001b[0m\u001b[0;34m,\u001b[0m\u001b[0mdf_val\u001b[0m\u001b[0;34m,\u001b[0m \u001b[0mepochs\u001b[0m\u001b[0;34m=\u001b[0m\u001b[0;36m15\u001b[0m\u001b[0;34m,\u001b[0m \u001b[0mlr\u001b[0m\u001b[0;34m=\u001b[0m\u001b[0;36m0.05\u001b[0m\u001b[0;34m,\u001b[0m \u001b[0mwd\u001b[0m\u001b[0;34m=\u001b[0m\u001b[0;36m1e-6\u001b[0m\u001b[0;34m)\u001b[0m\u001b[0;34m\u001b[0m\u001b[0;34m\u001b[0m\u001b[0m\n",
      "\u001b[0;31mNameError\u001b[0m: name 'MF' is not defined"
     ]
    }
   ],
   "source": [
    "model = MF(num_users, num_items, emb_size=100) #.cuda()\n",
    "train_epocs(model,df_train,df_val, epochs=15, lr=0.05, wd=1e-6) "
   ]
  },
  {
   "cell_type": "code",
   "execution_count": null,
   "id": "5a930551",
   "metadata": {},
   "outputs": [],
   "source": []
  },
  {
   "cell_type": "code",
   "execution_count": 402,
   "id": "913f9098",
   "metadata": {},
   "outputs": [],
   "source": [
    "num_users = len(df_train.user_id.unique())\n",
    "num_items = len(df_train.item_id.unique())\n",
    "#num_item_fea = len(df_train.item_feature_id.unique())\n",
    "#num_context_fea = len(df_train.context_feature_id.unique())"
   ]
  },
  {
   "cell_type": "code",
   "execution_count": 236,
   "id": "b8c8ef95",
   "metadata": {},
   "outputs": [
    {
     "data": {
      "text/plain": [
       "False"
      ]
     },
     "execution_count": 236,
     "metadata": {},
     "output_type": "execute_result"
    }
   ],
   "source": [
    "torch.cuda.is_available()"
   ]
  },
  {
   "cell_type": "code",
   "execution_count": 403,
   "id": "edc3484d",
   "metadata": {},
   "outputs": [
    {
     "name": "stdout",
     "output_type": "stream",
     "text": [
      "0.8552946448326111\n",
      "0.5629643201828003\n",
      "0.4775201678276062\n",
      "0.5141378045082092\n",
      "0.500086784362793\n",
      "0.45948779582977295\n",
      "0.4339931309223175\n",
      "0.42933255434036255\n",
      "0.42655718326568604\n",
      "0.4119907319545746\n",
      "0.38687828183174133\n",
      "0.35917001962661743\n",
      "0.3358326256275177\n",
      "0.31833502650260925\n",
      "0.30361220240592957\n",
      "0.28796330094337463\n",
      "0.2700236141681671\n",
      "0.25012272596359253\n",
      "0.2297922670841217\n",
      "0.21022118628025055\n",
      "loss 0.192 \n"
     ]
    }
   ],
   "source": [
    "model = CollabFNet(num_users, num_items,emb_size=50) #.cuda()\n",
    "train_epocs(model, epochs=20, lr=0.05, wd=1e-6, unsqueeze=True) "
   ]
  },
  {
   "cell_type": "code",
   "execution_count": 594,
   "id": "1d0ed9e2",
   "metadata": {},
   "outputs": [
    {
     "name": "stdout",
     "output_type": "stream",
     "text": [
      "0.671840250492096\n",
      "0.6205050349235535\n",
      "0.5567648410797119\n",
      "0.5490132570266724\n",
      "0.553680956363678\n",
      "0.5453387498855591\n",
      "0.5256995558738708\n",
      "0.5014596581459045\n",
      "0.48050758242607117\n",
      "0.4636409878730774\n",
      "0.44171759486198425\n",
      "0.40827977657318115\n",
      "0.3666671812534332\n",
      "0.3241528570652008\n",
      "0.2852347195148468\n",
      "0.2533109784126282\n",
      "0.22931331396102905\n",
      "0.21186359226703644\n",
      "0.19952809810638428\n",
      "0.1905786544084549\n",
      "loss 0.183 \n"
     ]
    }
   ],
   "source": [
    "model = CollabFNet(num_users, num_items, emb_size=100)#.cuda()\n",
    "train_epocs(model, epochs=20, lr=0.05, wd=1e-6, unsqueeze=True) "
   ]
  },
  {
   "cell_type": "code",
   "execution_count": 513,
   "id": "0af2d768",
   "metadata": {},
   "outputs": [
    {
     "name": "stdout",
     "output_type": "stream",
     "text": [
      "0.6950045824050903\n",
      "0.6925733685493469\n",
      "0.6912747025489807\n",
      "0.6897596716880798\n",
      "0.6883002519607544\n",
      "0.68658447265625\n",
      "0.6846222281455994\n",
      "0.6820521354675293\n",
      "0.6785567402839661\n",
      "0.6741604804992676\n",
      "0.6695421934127808\n",
      "0.6648101806640625\n",
      "0.6587973833084106\n",
      "0.6528801321983337\n",
      "0.6456193327903748\n",
      "loss 0.635 \n"
     ]
    }
   ],
   "source": [
    "model = CollabFNet(num_users, num_items, emb_size=100) #.cuda()\n",
    "train_epocs(model, epochs=15, lr=0.005, wd=1e-6, unsqueeze=True) "
   ]
  },
  {
   "cell_type": "code",
   "execution_count": 514,
   "id": "38c0779a",
   "metadata": {},
   "outputs": [
    {
     "name": "stdout",
     "output_type": "stream",
     "text": [
      "0.6953813433647156\n",
      "2.4838826656341553\n",
      "0.674903392791748\n",
      "0.6953098177909851\n",
      "0.6969735622406006\n",
      "0.6984870433807373\n",
      "0.699672281742096\n",
      "0.7004452347755432\n",
      "0.7007884979248047\n",
      "0.7007297277450562\n",
      "0.7003265023231506\n",
      "0.6996550559997559\n",
      "0.6987984776496887\n",
      "0.6978409886360168\n",
      "0.6968597173690796\n",
      "loss 0.696 \n"
     ]
    }
   ],
   "source": [
    "model = CollabFNet(num_users, num_items, emb_size=100) #.cuda()\n",
    "train_epocs(model, epochs=15, lr=0.1, wd=1e-6, unsqueeze=True) "
   ]
  },
  {
   "cell_type": "code",
   "execution_count": 515,
   "id": "a0fcc113",
   "metadata": {},
   "outputs": [
    {
     "name": "stdout",
     "output_type": "stream",
     "text": [
      "0.6956307888031006\n",
      "0.8264777660369873\n",
      "0.6910773515701294\n",
      "0.6932404637336731\n",
      "0.6934601068496704\n",
      "0.6937193274497986\n",
      "0.6939666271209717\n",
      "0.6941694021224976\n",
      "0.6943103671073914\n",
      "0.6943824291229248\n",
      "0.6943871378898621\n",
      "0.6943321228027344\n",
      "0.6942289471626282\n",
      "0.6940910220146179\n",
      "0.6939330101013184\n",
      "0.6937686204910278\n",
      "0.6936101317405701\n",
      "0.6934672594070435\n",
      "0.6933475136756897\n",
      "0.6932550072669983\n",
      "0.6931911706924438\n",
      "0.6931547522544861\n",
      "0.6931428909301758\n",
      "0.6931506395339966\n",
      "0.6931721568107605\n",
      "loss 0.693 \n"
     ]
    }
   ],
   "source": [
    "model = CollabFNet(num_users, num_items, emb_size=100) #.cuda()\n",
    "train_epocs(model, epochs=25, lr=0.05, wd=1e-6, unsqueeze=True) "
   ]
  },
  {
   "cell_type": "code",
   "execution_count": 516,
   "id": "9d588eb2",
   "metadata": {},
   "outputs": [
    {
     "name": "stdout",
     "output_type": "stream",
     "text": [
      "0.7006629109382629\n",
      "0.7214236855506897\n",
      "0.6913665533065796\n",
      "0.6937902569770813\n",
      "0.6965742707252502\n",
      "0.6969781517982483\n",
      "0.6957098841667175\n",
      "0.692736804485321\n",
      "0.6885350346565247\n",
      "0.6846222877502441\n",
      "0.6819278001785278\n",
      "0.6803528070449829\n",
      "0.6789910197257996\n",
      "0.6767967343330383\n",
      "0.6729539036750793\n",
      "0.6673202514648438\n",
      "0.6604852676391602\n",
      "0.653156042098999\n",
      "0.6459986567497253\n",
      "0.6387197971343994\n",
      "0.6300086379051208\n",
      "0.6196205019950867\n",
      "0.608133852481842\n",
      "0.5958212614059448\n",
      "0.5821130275726318\n",
      "loss 0.563 \n"
     ]
    }
   ],
   "source": [
    "model = CollabFNet(num_users, num_items, emb_size=100) #.cuda()\n",
    "train_epocs(model, epochs=25, lr=0.01, wd=1e-6, unsqueeze=True) "
   ]
  },
  {
   "cell_type": "code",
   "execution_count": 517,
   "id": "4e6c5047",
   "metadata": {},
   "outputs": [
    {
     "name": "stdout",
     "output_type": "stream",
     "text": [
      "0.6940291523933411\n",
      "1.0885980129241943\n",
      "1.4890618324279785\n",
      "1.1031248569488525\n",
      "0.7476983070373535\n",
      "0.6603927612304688\n",
      "0.6910495162010193\n",
      "0.69443678855896\n",
      "0.6936636567115784\n",
      "0.6932409405708313\n",
      "0.6931678652763367\n",
      "0.693359375\n",
      "0.6937271356582642\n",
      "0.6941896080970764\n",
      "0.6946820020675659\n",
      "0.6951497793197632\n",
      "0.6955531239509583\n",
      "0.6958610415458679\n",
      "0.6960332989692688\n",
      "0.6959249377250671\n",
      "0.6951722502708435\n",
      "0.6923417448997498\n",
      "0.6804497241973877\n",
      "0.6440902948379517\n",
      "0.5929275155067444\n",
      "loss 0.558 \n"
     ]
    }
   ],
   "source": [
    "model = CollabFNet(num_users, num_items, emb_size=100) #.cuda()\n",
    "train_epocs(model, epochs=25, lr=0.1, wd=1e-6, unsqueeze=True) "
   ]
  },
  {
   "cell_type": "code",
   "execution_count": 518,
   "id": "e55cb13a",
   "metadata": {},
   "outputs": [
    {
     "name": "stdout",
     "output_type": "stream",
     "text": [
      "0.6933286190032959\n",
      "0.6926804780960083\n",
      "0.6921373009681702\n",
      "0.6915972828865051\n",
      "0.691122829914093\n",
      "0.6906277537345886\n",
      "0.690036416053772\n",
      "0.6894194483757019\n",
      "0.6887574791908264\n",
      "0.6880629658699036\n",
      "0.6872885227203369\n",
      "0.6864635944366455\n",
      "0.685598611831665\n",
      "0.6847065687179565\n",
      "0.6837458610534668\n",
      "0.6827284693717957\n",
      "0.6816368103027344\n",
      "0.6805155873298645\n",
      "0.6793432235717773\n",
      "0.6781958937644958\n",
      "0.6768791675567627\n",
      "0.6756259799003601\n",
      "0.6742296814918518\n",
      "0.6727902889251709\n",
      "0.671342670917511\n",
      "loss 0.669 \n"
     ]
    }
   ],
   "source": [
    "model = CollabFNet(num_users, num_items, emb_size=100) #.cuda()\n",
    "train_epocs(model, epochs=25, lr=0.001, wd=1e-6, unsqueeze=True) "
   ]
  },
  {
   "cell_type": "code",
   "execution_count": 131,
   "id": "1ff3ca8e",
   "metadata": {},
   "outputs": [],
   "source": [
    "df_test = df_test.merge(df_feature, how='left', on='item_id')"
   ]
  },
  {
   "cell_type": "code",
   "execution_count": 132,
   "id": "f7bec6ed",
   "metadata": {},
   "outputs": [
    {
     "data": {
      "text/html": [
       "<div>\n",
       "<style scoped>\n",
       "    .dataframe tbody tr th:only-of-type {\n",
       "        vertical-align: middle;\n",
       "    }\n",
       "\n",
       "    .dataframe tbody tr th {\n",
       "        vertical-align: top;\n",
       "    }\n",
       "\n",
       "    .dataframe thead th {\n",
       "        text-align: right;\n",
       "    }\n",
       "</style>\n",
       "<table border=\"1\" class=\"dataframe\">\n",
       "  <thead>\n",
       "    <tr style=\"text-align: right;\">\n",
       "      <th></th>\n",
       "      <th>id</th>\n",
       "      <th>user_id</th>\n",
       "      <th>item_id</th>\n",
       "      <th>context_feature_id</th>\n",
       "      <th>item_feature_id</th>\n",
       "    </tr>\n",
       "  </thead>\n",
       "  <tbody>\n",
       "    <tr>\n",
       "      <th>0</th>\n",
       "      <td>0</td>\n",
       "      <td>4</td>\n",
       "      <td>16835</td>\n",
       "      <td>2</td>\n",
       "      <td>142</td>\n",
       "    </tr>\n",
       "    <tr>\n",
       "      <th>1</th>\n",
       "      <td>1</td>\n",
       "      <td>4</td>\n",
       "      <td>22590</td>\n",
       "      <td>3</td>\n",
       "      <td>142</td>\n",
       "    </tr>\n",
       "    <tr>\n",
       "      <th>2</th>\n",
       "      <td>2</td>\n",
       "      <td>4</td>\n",
       "      <td>1978</td>\n",
       "      <td>1</td>\n",
       "      <td>142</td>\n",
       "    </tr>\n",
       "    <tr>\n",
       "      <th>3</th>\n",
       "      <td>3</td>\n",
       "      <td>4</td>\n",
       "      <td>28916</td>\n",
       "      <td>1</td>\n",
       "      <td>148</td>\n",
       "    </tr>\n",
       "    <tr>\n",
       "      <th>4</th>\n",
       "      <td>4</td>\n",
       "      <td>4</td>\n",
       "      <td>14427</td>\n",
       "      <td>2</td>\n",
       "      <td>63</td>\n",
       "    </tr>\n",
       "    <tr>\n",
       "      <th>...</th>\n",
       "      <td>...</td>\n",
       "      <td>...</td>\n",
       "      <td>...</td>\n",
       "      <td>...</td>\n",
       "      <td>...</td>\n",
       "    </tr>\n",
       "    <tr>\n",
       "      <th>381380</th>\n",
       "      <td>381380</td>\n",
       "      <td>200151</td>\n",
       "      <td>1702</td>\n",
       "      <td>1</td>\n",
       "      <td>139</td>\n",
       "    </tr>\n",
       "    <tr>\n",
       "      <th>381381</th>\n",
       "      <td>381381</td>\n",
       "      <td>200151</td>\n",
       "      <td>21632</td>\n",
       "      <td>1</td>\n",
       "      <td>130</td>\n",
       "    </tr>\n",
       "    <tr>\n",
       "      <th>381382</th>\n",
       "      <td>381382</td>\n",
       "      <td>200151</td>\n",
       "      <td>30477</td>\n",
       "      <td>1</td>\n",
       "      <td>130</td>\n",
       "    </tr>\n",
       "    <tr>\n",
       "      <th>381383</th>\n",
       "      <td>381383</td>\n",
       "      <td>200151</td>\n",
       "      <td>30477</td>\n",
       "      <td>1</td>\n",
       "      <td>130</td>\n",
       "    </tr>\n",
       "    <tr>\n",
       "      <th>381384</th>\n",
       "      <td>381384</td>\n",
       "      <td>200151</td>\n",
       "      <td>17715</td>\n",
       "      <td>1</td>\n",
       "      <td>138</td>\n",
       "    </tr>\n",
       "  </tbody>\n",
       "</table>\n",
       "<p>381385 rows × 5 columns</p>\n",
       "</div>"
      ],
      "text/plain": [
       "            id  user_id  item_id  context_feature_id  item_feature_id\n",
       "0            0        4    16835                   2              142\n",
       "1            1        4    22590                   3              142\n",
       "2            2        4     1978                   1              142\n",
       "3            3        4    28916                   1              148\n",
       "4            4        4    14427                   2               63\n",
       "...        ...      ...      ...                 ...              ...\n",
       "381380  381380   200151     1702                   1              139\n",
       "381381  381381   200151    21632                   1              130\n",
       "381382  381382   200151    30477                   1              130\n",
       "381383  381383   200151    30477                   1              130\n",
       "381384  381384   200151    17715                   1              138\n",
       "\n",
       "[381385 rows x 5 columns]"
      ]
     },
     "execution_count": 132,
     "metadata": {},
     "output_type": "execute_result"
    }
   ],
   "source": [
    "df_test"
   ]
  },
  {
   "cell_type": "code",
   "execution_count": 133,
   "id": "94606572",
   "metadata": {},
   "outputs": [],
   "source": [
    "#df_train = encode_data(df_new)\n",
    "df_val = encode_data(df_test, train)"
   ]
  },
  {
   "cell_type": "code",
   "execution_count": 134,
   "id": "a0b80483",
   "metadata": {},
   "outputs": [
    {
     "data": {
      "text/html": [
       "<div>\n",
       "<style scoped>\n",
       "    .dataframe tbody tr th:only-of-type {\n",
       "        vertical-align: middle;\n",
       "    }\n",
       "\n",
       "    .dataframe tbody tr th {\n",
       "        vertical-align: top;\n",
       "    }\n",
       "\n",
       "    .dataframe thead th {\n",
       "        text-align: right;\n",
       "    }\n",
       "</style>\n",
       "<table border=\"1\" class=\"dataframe\">\n",
       "  <thead>\n",
       "    <tr style=\"text-align: right;\">\n",
       "      <th></th>\n",
       "      <th>id</th>\n",
       "      <th>user_id</th>\n",
       "      <th>item_id</th>\n",
       "      <th>context_feature_id</th>\n",
       "      <th>item_feature_id</th>\n",
       "    </tr>\n",
       "  </thead>\n",
       "  <tbody>\n",
       "    <tr>\n",
       "      <th>0</th>\n",
       "      <td>0</td>\n",
       "      <td>84785</td>\n",
       "      <td>9715</td>\n",
       "      <td>0</td>\n",
       "      <td>15</td>\n",
       "    </tr>\n",
       "    <tr>\n",
       "      <th>1</th>\n",
       "      <td>1</td>\n",
       "      <td>84785</td>\n",
       "      <td>12694</td>\n",
       "      <td>2</td>\n",
       "      <td>15</td>\n",
       "    </tr>\n",
       "    <tr>\n",
       "      <th>2</th>\n",
       "      <td>2</td>\n",
       "      <td>84785</td>\n",
       "      <td>2883</td>\n",
       "      <td>1</td>\n",
       "      <td>15</td>\n",
       "    </tr>\n",
       "    <tr>\n",
       "      <th>3</th>\n",
       "      <td>3</td>\n",
       "      <td>84785</td>\n",
       "      <td>35203</td>\n",
       "      <td>1</td>\n",
       "      <td>22</td>\n",
       "    </tr>\n",
       "    <tr>\n",
       "      <th>4</th>\n",
       "      <td>4</td>\n",
       "      <td>84785</td>\n",
       "      <td>16321</td>\n",
       "      <td>0</td>\n",
       "      <td>12</td>\n",
       "    </tr>\n",
       "    <tr>\n",
       "      <th>...</th>\n",
       "      <td>...</td>\n",
       "      <td>...</td>\n",
       "      <td>...</td>\n",
       "      <td>...</td>\n",
       "      <td>...</td>\n",
       "    </tr>\n",
       "    <tr>\n",
       "      <th>381380</th>\n",
       "      <td>381380</td>\n",
       "      <td>84785</td>\n",
       "      <td>5144</td>\n",
       "      <td>1</td>\n",
       "      <td>20</td>\n",
       "    </tr>\n",
       "    <tr>\n",
       "      <th>381381</th>\n",
       "      <td>381381</td>\n",
       "      <td>84785</td>\n",
       "      <td>966</td>\n",
       "      <td>1</td>\n",
       "      <td>54</td>\n",
       "    </tr>\n",
       "    <tr>\n",
       "      <th>381382</th>\n",
       "      <td>381382</td>\n",
       "      <td>84785</td>\n",
       "      <td>2334</td>\n",
       "      <td>1</td>\n",
       "      <td>54</td>\n",
       "    </tr>\n",
       "    <tr>\n",
       "      <th>381383</th>\n",
       "      <td>381383</td>\n",
       "      <td>84785</td>\n",
       "      <td>2334</td>\n",
       "      <td>1</td>\n",
       "      <td>54</td>\n",
       "    </tr>\n",
       "    <tr>\n",
       "      <th>381384</th>\n",
       "      <td>381384</td>\n",
       "      <td>84785</td>\n",
       "      <td>10877</td>\n",
       "      <td>1</td>\n",
       "      <td>21</td>\n",
       "    </tr>\n",
       "  </tbody>\n",
       "</table>\n",
       "<p>381385 rows × 5 columns</p>\n",
       "</div>"
      ],
      "text/plain": [
       "            id  user_id  item_id  context_feature_id  item_feature_id\n",
       "0            0    84785     9715                   0               15\n",
       "1            1    84785    12694                   2               15\n",
       "2            2    84785     2883                   1               15\n",
       "3            3    84785    35203                   1               22\n",
       "4            4    84785    16321                   0               12\n",
       "...        ...      ...      ...                 ...              ...\n",
       "381380  381380    84785     5144                   1               20\n",
       "381381  381381    84785      966                   1               54\n",
       "381382  381382    84785     2334                   1               54\n",
       "381383  381383    84785     2334                   1               54\n",
       "381384  381384    84785    10877                   1               21\n",
       "\n",
       "[381385 rows x 5 columns]"
      ]
     },
     "execution_count": 134,
     "metadata": {},
     "output_type": "execute_result"
    }
   ],
   "source": [
    "df_val"
   ]
  },
  {
   "cell_type": "code",
   "execution_count": 500,
   "id": "18f99ebc",
   "metadata": {},
   "outputs": [],
   "source": [
    "def train_epocs_final(model, epochs=10, lr=0.01, wd=0.0, unsqueeze=False):\n",
    "    optimizer = torch.optim.Adam(model.parameters(), lr=lr, weight_decay=wd)\n",
    "    model.train()\n",
    "    for i in range(epochs):\n",
    "        users = torch.LongTensor(df_train.user_id.values) # .cuda()\n",
    "        items = torch.LongTensor(df_train.item_id.values) #.cuda()\n",
    "        ratings = torch.FloatTensor(df_train.binary_ind.values) #.cuda()\n",
    "        if unsqueeze:\n",
    "            ratings = ratings.unsqueeze(1)\n",
    "        y_hat = model(users, items)\n",
    "        loss = F.binary_cross_entropy(torch.sigmoid(y_hat), ratings)\n",
    "        optimizer.zero_grad()\n",
    "        loss.backward()\n",
    "        optimizer.step()\n",
    "        print(loss.item()) "
   ]
  },
  {
   "cell_type": "code",
   "execution_count": 501,
   "id": "ec3df161",
   "metadata": {},
   "outputs": [],
   "source": [
    "num_users = len(df_train.user_id.unique())\n",
    "num_items = len(df_train.item_id.unique())"
   ]
  },
  {
   "cell_type": "code",
   "execution_count": 410,
   "id": "053ec210",
   "metadata": {},
   "outputs": [],
   "source": [
    "model.eval()\n",
    "users = torch.LongTensor(df_val.user_id.values)  # .cuda()\n",
    "items = torch.LongTensor(df_val.item_id.values)  # .cuda()\n",
    "rating = torch.sigmoid(model(users,items)).detach().numpy()"
   ]
  },
  {
   "cell_type": "code",
   "execution_count": 411,
   "id": "76d1e082",
   "metadata": {},
   "outputs": [
    {
     "data": {
      "text/plain": [
       "0.38027912"
      ]
     },
     "execution_count": 411,
     "metadata": {},
     "output_type": "execute_result"
    }
   ],
   "source": [
    "rating.mean()"
   ]
  },
  {
   "cell_type": "code",
   "execution_count": 409,
   "id": "e2f8262a",
   "metadata": {},
   "outputs": [],
   "source": [
    "df_val = df_test\n",
    "df_val = encode_data(df_val,train)"
   ]
  },
  {
   "cell_type": "code",
   "execution_count": 407,
   "id": "d8793d16",
   "metadata": {},
   "outputs": [],
   "source": [
    "df_val = df_test"
   ]
  },
  {
   "cell_type": "code",
   "execution_count": 405,
   "id": "25677ec2",
   "metadata": {},
   "outputs": [
    {
     "data": {
      "text/plain": [
       "0.11063517"
      ]
     },
     "execution_count": 405,
     "metadata": {},
     "output_type": "execute_result"
    }
   ],
   "source": [
    "rating.mean()"
   ]
  },
  {
   "cell_type": "code",
   "execution_count": 97,
   "id": "f03a3334",
   "metadata": {},
   "outputs": [],
   "source": [
    "num_users = len(train.user_id.unique())\n",
    "num_items = len(train.item_id.unique())\n",
    "num_item_features = len(train.item_feature_id.unique())"
   ]
  },
  {
   "cell_type": "code",
   "execution_count": null,
   "id": "9f4b93a8",
   "metadata": {},
   "outputs": [],
   "source": [
    "train,test = encoding(df_new,df_test)"
   ]
  },
  {
   "cell_type": "code",
   "execution_count": 138,
   "id": "7034471e",
   "metadata": {},
   "outputs": [],
   "source": [
    "model.eval()\n",
    "users = torch.LongTensor(df_val.user_id.values) #.cuda()\n",
    "items = torch.LongTensor(df_val.item_id.values) #.cuda()\n",
    "context = torch.LongTensor(df_val.context_feature_id.values)\n",
    "item_fea = torch.LongTensor(df_val.item_feature_id.values)\n",
    "rating = torch.sigmoid(model(users,items,item_fea,context)).detach().numpy()"
   ]
  },
  {
   "cell_type": "code",
   "execution_count": 195,
   "id": "e5adc60d",
   "metadata": {},
   "outputs": [],
   "source": [
    "model.eval()\n",
    "users = torch.LongTensor(test.user_id.values)  # .cuda()\n",
    "items = torch.LongTensor(test.item_id.values)  # .cuda()\n",
    "rating = torch.sigmoid(model(users,items)).detach().numpy()"
   ]
  },
  {
   "cell_type": "code",
   "execution_count": 139,
   "id": "197098a0",
   "metadata": {},
   "outputs": [
    {
     "data": {
      "text/plain": [
       "0.9614493"
      ]
     },
     "execution_count": 139,
     "metadata": {},
     "output_type": "execute_result"
    }
   ],
   "source": [
    "rating.mean()"
   ]
  },
  {
   "cell_type": "code",
   "execution_count": 193,
   "id": "937a2e8b",
   "metadata": {},
   "outputs": [
    {
     "data": {
      "text/html": [
       "<div>\n",
       "<style scoped>\n",
       "    .dataframe tbody tr th:only-of-type {\n",
       "        vertical-align: middle;\n",
       "    }\n",
       "\n",
       "    .dataframe tbody tr th {\n",
       "        vertical-align: top;\n",
       "    }\n",
       "\n",
       "    .dataframe thead th {\n",
       "        text-align: right;\n",
       "    }\n",
       "</style>\n",
       "<table border=\"1\" class=\"dataframe\">\n",
       "  <thead>\n",
       "    <tr style=\"text-align: right;\">\n",
       "      <th></th>\n",
       "      <th>id</th>\n",
       "      <th>user_id</th>\n",
       "      <th>item_id</th>\n",
       "      <th>context_feature_id</th>\n",
       "    </tr>\n",
       "  </thead>\n",
       "  <tbody>\n",
       "    <tr>\n",
       "      <th>30</th>\n",
       "      <td>30</td>\n",
       "      <td>7</td>\n",
       "      <td>1330</td>\n",
       "      <td>1</td>\n",
       "    </tr>\n",
       "    <tr>\n",
       "      <th>31</th>\n",
       "      <td>31</td>\n",
       "      <td>7</td>\n",
       "      <td>8139</td>\n",
       "      <td>1</td>\n",
       "    </tr>\n",
       "    <tr>\n",
       "      <th>32</th>\n",
       "      <td>32</td>\n",
       "      <td>7</td>\n",
       "      <td>10370</td>\n",
       "      <td>1</td>\n",
       "    </tr>\n",
       "    <tr>\n",
       "      <th>33</th>\n",
       "      <td>33</td>\n",
       "      <td>7</td>\n",
       "      <td>21772</td>\n",
       "      <td>1</td>\n",
       "    </tr>\n",
       "    <tr>\n",
       "      <th>34</th>\n",
       "      <td>34</td>\n",
       "      <td>7</td>\n",
       "      <td>1330</td>\n",
       "      <td>1</td>\n",
       "    </tr>\n",
       "    <tr>\n",
       "      <th>...</th>\n",
       "      <td>...</td>\n",
       "      <td>...</td>\n",
       "      <td>...</td>\n",
       "      <td>...</td>\n",
       "    </tr>\n",
       "    <tr>\n",
       "      <th>381380</th>\n",
       "      <td>381380</td>\n",
       "      <td>169492</td>\n",
       "      <td>2041</td>\n",
       "      <td>1</td>\n",
       "    </tr>\n",
       "    <tr>\n",
       "      <th>381381</th>\n",
       "      <td>381381</td>\n",
       "      <td>169492</td>\n",
       "      <td>265</td>\n",
       "      <td>1</td>\n",
       "    </tr>\n",
       "    <tr>\n",
       "      <th>381382</th>\n",
       "      <td>381382</td>\n",
       "      <td>169492</td>\n",
       "      <td>3131</td>\n",
       "      <td>1</td>\n",
       "    </tr>\n",
       "    <tr>\n",
       "      <th>381383</th>\n",
       "      <td>381383</td>\n",
       "      <td>169492</td>\n",
       "      <td>3131</td>\n",
       "      <td>1</td>\n",
       "    </tr>\n",
       "    <tr>\n",
       "      <th>381384</th>\n",
       "      <td>381384</td>\n",
       "      <td>169492</td>\n",
       "      <td>34264</td>\n",
       "      <td>1</td>\n",
       "    </tr>\n",
       "  </tbody>\n",
       "</table>\n",
       "<p>301069 rows × 4 columns</p>\n",
       "</div>"
      ],
      "text/plain": [
       "            id  user_id  item_id  context_feature_id\n",
       "30          30        7     1330                   1\n",
       "31          31        7     8139                   1\n",
       "32          32        7    10370                   1\n",
       "33          33        7    21772                   1\n",
       "34          34        7     1330                   1\n",
       "...        ...      ...      ...                 ...\n",
       "381380  381380   169492     2041                   1\n",
       "381381  381381   169492      265                   1\n",
       "381382  381382   169492     3131                   1\n",
       "381383  381383   169492     3131                   1\n",
       "381384  381384   169492    34264                   1\n",
       "\n",
       "[301069 rows x 4 columns]"
      ]
     },
     "execution_count": 193,
     "metadata": {},
     "output_type": "execute_result"
    }
   ],
   "source": [
    "df_val"
   ]
  },
  {
   "cell_type": "code",
   "execution_count": 412,
   "id": "70a16cdb",
   "metadata": {},
   "outputs": [],
   "source": [
    "test_copy = pd.read_csv(\"~/Downloads/test_kaggle.csv\")\n",
    "df_val['rating'] = rating\n",
    "subm_df = df_val.merge(test_copy,on = 'id',how='right')\n",
    "subm_df[\"rating\"].fillna(np.mean(rating), inplace = True)"
   ]
  },
  {
   "cell_type": "code",
   "execution_count": 413,
   "id": "4e6e92f5",
   "metadata": {},
   "outputs": [
    {
     "data": {
      "text/plain": [
       "0.38023993372917175"
      ]
     },
     "execution_count": 413,
     "metadata": {},
     "output_type": "execute_result"
    }
   ],
   "source": [
    "subm_df[\"rating\"].mean()"
   ]
  },
  {
   "cell_type": "code",
   "execution_count": null,
   "id": "916e7e96",
   "metadata": {},
   "outputs": [],
   "source": []
  },
  {
   "cell_type": "code",
   "execution_count": 198,
   "id": "33808bd9",
   "metadata": {},
   "outputs": [
    {
     "data": {
      "text/plain": [
       "0.6252628564834595"
      ]
     },
     "execution_count": 198,
     "metadata": {},
     "output_type": "execute_result"
    }
   ],
   "source": [
    "np.mean(subm_df[\"rating\"])"
   ]
  },
  {
   "cell_type": "code",
   "execution_count": 415,
   "id": "a8ec269a",
   "metadata": {},
   "outputs": [],
   "source": [
    "subm_df = subm_df[['id','rating']]"
   ]
  },
  {
   "cell_type": "code",
   "execution_count": 295,
   "id": "dbe7ce65",
   "metadata": {},
   "outputs": [],
   "source": [
    "subm_df.to_csv('~/Downloads/ai_.csv',index=False)"
   ]
  },
  {
   "cell_type": "code",
   "execution_count": 4,
   "id": "646509b2",
   "metadata": {},
   "outputs": [],
   "source": [
    "df_fan = pd.read_csv('~/Downloads/test_50.csv')"
   ]
  },
  {
   "cell_type": "code",
   "execution_count": 169,
   "id": "d2ecf672",
   "metadata": {},
   "outputs": [],
   "source": [
    "rating_updated = (df_fan['rating'].values + subm_df['rating'].values)/2\n",
    "subm_df['rating'] = rating_updated\n"
   ]
  },
  {
   "cell_type": "code",
   "execution_count": 416,
   "id": "05c86f98",
   "metadata": {},
   "outputs": [],
   "source": [
    "subm_df.to_csv('~/Downloads/md.csv',index=False)"
   ]
  },
  {
   "cell_type": "code",
   "execution_count": 414,
   "id": "34bcb117",
   "metadata": {},
   "outputs": [
    {
     "data": {
      "text/plain": [
       "rating\n",
       "0.001454        1\n",
       "0.001470        1\n",
       "0.001530        1\n",
       "0.001536        1\n",
       "0.001536        1\n",
       "            ...  \n",
       "0.526051        1\n",
       "0.526052        1\n",
       "0.526052        1\n",
       "0.526052        1\n",
       "0.526056    24965\n",
       "Length: 322665, dtype: int64"
      ]
     },
     "execution_count": 414,
     "metadata": {},
     "output_type": "execute_result"
    }
   ],
   "source": [
    "subm_df.groupby(['rating']).size()"
   ]
  },
  {
   "cell_type": "markdown",
   "id": "c644d047",
   "metadata": {},
   "source": [
    "## Try Add RF"
   ]
  },
  {
   "cell_type": "code",
   "execution_count": 315,
   "id": "8d947f0f",
   "metadata": {},
   "outputs": [],
   "source": [
    "enc = preprocessing.OneHotEncoder(handle_unknown = 'ignore')"
   ]
  },
  {
   "cell_type": "code",
   "execution_count": 330,
   "id": "787b8fd9",
   "metadata": {},
   "outputs": [
    {
     "data": {
      "text/html": [
       "<div>\n",
       "<style scoped>\n",
       "    .dataframe tbody tr th:only-of-type {\n",
       "        vertical-align: middle;\n",
       "    }\n",
       "\n",
       "    .dataframe tbody tr th {\n",
       "        vertical-align: top;\n",
       "    }\n",
       "\n",
       "    .dataframe thead th {\n",
       "        text-align: right;\n",
       "    }\n",
       "</style>\n",
       "<table border=\"1\" class=\"dataframe\">\n",
       "  <thead>\n",
       "    <tr style=\"text-align: right;\">\n",
       "      <th></th>\n",
       "      <th>item_id</th>\n",
       "      <th>context_feature_id</th>\n",
       "      <th>item_feature_id</th>\n",
       "    </tr>\n",
       "  </thead>\n",
       "  <tbody>\n",
       "    <tr>\n",
       "      <th>0</th>\n",
       "      <td>28366</td>\n",
       "      <td>2</td>\n",
       "      <td>7</td>\n",
       "    </tr>\n",
       "    <tr>\n",
       "      <th>1</th>\n",
       "      <td>16109</td>\n",
       "      <td>2</td>\n",
       "      <td>7</td>\n",
       "    </tr>\n",
       "    <tr>\n",
       "      <th>2</th>\n",
       "      <td>11500</td>\n",
       "      <td>3</td>\n",
       "      <td>7</td>\n",
       "    </tr>\n",
       "    <tr>\n",
       "      <th>3</th>\n",
       "      <td>20750</td>\n",
       "      <td>2</td>\n",
       "      <td>7</td>\n",
       "    </tr>\n",
       "    <tr>\n",
       "      <th>4</th>\n",
       "      <td>8759</td>\n",
       "      <td>2</td>\n",
       "      <td>7</td>\n",
       "    </tr>\n",
       "    <tr>\n",
       "      <th>...</th>\n",
       "      <td>...</td>\n",
       "      <td>...</td>\n",
       "      <td>...</td>\n",
       "    </tr>\n",
       "    <tr>\n",
       "      <th>892366</th>\n",
       "      <td>11393</td>\n",
       "      <td>2</td>\n",
       "      <td>47</td>\n",
       "    </tr>\n",
       "    <tr>\n",
       "      <th>892367</th>\n",
       "      <td>627</td>\n",
       "      <td>2</td>\n",
       "      <td>180</td>\n",
       "    </tr>\n",
       "    <tr>\n",
       "      <th>892368</th>\n",
       "      <td>29876</td>\n",
       "      <td>2</td>\n",
       "      <td>180</td>\n",
       "    </tr>\n",
       "    <tr>\n",
       "      <th>892369</th>\n",
       "      <td>14709</td>\n",
       "      <td>2</td>\n",
       "      <td>6</td>\n",
       "    </tr>\n",
       "    <tr>\n",
       "      <th>892370</th>\n",
       "      <td>35918</td>\n",
       "      <td>2</td>\n",
       "      <td>110</td>\n",
       "    </tr>\n",
       "  </tbody>\n",
       "</table>\n",
       "<p>1746609 rows × 3 columns</p>\n",
       "</div>"
      ],
      "text/plain": [
       "        item_id  context_feature_id  item_feature_id\n",
       "0         28366                   2                7\n",
       "1         16109                   2                7\n",
       "2         11500                   3                7\n",
       "3         20750                   2                7\n",
       "4          8759                   2                7\n",
       "...         ...                 ...              ...\n",
       "892366    11393                   2               47\n",
       "892367      627                   2              180\n",
       "892368    29876                   2              180\n",
       "892369    14709                   2                6\n",
       "892370    35918                   2              110\n",
       "\n",
       "[1746609 rows x 3 columns]"
      ]
     },
     "execution_count": 330,
     "metadata": {},
     "output_type": "execute_result"
    }
   ],
   "source": [
    "df_rf = df_new[['item_id','context_feature_id','item_feature_id']]\n",
    "df_rf"
   ]
  },
  {
   "cell_type": "code",
   "execution_count": 331,
   "id": "b36c3e00",
   "metadata": {},
   "outputs": [
    {
     "data": {
      "text/plain": [
       "OneHotEncoder(handle_unknown='ignore')"
      ]
     },
     "execution_count": 331,
     "metadata": {},
     "output_type": "execute_result"
    }
   ],
   "source": [
    "enc.fit(df_rf)"
   ]
  },
  {
   "cell_type": "code",
   "execution_count": null,
   "id": "aa992161",
   "metadata": {},
   "outputs": [],
   "source": [
    "onehotlabels = enc.transform(df_rf).toarray()\n",
    "onehotlabels.shape"
   ]
  },
  {
   "cell_type": "code",
   "execution_count": 320,
   "id": "8ecf5845",
   "metadata": {},
   "outputs": [],
   "source": [
    "Y_train = df_new['binary_ind']"
   ]
  },
  {
   "cell_type": "code",
   "execution_count": 321,
   "id": "9d4e5b67",
   "metadata": {},
   "outputs": [
    {
     "data": {
      "text/plain": [
       "RandomForestClassifier(max_depth=5, random_state=0)"
      ]
     },
     "execution_count": 321,
     "metadata": {},
     "output_type": "execute_result"
    }
   ],
   "source": [
    "from sklearn.ensemble import RandomForestClassifier\n",
    "from sklearn.datasets import make_classification\n",
    "X, y = make_classification(n_samples=1746609, n_features=187,n_informative=2, n_redundant=0,random_state=0, shuffle=False)\n",
    "clf = RandomForestClassifier(max_depth=5, random_state=0)\n",
    "clf.fit(onehotlabels, Y_train)"
   ]
  },
  {
   "cell_type": "code",
   "execution_count": 322,
   "id": "067ec6b9",
   "metadata": {},
   "outputs": [],
   "source": [
    "test_copy = pd.read_csv(\"~/Downloads/test_kaggle.csv\")"
   ]
  },
  {
   "cell_type": "code",
   "execution_count": 323,
   "id": "56377c3f",
   "metadata": {},
   "outputs": [
    {
     "data": {
      "text/html": [
       "<div>\n",
       "<style scoped>\n",
       "    .dataframe tbody tr th:only-of-type {\n",
       "        vertical-align: middle;\n",
       "    }\n",
       "\n",
       "    .dataframe tbody tr th {\n",
       "        vertical-align: top;\n",
       "    }\n",
       "\n",
       "    .dataframe thead th {\n",
       "        text-align: right;\n",
       "    }\n",
       "</style>\n",
       "<table border=\"1\" class=\"dataframe\">\n",
       "  <thead>\n",
       "    <tr style=\"text-align: right;\">\n",
       "      <th></th>\n",
       "      <th>id</th>\n",
       "      <th>user_id</th>\n",
       "      <th>item_id</th>\n",
       "      <th>context_feature_id</th>\n",
       "      <th>item_feature_id</th>\n",
       "    </tr>\n",
       "  </thead>\n",
       "  <tbody>\n",
       "    <tr>\n",
       "      <th>0</th>\n",
       "      <td>0</td>\n",
       "      <td>4</td>\n",
       "      <td>16835</td>\n",
       "      <td>2</td>\n",
       "      <td>142</td>\n",
       "    </tr>\n",
       "    <tr>\n",
       "      <th>1</th>\n",
       "      <td>1</td>\n",
       "      <td>4</td>\n",
       "      <td>22590</td>\n",
       "      <td>3</td>\n",
       "      <td>142</td>\n",
       "    </tr>\n",
       "    <tr>\n",
       "      <th>2</th>\n",
       "      <td>2</td>\n",
       "      <td>4</td>\n",
       "      <td>1978</td>\n",
       "      <td>1</td>\n",
       "      <td>142</td>\n",
       "    </tr>\n",
       "    <tr>\n",
       "      <th>3</th>\n",
       "      <td>3</td>\n",
       "      <td>4</td>\n",
       "      <td>28916</td>\n",
       "      <td>1</td>\n",
       "      <td>148</td>\n",
       "    </tr>\n",
       "    <tr>\n",
       "      <th>4</th>\n",
       "      <td>4</td>\n",
       "      <td>4</td>\n",
       "      <td>14427</td>\n",
       "      <td>2</td>\n",
       "      <td>63</td>\n",
       "    </tr>\n",
       "    <tr>\n",
       "      <th>...</th>\n",
       "      <td>...</td>\n",
       "      <td>...</td>\n",
       "      <td>...</td>\n",
       "      <td>...</td>\n",
       "      <td>...</td>\n",
       "    </tr>\n",
       "    <tr>\n",
       "      <th>381380</th>\n",
       "      <td>381380</td>\n",
       "      <td>200151</td>\n",
       "      <td>1702</td>\n",
       "      <td>1</td>\n",
       "      <td>139</td>\n",
       "    </tr>\n",
       "    <tr>\n",
       "      <th>381381</th>\n",
       "      <td>381381</td>\n",
       "      <td>200151</td>\n",
       "      <td>21632</td>\n",
       "      <td>1</td>\n",
       "      <td>130</td>\n",
       "    </tr>\n",
       "    <tr>\n",
       "      <th>381382</th>\n",
       "      <td>381382</td>\n",
       "      <td>200151</td>\n",
       "      <td>30477</td>\n",
       "      <td>1</td>\n",
       "      <td>130</td>\n",
       "    </tr>\n",
       "    <tr>\n",
       "      <th>381383</th>\n",
       "      <td>381383</td>\n",
       "      <td>200151</td>\n",
       "      <td>30477</td>\n",
       "      <td>1</td>\n",
       "      <td>130</td>\n",
       "    </tr>\n",
       "    <tr>\n",
       "      <th>381384</th>\n",
       "      <td>381384</td>\n",
       "      <td>200151</td>\n",
       "      <td>17715</td>\n",
       "      <td>1</td>\n",
       "      <td>138</td>\n",
       "    </tr>\n",
       "  </tbody>\n",
       "</table>\n",
       "<p>381385 rows × 5 columns</p>\n",
       "</div>"
      ],
      "text/plain": [
       "            id  user_id  item_id  context_feature_id  item_feature_id\n",
       "0            0        4    16835                   2              142\n",
       "1            1        4    22590                   3              142\n",
       "2            2        4     1978                   1              142\n",
       "3            3        4    28916                   1              148\n",
       "4            4        4    14427                   2               63\n",
       "...        ...      ...      ...                 ...              ...\n",
       "381380  381380   200151     1702                   1              139\n",
       "381381  381381   200151    21632                   1              130\n",
       "381382  381382   200151    30477                   1              130\n",
       "381383  381383   200151    30477                   1              130\n",
       "381384  381384   200151    17715                   1              138\n",
       "\n",
       "[381385 rows x 5 columns]"
      ]
     },
     "execution_count": 323,
     "metadata": {},
     "output_type": "execute_result"
    }
   ],
   "source": [
    "test = merge_df(test_copy,df_feature,'item_id')\n",
    "test"
   ]
  },
  {
   "cell_type": "code",
   "execution_count": 324,
   "id": "3bfa40d1",
   "metadata": {},
   "outputs": [],
   "source": [
    "X_test = enc.transform(test[['context_feature_id','item_feature_id']])"
   ]
  },
  {
   "cell_type": "code",
   "execution_count": 325,
   "id": "42117e46",
   "metadata": {},
   "outputs": [],
   "source": [
    "rating_ = clf.predict_proba(X_test)\n",
    "rating_ = [i[1] for i in rating_]"
   ]
  },
  {
   "cell_type": "code",
   "execution_count": 326,
   "id": "12daaa3e",
   "metadata": {},
   "outputs": [
    {
     "data": {
      "text/plain": [
       "0.6285880908934081"
      ]
     },
     "execution_count": 326,
     "metadata": {},
     "output_type": "execute_result"
    }
   ],
   "source": [
    "np.array(rating_).mean()"
   ]
  },
  {
   "cell_type": "code",
   "execution_count": 327,
   "id": "a0763826",
   "metadata": {},
   "outputs": [],
   "source": [
    "last_df['rating'] = rating_"
   ]
  },
  {
   "cell_type": "code",
   "execution_count": 3,
   "id": "6c99b37c",
   "metadata": {},
   "outputs": [],
   "source": [
    "last_df = pd.read_csv('~/Downloads/wuuhuu.csv')"
   ]
  },
  {
   "cell_type": "code",
   "execution_count": 5,
   "id": "6b99f782",
   "metadata": {},
   "outputs": [],
   "source": [
    "rating_updated = (df_fan['rating'].values + last_df['rating'].values)/2\n",
    "last_df['rating'] = rating_updated"
   ]
  },
  {
   "cell_type": "code",
   "execution_count": 7,
   "id": "02d178d1",
   "metadata": {},
   "outputs": [],
   "source": [
    "last_df.to_csv('~/Downloads/jiayou.csv',index=False)"
   ]
  },
  {
   "cell_type": "code",
   "execution_count": 9,
   "id": "cac4d27e",
   "metadata": {},
   "outputs": [
    {
     "data": {
      "text/plain": [
       "0.5993375468072648"
      ]
     },
     "execution_count": 9,
     "metadata": {},
     "output_type": "execute_result"
    }
   ],
   "source": [
    "last_df['rating'].mean()"
   ]
  },
  {
   "cell_type": "code",
   "execution_count": 10,
   "id": "aceeadae",
   "metadata": {},
   "outputs": [
    {
     "data": {
      "text/plain": [
       "0.5993375468072624"
      ]
     },
     "execution_count": 10,
     "metadata": {},
     "output_type": "execute_result"
    }
   ],
   "source": [
    "rating_updated.mean()"
   ]
  },
  {
   "cell_type": "code",
   "execution_count": 11,
   "id": "5e918b88",
   "metadata": {},
   "outputs": [
    {
     "data": {
      "text/plain": [
       "0.5700870027211178"
      ]
     },
     "execution_count": 11,
     "metadata": {},
     "output_type": "execute_result"
    }
   ],
   "source": [
    "df_fan['rating'].mean()"
   ]
  },
  {
   "cell_type": "code",
   "execution_count": 298,
   "id": "e4f6b3db",
   "metadata": {},
   "outputs": [
    {
     "data": {
      "text/html": [
       "<div>\n",
       "<style scoped>\n",
       "    .dataframe tbody tr th:only-of-type {\n",
       "        vertical-align: middle;\n",
       "    }\n",
       "\n",
       "    .dataframe tbody tr th {\n",
       "        vertical-align: top;\n",
       "    }\n",
       "\n",
       "    .dataframe thead th {\n",
       "        text-align: right;\n",
       "    }\n",
       "</style>\n",
       "<table border=\"1\" class=\"dataframe\">\n",
       "  <thead>\n",
       "    <tr style=\"text-align: right;\">\n",
       "      <th></th>\n",
       "      <th>id</th>\n",
       "      <th>rating</th>\n",
       "    </tr>\n",
       "  </thead>\n",
       "  <tbody>\n",
       "    <tr>\n",
       "      <th>0</th>\n",
       "      <td>0</td>\n",
       "      <td>0.385454</td>\n",
       "    </tr>\n",
       "    <tr>\n",
       "      <th>1</th>\n",
       "      <td>1</td>\n",
       "      <td>0.563619</td>\n",
       "    </tr>\n",
       "    <tr>\n",
       "      <th>2</th>\n",
       "      <td>2</td>\n",
       "      <td>0.552722</td>\n",
       "    </tr>\n",
       "    <tr>\n",
       "      <th>3</th>\n",
       "      <td>3</td>\n",
       "      <td>0.537018</td>\n",
       "    </tr>\n",
       "    <tr>\n",
       "      <th>4</th>\n",
       "      <td>4</td>\n",
       "      <td>0.347506</td>\n",
       "    </tr>\n",
       "    <tr>\n",
       "      <th>...</th>\n",
       "      <td>...</td>\n",
       "      <td>...</td>\n",
       "    </tr>\n",
       "    <tr>\n",
       "      <th>381380</th>\n",
       "      <td>381380</td>\n",
       "      <td>0.565243</td>\n",
       "    </tr>\n",
       "    <tr>\n",
       "      <th>381381</th>\n",
       "      <td>381381</td>\n",
       "      <td>0.481717</td>\n",
       "    </tr>\n",
       "    <tr>\n",
       "      <th>381382</th>\n",
       "      <td>381382</td>\n",
       "      <td>0.481717</td>\n",
       "    </tr>\n",
       "    <tr>\n",
       "      <th>381383</th>\n",
       "      <td>381383</td>\n",
       "      <td>0.481717</td>\n",
       "    </tr>\n",
       "    <tr>\n",
       "      <th>381384</th>\n",
       "      <td>381384</td>\n",
       "      <td>0.544255</td>\n",
       "    </tr>\n",
       "  </tbody>\n",
       "</table>\n",
       "<p>381385 rows × 2 columns</p>\n",
       "</div>"
      ],
      "text/plain": [
       "            id    rating\n",
       "0            0  0.385454\n",
       "1            1  0.563619\n",
       "2            2  0.552722\n",
       "3            3  0.537018\n",
       "4            4  0.347506\n",
       "...        ...       ...\n",
       "381380  381380  0.565243\n",
       "381381  381381  0.481717\n",
       "381382  381382  0.481717\n",
       "381383  381383  0.481717\n",
       "381384  381384  0.544255\n",
       "\n",
       "[381385 rows x 2 columns]"
      ]
     },
     "execution_count": 298,
     "metadata": {},
     "output_type": "execute_result"
    }
   ],
   "source": [
    "last_df"
   ]
  },
  {
   "cell_type": "code",
   "execution_count": 58,
   "id": "1cc510dc",
   "metadata": {},
   "outputs": [],
   "source": [
    "df_bu = pd.read_csv('~/Downloads/gn.csv')"
   ]
  },
  {
   "cell_type": "code",
   "execution_count": 61,
   "id": "96b38737",
   "metadata": {},
   "outputs": [],
   "source": [
    "wuhu = df_bu['rating'].values"
   ]
  },
  {
   "cell_type": "code",
   "execution_count": 65,
   "id": "ea3524ee",
   "metadata": {},
   "outputs": [],
   "source": [
    "import math"
   ]
  },
  {
   "cell_type": "code",
   "execution_count": 75,
   "id": "ddd91923",
   "metadata": {},
   "outputs": [
    {
     "data": {
      "text/plain": [
       "0.2727748526210699"
      ]
     },
     "execution_count": 75,
     "metadata": {},
     "output_type": "execute_result"
    }
   ],
   "source": [
    "-math.log((1 /0.567774) - 1)"
   ]
  },
  {
   "cell_type": "code",
   "execution_count": 70,
   "id": "f1db0101",
   "metadata": {},
   "outputs": [
    {
     "data": {
      "text/plain": [
       "array([0.5677805, 0.5677805, 0.5677805, ..., 0.5677805, 0.5677805,\n",
       "       0.5677805])"
      ]
     },
     "execution_count": 70,
     "metadata": {},
     "output_type": "execute_result"
    }
   ],
   "source": [
    "0.5677805"
   ]
  },
  {
   "cell_type": "code",
   "execution_count": 72,
   "id": "1c14575b",
   "metadata": {},
   "outputs": [
    {
     "data": {
      "text/plain": [
       "rating\n",
       "0.002564         1\n",
       "0.002609         1\n",
       "0.002634         1\n",
       "0.002651         1\n",
       "0.002654         1\n",
       "             ...  \n",
       "0.567772         1\n",
       "0.567774         1\n",
       "0.567775         1\n",
       "0.567775         1\n",
       "0.567781    359614\n",
       "Length: 19617, dtype: int64"
      ]
     },
     "execution_count": 72,
     "metadata": {},
     "output_type": "execute_result"
    }
   ],
   "source": [
    "df_bu.groupby('rating').size()"
   ]
  },
  {
   "cell_type": "code",
   "execution_count": null,
   "id": "f2492e0f",
   "metadata": {},
   "outputs": [],
   "source": []
  }
 ],
 "metadata": {
  "kernelspec": {
   "display_name": "Python 3",
   "language": "python",
   "name": "python3"
  },
  "language_info": {
   "codemirror_mode": {
    "name": "ipython",
    "version": 3
   },
   "file_extension": ".py",
   "mimetype": "text/x-python",
   "name": "python",
   "nbconvert_exporter": "python",
   "pygments_lexer": "ipython3",
   "version": "3.8.8"
  }
 },
 "nbformat": 4,
 "nbformat_minor": 5
}
